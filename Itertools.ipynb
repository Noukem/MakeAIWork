{
 "cells": [
  {
   "cell_type": "code",
   "execution_count": null,
   "id": "d50d5523-2f19-44d5-918a-76bac95c8081",
   "metadata": {
    "tags": []
   },
   "outputs": [],
   "source": [
    "import random\n",
    "import itertools\n",
    "\n",
    "alf=\"ABCDEFGHIJKLMNOPQRSTUVWXYZ\"\n",
    "cijf =\"1234567890\"\n",
    "trekking_nr =0\n",
    "\n",
    "n=int(input('hoeveel trekkingen wil je zien? let op dit kan even duren :p'))\n",
    " \n",
    "deel_1= list(itertools.product(alf,alf,cijf,cijf,cijf,cijf,cijf))\n",
    "\n",
    "for x in range(n):\n",
    "    trekking_nr += 1\n",
    "    trekking =random.choice(deel_1)\n",
    "    deel_1.remove(trekking)\n",
    "    print (f'De {trekking_nr}e trekking is : {trekking}')\n",
    "\n",
    "\n"
   ]
  },
  {
   "cell_type": "code",
   "execution_count": null,
   "id": "29cffdf5-1952-4fb4-874b-188214748320",
   "metadata": {},
   "outputs": [],
   "source": []
  },
  {
   "cell_type": "code",
   "execution_count": null,
   "id": "2a1a5b9e-df31-44cc-888a-6a823642b330",
   "metadata": {},
   "outputs": [],
   "source": []
  }
 ],
 "metadata": {
  "kernelspec": {
   "display_name": "Python 3 (ipykernel)",
   "language": "python",
   "name": "python3"
  },
  "language_info": {
   "codemirror_mode": {
    "name": "ipython",
    "version": 3
   },
   "file_extension": ".py",
   "mimetype": "text/x-python",
   "name": "python",
   "nbconvert_exporter": "python",
   "pygments_lexer": "ipython3",
   "version": "3.10.10"
  }
 },
 "nbformat": 4,
 "nbformat_minor": 5
}
