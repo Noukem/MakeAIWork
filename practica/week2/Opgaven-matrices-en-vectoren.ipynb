{
 "cells": [
  {
   "cell_type": "markdown",
   "id": "2ea724be",
   "metadata": {},
   "source": [
    "# Matrices en vectoren"
   ]
  },
  {
   "cell_type": "markdown",
   "id": "18595eca",
   "metadata": {},
   "source": [
    "Er zijn meerdere manieren om een matrix te representeren.\n",
    "\n",
    "Hier kiezen we voor het volgende datamodel:\n",
    "\n",
    "`matrix_2D :: {rows: int, cols: int, data: []}`\n",
    "\n",
    "Implementeer onderstaande opdrachten in Python."
   ]
  },
  {
   "cell_type": "markdown",
   "id": "42182308",
   "metadata": {},
   "source": [
    "## Vectoren"
   ]
  },
  {
   "cell_type": "markdown",
   "id": "db43ccb1",
   "metadata": {},
   "source": [
    "### 1. Een vector als rij*"
   ]
  },
  {
   "cell_type": "markdown",
   "id": "e9ac731a",
   "metadata": {},
   "source": [
    "Representeer de onderstaande vector in code:\n",
    "\n",
    "$$\n",
    "  \\begin{pmatrix}\n",
    "    1 & 2 & 3\n",
    "  \\end{pmatrix}\n",
    "$$"
   ]
  },
  {
   "cell_type": "code",
   "execution_count": 9,
   "id": "72c55633",
   "metadata": {
    "tags": []
   },
   "outputs": [],
   "source": [
    "# How many rows and colums does this vector have?\n",
    "# Use the definition at the top to implement this vector:\n",
    "\n",
    "matrix_2D: vec = {'rows': 1, 'cols': 3, 'data': [1, 2, 3]}\n",
    "\n",
    "# Can you print its dimensions? (rows, cols)\n",
    "\n",
    "# 1 x 3\n",
    "\n",
    "# Can you print the number of elements?\n",
    "\n",
    "# 3"
   ]
  },
  {
   "cell_type": "markdown",
   "id": "0abbc0ad",
   "metadata": {},
   "source": [
    "### 2. Een vector als kolom*"
   ]
  },
  {
   "cell_type": "markdown",
   "id": "ac4f647f",
   "metadata": {},
   "source": [
    "Representeer de onderstaande vector in code:\n",
    "\n",
    "$$\n",
    "  \\begin{pmatrix}\n",
    "    1 \\\\\n",
    "    2 \\\\\n",
    "    3\n",
    "  \\end{pmatrix}\n",
    "$$"
   ]
  },
  {
   "cell_type": "code",
   "execution_count": 16,
   "id": "f4f6bfc9",
   "metadata": {
    "tags": []
   },
   "outputs": [
    {
     "name": "stdout",
     "output_type": "stream",
     "text": [
      "{'rows': 3, 'cols': 1, 'data': [1, 2, 3]}\n"
     ]
    }
   ],
   "source": [
    "# How many rows and colums does this vector have?\n",
    "\n",
    "# 3 rows, 1 column\n",
    "\n",
    "# Use the definition at the top to implement this vector:\n",
    "\n",
    "matrix_2D : vec = {'rows': 3, 'cols': 1, 'data': [1, 2, 3]}\n",
    "\n",
    "# Can you print its dimensions? (rows, cols)\n",
    "# 3 x 1\n",
    "\n",
    "# Can you print the number of elements?\n",
    "print(vec)\n"
   ]
  },
  {
   "cell_type": "markdown",
   "id": "8de02084",
   "metadata": {},
   "source": [
    "### 3. Vectoren optellen**"
   ]
  },
  {
   "cell_type": "markdown",
   "id": "c2edbb39",
   "metadata": {},
   "source": [
    "Tel de onderstaande vectoren bij elkaar op:\n",
    "\n",
    "$$\n",
    "  \\begin{pmatrix}\n",
    "    1 \\\\\n",
    "    2 \\\\\n",
    "    3\n",
    "  \\end{pmatrix}\n",
    "  +\n",
    "    \\begin{pmatrix}\n",
    "    9 \\\\\n",
    "    8 \\\\\n",
    "    7\n",
    "  \\end{pmatrix}\n",
    "  =\n",
    "  ...\n",
    "$$"
   ]
  },
  {
   "cell_type": "code",
   "execution_count": 105,
   "id": "9fd6bc2a",
   "metadata": {
    "tags": []
   },
   "outputs": [
    {
     "name": "stdout",
     "output_type": "stream",
     "text": [
      "3 1\n",
      "3 1\n",
      "[1, 2, 3] [9, 8, 7]\n",
      "[10, 10, 10]\n"
     ]
    }
   ],
   "source": [
    "# Implement both vectors:\n",
    "\n",
    "vec1 =  {'rows': 3, 'cols': 1, 'data': [1, 2, 3]}\n",
    "vec2 =  {'rows': 3, 'cols': 1, 'data': [9, 8, 7]}\n",
    "\n",
    "\n",
    "# Can we add them? Check if dimensions are the same:\n",
    "x1 = vec1[\"rows\"]\n",
    "x2 = vec1[\"cols\"]\n",
    "print(x1, x2)\n",
    "\n",
    "y1= vec2[\"rows\"]\n",
    "y2= vec2[\"cols\"]\n",
    "print(y1, y2)\n",
    "\n",
    "# How do you add these vectors by hand?\n",
    "x1 = vec1[\"data\"]\n",
    "x2 = vec2[\"data\"]\n",
    "print(x1, x2)\n",
    "\n",
    "# [1, 2, 3] +  = [10, 10, 10] \n",
    "# [9, 8, 7]\n",
    "\n",
    "print([(1 + 9),(2 + 8), (3+7)])\n",
    "\n",
    "\n"
   ]
  },
  {
   "cell_type": "code",
   "execution_count": 100,
   "id": "d7ec85ad-aa56-45da-bb32-b6052f90dd9e",
   "metadata": {},
   "outputs": [
    {
     "name": "stdout",
     "output_type": "stream",
     "text": [
      "(10, 10, 10)\n"
     ]
    }
   ],
   "source": [
    "# Now add the vectors in code:\n",
    "vecTotal = (vec1[\"data\"][0]+ vec2[\"data\"][0]),(vec1[\"data\"][1]+ vec2[\"data\"][1]),(vec1[\"data\"][2]+ vec2[\"data\"][2])\n",
    "\n",
    "print(vecTotal)\n",
    "\n",
    "\n",
    "\n"
   ]
  },
  {
   "cell_type": "markdown",
   "id": "10e3be49",
   "metadata": {},
   "source": [
    "Tel de onderstaande vectoren bij elkaar op:\n",
    "\n",
    "$$\n",
    "  \\begin{pmatrix}\n",
    "    1 & 2 & 3\n",
    "  \\end{pmatrix}\n",
    "  +\n",
    "  \\begin{pmatrix}\n",
    "    9 & 8 & 7\n",
    "  \\end{pmatrix}\n",
    "  =\n",
    "  ...\n",
    "$$"
   ]
  },
  {
   "cell_type": "code",
   "execution_count": 135,
   "id": "3319db0c",
   "metadata": {
    "tags": []
   },
   "outputs": [
    {
     "name": "stdout",
     "output_type": "stream",
     "text": [
      "1 3\n",
      "1 3\n",
      "[1, 2, 3] [9, 8, 7]\n",
      "(10, 10, 10)\n"
     ]
    }
   ],
   "source": [
    "# Implement both vectors:\n",
    "\n",
    "vec1 =  {'rows': 1, 'cols': 3, 'data': [1, 2, 3]}\n",
    "vec2 =  {'rows': 1, 'cols': 3, 'data': [9, 8, 7]}\n",
    "\n",
    "# Can we add them? Check if dimensions are the same:\n",
    "\n",
    "x1 = vec1[\"rows\"]\n",
    "x2 = vec1[\"cols\"]\n",
    "print(x1, x2)\n",
    "\n",
    "y1= vec2[\"rows\"]\n",
    "y2= vec2[\"cols\"]\n",
    "print(y1, y2)\n",
    "\n",
    "# How do you add these vectors by hand?\n",
    "# As before, bc values and amount of 'data' are the same. \n",
    "\n",
    "x1 = vec1[\"data\"]\n",
    "x2 = vec2[\"data\"]\n",
    "print(x1, x2)\n",
    "\n",
    "# [1, 2, 3] +  = [10, 10, 10] \n",
    "# [9, 8, 7]\n",
    "\n",
    "\n",
    "# Now add the vectors in code:\n",
    "vecTotal = (vec1[\"data\"][0]+ vec2[\"data\"][0]),(vec1[\"data\"][1]+ vec2[\"data\"][1]),(vec1[\"data\"][2]+ vec2[\"data\"][2])\n",
    "\n",
    "print(vecTotal)\n"
   ]
  },
  {
   "cell_type": "markdown",
   "id": "ecf7d53a",
   "metadata": {},
   "source": [
    "## Matrices"
   ]
  },
  {
   "cell_type": "markdown",
   "id": "aea58d0c",
   "metadata": {},
   "source": [
    "### 1. Een 3 x 3 matrix*"
   ]
  },
  {
   "cell_type": "markdown",
   "id": "8ecdf748",
   "metadata": {},
   "source": [
    "Representeer de onderstaande matrix in code:\n",
    "\n",
    "$$\n",
    "  \\begin{pmatrix}\n",
    "    1 & 2 & 3\\\\\n",
    "    4 & 5 & 6\\\\\n",
    "    7 & 8 & 9\\\\\n",
    "  \\end{pmatrix}\n",
    "$$"
   ]
  },
  {
   "cell_type": "code",
   "execution_count": 117,
   "id": "744a8d77",
   "metadata": {
    "tags": []
   },
   "outputs": [
    {
     "name": "stdout",
     "output_type": "stream",
     "text": [
      "3 x 3\n",
      "9\n"
     ]
    }
   ],
   "source": [
    "# How many rows and colums does this matrix have?\n",
    " # 3 rows, 3 colums \n",
    "\n",
    "# Use the definition at the top to implement this matrix:\n",
    "mat =  {'rows': 3, 'cols': 3, 'data': [1, 2, 3, 4, 5, 6, 7, 8, 9]}\n",
    "\n",
    "\n",
    "# Can you print its dimensions? (rows, cols)\n",
    "x1 = mat[\"rows\"]\n",
    "x2 = mat[\"cols\"]\n",
    "print(x1, 'x', x2)\n",
    "\n",
    "# Can you print the number of elements?\n",
    "elements = len(mat[\"data\"])\n",
    "print(elements)"
   ]
  },
  {
   "cell_type": "markdown",
   "id": "78d195fb",
   "metadata": {},
   "source": [
    "### 2. Matrices optellen**"
   ]
  },
  {
   "cell_type": "markdown",
   "id": "1554b6d8",
   "metadata": {},
   "source": [
    "Tel de onderstaande matrices op:\n",
    "\n",
    "$$\n",
    "  \\begin{pmatrix}\n",
    "    1 & 2 & 3\\\\\n",
    "    4 & 5 & 6\\\\\n",
    "    7 & 8 & 9\\\\\n",
    "  \\end{pmatrix}\n",
    "  +\n",
    "    \\begin{pmatrix}\n",
    "    9 & 8 & 7\\\\\n",
    "    6 & 5 & 4\\\\\n",
    "    3 & 2 & 1\\\\\n",
    "  \\end{pmatrix}\n",
    "  =\n",
    "  ...\n",
    "$$"
   ]
  },
  {
   "cell_type": "code",
   "execution_count": 175,
   "id": "ac6bd48c",
   "metadata": {
    "tags": []
   },
   "outputs": [
    {
     "name": "stdout",
     "output_type": "stream",
     "text": [
      "3 x 3\n",
      "3 x 3\n",
      "dimensions = same\n"
     ]
    }
   ],
   "source": [
    "# Implement both matrices:\n",
    "\n",
    "mat1 =  {'rows': 3, 'cols': 3, 'data': [1, 2, 3, 4, 5, 6, 7, 8, 9]}\n",
    "mat2 =  {'rows': 3, 'cols': 3, 'data': [9, 8, 7, 6, 5, 4, 3, 2, 1]}\n",
    "\n",
    "# Can we add them? Check if dimensions are the same:\n",
    "mat_x1 = mat1[\"rows\"]\n",
    "mat_x2 = mat1[\"cols\"]\n",
    "print(mat_x1, 'x', mat_x2)\n",
    "\n",
    "mat_y1 = mat2[\"rows\"]\n",
    "mat_y2 = mat2[\"cols\"]\n",
    "print(mat_y1, 'x', mat_y2)\n",
    "\n",
    "if (mat_x1, mat_x2) == (mat_y1, mat_y2):\n",
    "    print(\"dimensions = same\")\n",
    "else: \n",
    "    print(\"dimensions = NOT same\")\n"
   ]
  },
  {
   "cell_type": "code",
   "execution_count": 176,
   "id": "c2c56c39-f5e0-450e-a215-25ede31b18a7",
   "metadata": {
    "tags": []
   },
   "outputs": [
    {
     "name": "stdout",
     "output_type": "stream",
     "text": [
      "[1, 2, 3, 4, 5, 6, 7, 8, 9] [9, 8, 7, 6, 5, 4, 3, 2, 1]\n",
      "[10, 10, 10]\n",
      "[10, 10, 10]\n",
      "[10, 10, 10]\n"
     ]
    }
   ],
   "source": [
    "\n",
    "# How do you add these matrices by hand?\n",
    "\n",
    "matx1 = mat1[\"data\"]\n",
    "matx2 = mat2[\"data\"]\n",
    "print(matx1, matx2)\n",
    "\n",
    "print([(1 + 9),(2 + 8), (3 + 7)])\n",
    "print([(4 + 6), (5 + 5), (6 + 4)])\n",
    "print([(7 + 3), (8 + 2), (9 + 1)]) \n"
   ]
  },
  {
   "cell_type": "code",
   "execution_count": 177,
   "id": "dff09cf9-4799-45b0-b31b-052318fcda6b",
   "metadata": {
    "tags": []
   },
   "outputs": [
    {
     "name": "stdout",
     "output_type": "stream",
     "text": [
      "(10, 10, 10)\n",
      "(10, 10, 10)\n",
      "(10, 10, 10)\n"
     ]
    }
   ],
   "source": [
    "# Now add the matrices in code:\n",
    "matRow1 = (mat1[\"data\"][0]+ mat2[\"data\"][0]), (mat1[\"data\"][1]+ mat2[\"data\"][1]), (mat1[\"data\"][2]+ mat2[\"data\"][2])\n",
    "matRow2 = (mat1[\"data\"][3]+ mat2[\"data\"][3]), (mat1[\"data\"][4]+ mat2[\"data\"][4]), (mat1[\"data\"][5]+ mat2[\"data\"][5])\n",
    "matRow3 = (mat1[\"data\"][6]+ mat2[\"data\"][6]), (mat1[\"data\"][7]+ mat2[\"data\"][7]), (mat1[\"data\"][8]+ mat2[\"data\"][8])\n",
    "\n",
    "print(matRow1)\n",
    "print(matRow2)\n",
    "print(matRow3)\n",
    "\n",
    "\n",
    "# In case you didn't: can you generalize this algorithm?\n",
    "\n",
    "\n",
    "\n"
   ]
  },
  {
   "cell_type": "markdown",
   "id": "7bff9837",
   "metadata": {},
   "source": [
    "### 3. Matrices vermenigvuldigen***"
   ]
  },
  {
   "cell_type": "markdown",
   "id": "4dba734d",
   "metadata": {},
   "source": [
    "Vermenigvuldig de onderstaande matrices:\n",
    "\n",
    "$$\n",
    "  \\begin{pmatrix}\n",
    "    1 & 2 & 3\\\\\n",
    "    4 & 5 & 6\n",
    "  \\end{pmatrix}\n",
    "  *\n",
    "    \\begin{pmatrix}\n",
    "    9 & 8\\\\\n",
    "    6 & 5\\\\\n",
    "    3 & 2\\\\\n",
    "  \\end{pmatrix}\n",
    "  =\n",
    "  ...\n",
    "$$"
   ]
  },
  {
   "cell_type": "code",
   "execution_count": 192,
   "id": "9895aaab",
   "metadata": {
    "tags": []
   },
   "outputs": [
    {
     "name": "stdout",
     "output_type": "stream",
     "text": [
      "True\n"
     ]
    }
   ],
   "source": [
    "# Implement both matrices:\n",
    "\n",
    "mat1 =  {'rows': 2, 'cols': 3, 'data': [1, 2, 3, 4, 5, 6]}\n",
    "mat2 =  {'rows': 3, 'cols': 2, 'data': [9, 8, 6, 5, 3, 2]}\n",
    "\n",
    "\n",
    "# Can we multiply them? Check if dimensions satisfy the (M by N) * (N by K) = (M by K) rule:\n",
    "matx1 = mat1[\"rows\"]\n",
    "matx2 = mat1[\"cols\"]\n",
    "maty1 = mat2[\"rows\"]\n",
    "maty2 = mat2[\"cols\"]\n",
    "\n",
    "summat1= (matx1*matx2)\n",
    "summat2= (maty1*maty2)\n",
    "\n",
    "print(summat1 == summat2)\n",
    "\n"
   ]
  },
  {
   "cell_type": "code",
   "execution_count": null,
   "id": "5769477c-ea86-4371-9995-ee6bd382a875",
   "metadata": {},
   "outputs": [],
   "source": [
    "# How do you multiply these matrices by hand?\n",
    "(1*9 + 4*8) (1*6 + 4*5) (1*3 + 4*2)    (9+32) (6+20) (3+8)     (41 26 11)\n",
    "(2*9 + 5*8) (2*6 + 5*5) (2*3 + 5*2) =  (18+40)(12+25)(6+10) =  (58 37 16)\n",
    "(3*9 + 6*8) (3*6 + 6*5) (3*3 + 6*2)    (27+48)(18+30)(9+12)    (75 48 21)\n",
    "\n"
   ]
  },
  {
   "cell_type": "code",
   "execution_count": 193,
   "id": "a3d53a20-2206-4533-9c77-dc4967e55fac",
   "metadata": {
    "tags": []
   },
   "outputs": [
    {
     "name": "stdout",
     "output_type": "stream",
     "text": [
      "(41, 26, 11)\n",
      "(58, 37, 16)\n",
      "(75, 48, 21)\n"
     ]
    }
   ],
   "source": [
    "# Now multiply the matrices in code:\n",
    "\n",
    "# in data positions these are the multiplications:\n",
    "# (0*0 + 3*1) + (0*2 + 3*3) + (0*4 + 3*5)\n",
    "# (1*0 + 4*1) + (1*2 + 4*3) + (1*4 + 4*5)\n",
    "# (2*0 + 5*1) + (2*2 + 5*3) + (2*4 + 5*5)\n",
    "\n",
    "\n",
    "matRow1 = ((mat1[\"data\"][0]*mat2[\"data\"][0]) + (mat1[\"data\"][3]* mat2[\"data\"][1])) , ((mat1[\"data\"][0]*mat2[\"data\"][2]) +(mat1[\"data\"][3]*mat2[\"data\"][3])) , ((mat1[\"data\"][0]*mat2[\"data\"][4])+(mat1[\"data\"][3] *mat2[\"data\"][5]))\n",
    "\n",
    "matRow2 = ((mat1[\"data\"][1]*mat2[\"data\"][0]) + (mat1[\"data\"][4]* mat2[\"data\"][1])) , ((mat1[\"data\"][1]*mat2[\"data\"][2]) + (mat1[\"data\"][4]* mat2[\"data\"][3])) , ((mat1[\"data\"][1]*mat2[\"data\"][4]) + (mat1[\"data\"][4]* mat2[\"data\"][5]))\n",
    "\n",
    "matRow3 = ((mat1[\"data\"][2]*mat2[\"data\"][0]) + (mat1[\"data\"][5]* mat2[\"data\"][1])) , ((mat1[\"data\"][2]*mat2[\"data\"][2]) + (mat1[\"data\"][5]* mat2[\"data\"][3])) , ((mat1[\"data\"][2]*mat2[\"data\"][4]) + (mat1[\"data\"][5]* mat2[\"data\"][5]))\n",
    "\n",
    "print(matRow1)\n",
    "print(matRow2)\n",
    "print(matRow3)\n",
    "\n"
   ]
  },
  {
   "cell_type": "code",
   "execution_count": 185,
   "id": "b530176c-3779-4b62-9557-79dbaf902247",
   "metadata": {
    "tags": []
   },
   "outputs": [],
   "source": [
    "# In case you didn't: can you generalize this algorithm?\n",
    "\n",
    "#def matrixMultiplicatiom(m0, m1): \n",
    "\n",
    "    #check sizes\n",
    "    #m2 = list()\n",
    "    \n",
    "    # for all rows in m0\n",
    "    \n",
    "        #for all cols in m1\n",
    "        \n",
    "    #m[i][j] = # combinatie element m0 en element m1 "
   ]
  },
  {
   "cell_type": "code",
   "execution_count": 198,
   "id": "abac0439-2eca-4f63-9201-2c1f4b2e80c3",
   "metadata": {
    "tags": []
   },
   "outputs": [
    {
     "name": "stdout",
     "output_type": "stream",
     "text": [
      "\n",
      "Multiplication of two matrices: \n",
      "[[ 3 12 27]\n",
      " [ 8 25 48]]\n"
     ]
    }
   ],
   "source": [
    "#testy McTestface\n",
    "\n",
    "import numpy as np\n",
    "\n",
    "# Two matrices\n",
    "#mx1 = np.array([[1, 2, 3], [4, 5, 6]])\n",
    "#mx2 = np.array([[3, 6, 9], [2, 5, 8]])\n",
    "\n",
    "\n",
    "# The multiply()is used to multiply matrices\n",
    "#print (\"\\nMultiplication of two matrices: \")\n",
    "#print (np.multiply(mx1, mx2))\n",
    "\n"
   ]
  },
  {
   "cell_type": "code",
   "execution_count": null,
   "id": "bc93dff8-efe8-4ef2-ae0f-12f8d12eaa79",
   "metadata": {},
   "outputs": [],
   "source": [
    "# if not the same dimensions, so needs to be transposed\n",
    "#Transpose A matrix\n",
    "\n",
    "#print(\"Matrix1 =\\n\",mx1)\n",
    "#print(\"Matrix2 =\\n\",mx2)\n",
    "\n",
    "#print (\"\\nThe Transpose =\")\n",
    "#print (mx2.T)\n",
    "\n",
    "#print(\"Matrix1 =\\n\",mx1)\n",
    "#print(\"\\nMatrix2 =\\n\",mx2) \n"
   ]
  },
  {
   "cell_type": "code",
   "execution_count": null,
   "id": "24ea26b2-5690-439a-8abf-f6ec29cf2ec4",
   "metadata": {},
   "outputs": [],
   "source": []
  }
 ],
 "metadata": {
  "kernelspec": {
   "display_name": "Python 3 (ipykernel)",
   "language": "python",
   "name": "python3"
  },
  "language_info": {
   "codemirror_mode": {
    "name": "ipython",
    "version": 3
   },
   "file_extension": ".py",
   "mimetype": "text/x-python",
   "name": "python",
   "nbconvert_exporter": "python",
   "pygments_lexer": "ipython3",
   "version": "3.10.10"
  }
 },
 "nbformat": 4,
 "nbformat_minor": 5
}
