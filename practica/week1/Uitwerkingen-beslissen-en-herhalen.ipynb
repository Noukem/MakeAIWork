{
 "cells": [
  {
   "cell_type": "markdown",
   "id": "6e93d43b",
   "metadata": {},
   "source": [
    "# Beslissen en herhalen"
   ]
  },
  {
   "cell_type": "markdown",
   "id": "a4f6c97b",
   "metadata": {},
   "source": [
    "Om effectief te kunnen programmeren moet je:\n",
    "\n",
    "#### 1. Weten welke basisinstructies je tot je beschikking hebt\n",
    "Een mooi startpunt is [W3Schools over Python](https://www.w3schools.com/python/default.asp).\n",
    "\n",
    "\n",
    "#### 2. Weten hoe je de juiste instructies kunt vinden\n",
    "De zoektermen volgen uit je literate programming beschrijving en je pseudo code.\n",
    "\n",
    "### Let op!\n",
    "Het kan verleidelijk zijn om de OPLOSSING te googlen, zeker in het begin.\n",
    "\n",
    "##### Als je merkt dat je dit aan het doen bent, dan heb je de literate programming steps niet precies genoeg uitgewerkt.\n",
    "De opdracht is dan te groot en te complex."
   ]
  },
  {
   "cell_type": "markdown",
   "id": "92ed6127",
   "metadata": {},
   "source": [
    "## Basics: beslissen"
   ]
  },
  {
   "cell_type": "markdown",
   "id": "e0b00e53",
   "metadata": {},
   "source": [
    "Bestudeer [if else statements](https://www.w3schools.com/python/python_conditions.asp)\n",
    "\n",
    "(de voorbeelden zijn interactief)"
   ]
  },
  {
   "cell_type": "markdown",
   "id": "eb320abd",
   "metadata": {},
   "source": [
    "### 1. Vergelijken**"
   ]
  },
  {
   "cell_type": "markdown",
   "id": "f522b9d8",
   "metadata": {},
   "source": [
    "- Laat de gebruiker twee woorden invoeren\n",
    "- Geef aan welk woord het langs is\n",
    "- Neem ook het geval dat ze gelijk zijn mee\n",
    "- Print het resultaat\n",
    "\n",
    "Hint: je mag in dit geval [de functie len()](https://www.w3schools.com/python/python_strings.asp) gebruiken"
   ]
  },
  {
   "cell_type": "code",
   "execution_count": null,
   "id": "0e2aedfa",
   "metadata": {},
   "outputs": [],
   "source": [
    "# 1. Formulate a solution: the assigment is already formulated in steps\n",
    "\n",
    "# 2. Implement the solution\n",
    "\n",
    "# Let user input two words\n",
    "word1 = input()\n",
    "word2 = input()\n",
    "\n",
    "# To compare the word lengths we need to know their sizes\n",
    "len1 = len(word1)\n",
    "len2 = len(word2)\n",
    "\n",
    "# Possible solutions:\n",
    "if len1 > len2:\n",
    "    print(\"The length of word 1 is larger than word 2\")\n",
    "elif len2 > len1:\n",
    "    print(\"The length of word 2 is larger than word 1\")\n",
    "else:\n",
    "    print(\"The length of word 1 is equal to word 2\")"
   ]
  },
  {
   "cell_type": "markdown",
   "id": "0b5a8819",
   "metadata": {},
   "source": [
    "### 2. Categoriseren**"
   ]
  },
  {
   "cell_type": "markdown",
   "id": "49270585",
   "metadata": {},
   "source": [
    "- Vraag de gebruiker om een getal\n",
    "- Bepaal of dit getal even is\n",
    "- Print het resultaat\n",
    "\n",
    "Hint: je mag in dit geval de [operatoren '/' en '%'](https://www.w3schools.com/python/python_operators.asp) gebruiken"
   ]
  },
  {
   "cell_type": "code",
   "execution_count": null,
   "id": "98a288c9",
   "metadata": {},
   "outputs": [],
   "source": [
    "# 1. Formulate a solution: the assigment is already formulated in steps\n",
    "\n",
    "# 2. Implement the solution\n",
    "\n",
    "# Let the user input a number\n",
    "# Note: because only whole numbers can be considered even or uneven we handle integer values only\n",
    "number = int(input())\n",
    "\n",
    "# We use the modulus operator, for example: 3 % 2 = 1 (uneven)\n",
    "modulus = number % 2\n",
    "\n",
    "# Check if we have a remainder\n",
    "if modulus == 1:\n",
    "    print(f\"{number} is uneven\")\n",
    "else:\n",
    "    print(f\"{number} is even\")"
   ]
  },
  {
   "cell_type": "markdown",
   "id": "2be34655",
   "metadata": {},
   "source": [
    "## Basics: herhalen"
   ]
  },
  {
   "cell_type": "markdown",
   "id": "8491ff0e",
   "metadata": {},
   "source": [
    "Bestudeer [for loops](https://www.w3schools.com/python/python_for_loops.asp)\n",
    "\n",
    "Bestudeer [while loops](https://www.w3schools.com/python/python_while_loops.asp)\n",
    "\n",
    "(de voorbeelden zijn interactief)"
   ]
  },
  {
   "cell_type": "markdown",
   "id": "af980848",
   "metadata": {},
   "source": [
    "### 1. Printen*"
   ]
  },
  {
   "cell_type": "markdown",
   "id": "120a2dd8",
   "metadata": {},
   "source": [
    "- Print je naam 23 keer uit\n",
    "\n",
    "Extra: kun je het er ook een nummer voor zetten?\n",
    "\n",
    "    1. Ruud\n",
    "    2. Ruud\n",
    "    3. Ruud\n",
    "\n",
    "    ...\n",
    "\n",
    "Hint: kijk nog eens naar de les van Jeroen over strings"
   ]
  },
  {
   "cell_type": "code",
   "execution_count": null,
   "id": "4d8cb9fb",
   "metadata": {},
   "outputs": [],
   "source": [
    "# 1. Formulate a solution\n",
    "\n",
    "# We can solve this in multiple ways:\n",
    "#\n",
    "# Use the * operator, like \"Ruud\" * 23\n",
    "# Use a for loop\n",
    "\n",
    "# 2. Implement the solution\n",
    "\n",
    "# We chose the for loop approach\n",
    "\n",
    "# Note: range goes from 0 to 23 (0, 1, 2, .., 22)\n",
    "# Note: the index variable is not used here\n",
    "for index in range(23):\n",
    "    print(\"Ruud\")\n",
    "\n",
    "# With the for loop solution we use the index to extend it to \"1. Ruud\", ...\n",
    "for index in range(1, 24):\n",
    "    \n",
    "    # Added :2 to make every number two characters wide\n",
    "    print(f\"{index:2}. Ruud\")"
   ]
  },
  {
   "cell_type": "markdown",
   "id": "379ec167",
   "metadata": {},
   "source": [
    "### 2. Optellen*"
   ]
  },
  {
   "cell_type": "markdown",
   "id": "d21d8212",
   "metadata": {},
   "source": [
    "- Tel de getallen 0, 1, 2, ... t/m 100 op\n",
    "- Print het resultaat"
   ]
  },
  {
   "cell_type": "code",
   "execution_count": null,
   "id": "92ac6462",
   "metadata": {},
   "outputs": [],
   "source": [
    "# 1. Formulate a solution\n",
    "\n",
    "# When we add 0 + 1 + 2 + 3 mentally:\n",
    "# We need to keep track of the index 0, 1, 2 and 3\n",
    "# We need to keep track of their sum\n",
    "\n",
    "# 2. Implement the solution\n",
    "\n",
    "# Define the sum and set to zero\n",
    "sum = 0\n",
    "\n",
    "# Repeat the addition from 0 to 100\n",
    "for index in range(0, 101):\n",
    "    sum = sum + index\n",
    "\n",
    "# Print the result\n",
    "print(f\"The sum from 0 to 100 is: {sum}\")"
   ]
  },
  {
   "cell_type": "markdown",
   "id": "9d394ec4",
   "metadata": {},
   "source": [
    "### 3. Print een specifieke som**"
   ]
  },
  {
   "cell_type": "markdown",
   "id": "894c9c7e",
   "metadata": {},
   "source": [
    "- Print de som van een getal en het vorige getal\n",
    "- Doe dit van nul tot aan een getal dat de gebruiker invoert"
   ]
  },
  {
   "cell_type": "code",
   "execution_count": null,
   "id": "d6274b0a",
   "metadata": {},
   "outputs": [],
   "source": [
    "# 1. Formulate a solution\n",
    "\n",
    "# Example for case 0 up to 3:\n",
    "# The sum is 0+? + 1+0 + 2+1 + 3+2 (we assume that ? is 0)\n",
    "\n",
    "# So we need to keep track of the index (0, 1, 2, 3), the previous value and the sum\n",
    "\n",
    "# 2. Implement the solution\n",
    "\n",
    "# Ask for a number (assume that it's a whole number)\n",
    "number = int(input())\n",
    "\n",
    "# Define the previous value and set to zero (start point)\n",
    "prev = 0\n",
    "\n",
    "# Define the sum and set to zero\n",
    "sum = 0\n",
    "\n",
    "# Now loop up to the number\n",
    "for index in range(number+1):\n",
    "    \n",
    "    # Update the sum with the current and previous value\n",
    "    # Note: sum += X is short for sum = sum + X\n",
    "    sum += index + prev\n",
    "    \n",
    "    # Update the previous value\n",
    "    prev = index\n",
    "\n",
    "print(f\"The result is {sum}\")"
   ]
  },
  {
   "cell_type": "markdown",
   "id": "9e30cf7d",
   "metadata": {},
   "source": [
    "## Gecombineerd"
   ]
  },
  {
   "cell_type": "markdown",
   "id": "d728ef64",
   "metadata": {},
   "source": [
    "### 1. Print alle medeklinkers van een woord of zin***"
   ]
  },
  {
   "cell_type": "markdown",
   "id": "0cfcd436",
   "metadata": {},
   "source": [
    "- Vraag de gebruiker om een woord of zin in te voeren\n",
    "- Print vervolgens alle medeklinkers\n",
    "- Als de invoer een zin is, print dan ook alle spaties en leestekens"
   ]
  },
  {
   "cell_type": "code",
   "execution_count": null,
   "id": "0112311d",
   "metadata": {},
   "outputs": [],
   "source": [
    "# 1. Start simple: take the word \"simpel\"\n",
    "\n",
    "# 2. Explain your solution in words only\n",
    "\n",
    "# Loop over the characters of the word and check if it is a vowel\n",
    "\n",
    "# 3. Write down your solution in pseudo code\n",
    "\n",
    "# Define the word \"simpel\"\n",
    "\n",
    "# Loop over the characters of the word:\n",
    "    # Check if character is not a vowel:\n",
    "        # print character\n",
    "\n",
    "# 4. Implement your pseudo code in Python\n",
    "\n",
    "# Define the word \"simpel\"\n",
    "word = \"simpel\"\n",
    "\n",
    "# Loop over the characters of the word:\n",
    "for char in word:\n",
    "    \n",
    "    # Check if character is not a vowel:\n",
    "    if char != 'a' and char != 'e' and char != 'i' and char != 'o' and char != 'u':\n",
    "        \n",
    "        # Then it should be a consonant; let's print it\n",
    "        print(char)\n",
    "\n",
    "\n",
    "# 5. Extend your solution to the general case\n",
    "wordOrSentence = input()\n",
    "\n",
    "# Loop over the characters of the word:\n",
    "for char in wordOrSentence:\n",
    "    \n",
    "    # Check if character is not a vowel:\n",
    "    if char != 'a' and char != 'e' and char != 'i' and char != 'o' and char != 'u':\n",
    "        \n",
    "        # Then it should be a consonant; let's print it\n",
    "        print(char)"
   ]
  },
  {
   "cell_type": "markdown",
   "id": "ed2dd7e2",
   "metadata": {},
   "source": [
    "### 2. Print een diamant vorm***"
   ]
  },
  {
   "cell_type": "markdown",
   "id": "d8438e85",
   "metadata": {},
   "source": [
    "- Vraag de gebruiker om een hoogte\n",
    "- Print vervolgens een diamant van die hoogte\n",
    "\n",
    "Hint: zijn er hoogtes waarvoor dit niet lukt? Zo ja, laat de gebruiker dit dan weten."
   ]
  },
  {
   "cell_type": "code",
   "execution_count": null,
   "id": "8c5501e3",
   "metadata": {},
   "outputs": [],
   "source": [
    "# An example with height 7\n",
    "\n",
    "#    *\n",
    "#   ***\n",
    "#  *****\n",
    "# *******\n",
    "#  *****\n",
    "#   ***\n",
    "#    *\n",
    "\n",
    "# 1. Start simple: take the example above\n",
    "\n",
    "#-------------------\n",
    "\n",
    "# Observations:\n",
    "\n",
    "# The diamond is only drawable when height is uneven\n",
    "# A height of 7 also means width of 7\n",
    "\n",
    "#-------------------\n",
    "\n",
    "# 2. Explain your solution in words only\n",
    "\n",
    "#-------------------\n",
    "\n",
    "# Draw 7 times a line where the number of stars increases up to 7 and decreases back to 1\n",
    "\n",
    "#-------------------\n",
    "\n",
    "# 3. Write down your solution in pseudo code\n",
    "\n",
    "#-------------------\n",
    "\n",
    "# Draw the diamond in three parts: upper, middle and lower\n",
    "\n",
    "\n",
    "# Upper part consist of 3 lines:\n",
    "\n",
    "# \"---*---\"\n",
    "# \"--***--\"\n",
    "# \"-*****-\"\n",
    "\n",
    "# For the first line we need 3 spaces, 1 star and 3 spaces\n",
    "# For the second line we need 2 spaces, 3 stars and 2 spaces\n",
    "\n",
    "# So the number of stars corresponds to (1 + 2 * line) if we count from 0 to 7\n",
    "# From that we can compute the number of spaces as (7 - stars) / 2\n",
    "\n",
    "# Repeat these steps until line is equal to 7 / 2 = 3, which is the part height\n",
    "\n",
    "\n",
    "# The middle part consist of 1 line:\n",
    "\n",
    "# \"*******\"\n",
    "\n",
    "\n",
    "# The lower part consists of 3 lines:\n",
    "\n",
    "# \"-*****-\"\n",
    "# \"--***--\"\n",
    "# \"---*---\"\n",
    "\n",
    "# For the first line we need 1 space, 5 stars and 1 space\n",
    "# For the second line we need 2 spaces, 3 stars and 2 spaces\n",
    "\n",
    "# So the number of stars corresponds to (1 + 2 * (7 - line - 1) if we count from 0 to 7\n",
    "# From that we can compute the number of spaces as (7 - stars) / 2\n",
    "\n",
    "#-------------------\n",
    "\n",
    "# 4. Implement your pseudo code in Python\n",
    "\n",
    "# See step above\n",
    "\n",
    "#-------------------\n",
    "\n",
    "# 5. Extend your solution to the general case\n",
    "height = int(input())\n",
    "\n",
    "# Check if we have an even number\n",
    "if height % 2 == 0:\n",
    "    \n",
    "    print(\"Sorry, the height must be an uneven number\")\n",
    "    \n",
    "else:\n",
    "\n",
    "    # Compute the half height\n",
    "    half = height // 2\n",
    "\n",
    "    # Draw the parts\n",
    "    for line in range(height + 1):\n",
    "\n",
    "        # Upper part\n",
    "        if line < half:\n",
    "\n",
    "            # Compute the stars depending on the line number\n",
    "            stars = 1 + 2 * line\n",
    "\n",
    "        elif line == half: # Middle part\n",
    "\n",
    "            # Draw only stars, where the width is equal to the height\n",
    "            stars = height\n",
    "\n",
    "        else: # Lower part\n",
    "\n",
    "            # Compute the stars depending on the line number, but backwards\n",
    "            stars = 1 + 2 * (height - line - 1)\n",
    "        \n",
    "        # We must do an integer division else we get a float result\n",
    "        spaces = (height - stars) // 2\n",
    "        \n",
    "        # Use the multiply method\n",
    "        print(\" \" * spaces + \"*\" * stars + \" \" * spaces)"
   ]
  }
 ],
 "metadata": {
  "kernelspec": {
   "display_name": "Python 3 (ipykernel)",
   "language": "python",
   "name": "python3"
  },
  "language_info": {
   "codemirror_mode": {
    "name": "ipython",
    "version": 3
   },
   "file_extension": ".py",
   "mimetype": "text/x-python",
   "name": "python",
   "nbconvert_exporter": "python",
   "pygments_lexer": "ipython3",
   "version": "3.10.10"
  }
 },
 "nbformat": 4,
 "nbformat_minor": 5
}
