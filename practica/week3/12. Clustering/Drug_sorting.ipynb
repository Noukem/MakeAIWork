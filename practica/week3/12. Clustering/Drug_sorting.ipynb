{
 "cells": [
  {
   "cell_type": "code",
   "execution_count": null,
   "id": "7f31d1eb-afe4-400e-935f-d7b14de88bb0",
   "metadata": {},
   "outputs": [],
   "source": [
    "(mg/1000p/day)"
   ]
  },
  {
   "cell_type": "code",
   "execution_count": 14,
   "id": "69ad0958-3c21-4bd1-b98f-80c8c2cc117a",
   "metadata": {
    "tags": []
   },
   "outputs": [
    {
     "name": "stdout",
     "output_type": "stream",
     "text": [
      "\n",
      "After sorting:\n",
      "      year       metabolite SiteID country                   city  Wednesday  \\\n",
      "121   2021          cocaine  BE002      BE           Antwerp Zuid    1335.68   \n",
      "862   2019          cocaine  BE002      BE           Antwerp Zuid     786.96   \n",
      "478   2020          cocaine  BE002      BE           Antwerp Zuid    1049.69   \n",
      "404   2020      amphetamine  HR001      HR                 Zagreb     348.64   \n",
      "907   2019          cocaine  NL001      NL              Amsterdam     898.05   \n",
      "...    ...              ...    ...     ...                    ...        ...   \n",
      "2376  2013  methamphetamine  ES005      ES               Santiago       0.00   \n",
      "2187  2014  methamphetamine  DE026      DE  Munich Gut Großlappen       0.00   \n",
      "1037  2019  methamphetamine  FR005      FR     Paris Seine Centre       0.00   \n",
      "1036  2019  methamphetamine  FR003      FR             Bordeaux I       0.00   \n",
      "2186  2014  methamphetamine  DE011      DE                 Dülmen       0.00   \n",
      "\n",
      "      Thursday   Friday  Saturday   Sunday   Monday  Tuesday  Weekday mean  \\\n",
      "121    1307.06  1594.08   1806.01  1631.20  1770.91  1628.19       1423.64   \n",
      "862    1389.77   977.75   1138.32  2048.63  1006.05  1582.17       1252.96   \n",
      "478     949.03  1126.59   1201.26  2090.15   789.02  1018.39       1005.70   \n",
      "404    1556.20   496.74    274.40   263.46   224.94  3932.49       1945.78   \n",
      "907     687.74   825.14   1039.35  1238.79  1007.32  1206.68        930.82   \n",
      "...        ...      ...       ...      ...      ...      ...           ...   \n",
      "2376      0.00     0.00      0.00     0.00     0.00     0.00          0.00   \n",
      "2187      0.00     0.00      0.00     0.00     0.00     0.00          0.00   \n",
      "1037      0.00     0.00      0.00     0.00     0.00     0.00          0.00   \n",
      "1036      0.00     0.00      0.00     0.00     0.00     0.00          0.00   \n",
      "2186      0.00     0.00      0.00     0.00     0.00     0.00          0.00   \n",
      "\n",
      "      Weekend mean  Daily mean  \n",
      "121        1700.55     1581.88  \n",
      "862        1292.69     1275.66  \n",
      "478        1301.75     1174.88  \n",
      "404         314.88     1013.84  \n",
      "907        1027.65      986.15  \n",
      "...            ...         ...  \n",
      "2376          0.00        0.00  \n",
      "2187          0.00        0.00  \n",
      "1037          0.00        0.00  \n",
      "1036          0.00        0.00  \n",
      "2186          0.00        0.00  \n",
      "\n",
      "[2569 rows x 15 columns]\n"
     ]
    }
   ],
   "source": [
    "# importing pandas package\n",
    "import pandas as pandasForSortingCSV\n",
    "  \n",
    "# assign dataset\n",
    "csvData = pandasForSortingCSV.read_csv(\"WW-data-long-2022-03-14.csv\")\n",
    "                                           \n",
    "# sort data frame\n",
    "csvData.sort_values([\"Daily mean\"], \n",
    "                    axis=0,\n",
    "                    ascending=[False], \n",
    "                    inplace=True)\n",
    "  \n",
    "# displaying sorted data frame\n",
    "print(\"\\nAfter sorting:\")\n",
    "print(csvData)"
   ]
  },
  {
   "cell_type": "code",
   "execution_count": 12,
   "id": "db1507a2-8ab7-4776-94eb-2320c56b2a10",
   "metadata": {
    "tags": []
   },
   "outputs": [
    {
     "name": "stdout",
     "output_type": "stream",
     "text": [
      "\n",
      "After sorting:\n",
      "      year       metabolite SiteID country          city  Wednesday  Thursday  \\\n",
      "0     2021      amphetamine  AT001      AT          Graz      47.15     37.48   \n",
      "1     2021      amphetamine  AT002      AT  Hall-Wattens       8.37      7.08   \n",
      "2     2021      amphetamine  AT004      AT     Innsbruck      16.59     16.72   \n",
      "3     2021      amphetamine  AT005      AT    Kapfenberg      25.01     24.11   \n",
      "4     2021      amphetamine  AT007      AT      Kufstein      24.24     16.19   \n",
      "...    ...              ...    ...     ...           ...        ...       ...   \n",
      "2564  2011  methamphetamine  NL001      NL     Amsterdam       0.00      0.00   \n",
      "2565  2011  methamphetamine  NL002      NL     Eindhoven       0.00      0.00   \n",
      "2566  2011  methamphetamine  NL005      NL       Utrecht       0.00      0.00   \n",
      "2567  2011  methamphetamine  NO001      NO          Oslo     235.00    212.60   \n",
      "2568  2011  methamphetamine  SE007      SE          Umea       3.91      4.37   \n",
      "\n",
      "      Friday  Saturday  Sunday  Monday  Tuesday  Weekday mean  Weekend mean  \\\n",
      "0      37.95     38.02   38.14   35.82    35.45         40.03         37.48   \n",
      "1       6.88      4.25    6.17    8.25     7.77          7.74          6.39   \n",
      "2      17.60     24.92   29.69   22.38    26.24         19.85         23.65   \n",
      "3      30.52     31.85   36.75   35.58    22.43         23.85         33.68   \n",
      "4      19.70     10.93   22.68   20.69    24.18         21.54         18.50   \n",
      "...      ...       ...     ...     ...      ...           ...           ...   \n",
      "2564    0.00      0.00    0.00    0.00     0.00          0.00          0.00   \n",
      "2565    0.00      0.00    0.00    0.00     0.00          0.00          0.00   \n",
      "2566    0.00      0.00    0.00    0.00     0.00          0.00          0.00   \n",
      "2567  231.06    186.16  295.50  302.46   250.71        232.77        253.80   \n",
      "2568    3.82      1.29    1.79    3.28     2.07          3.45          2.55   \n",
      "\n",
      "      Daily mean  \n",
      "0          38.57  \n",
      "1           6.97  \n",
      "2          22.02  \n",
      "3          29.46  \n",
      "4          19.80  \n",
      "...          ...  \n",
      "2564        0.00  \n",
      "2565        0.00  \n",
      "2566        0.00  \n",
      "2567      244.79  \n",
      "2568        2.93  \n",
      "\n",
      "[2569 rows x 15 columns]\n"
     ]
    }
   ],
   "source": [
    "# importing pandas package\n",
    "import pandas as pandasForSortingCSV\n",
    "  \n",
    "# assign dataset\n",
    "csvData = pandasForSortingCSV.read_csv(\"WW-data-long-2022-03-14.csv\")\n",
    "                                    \n",
    "# sort data frame\n",
    "csvData.sort_values([\"city\", \"Daily mean\", \"metabolite\"], \n",
    "                    axis=0,\n",
    "                    ascending=[False, False, False], \n",
    "                    inplace=True)\n",
    "  \n",
    "# displaying sorted data frame\n",
    "print(\"\\nAfter sorting:\")\n",
    "print(csvData)"
   ]
  },
  {
   "cell_type": "code",
   "execution_count": null,
   "id": "48f8ce05-9b52-49ec-88c9-0d3da51eabd0",
   "metadata": {},
   "outputs": [],
   "source": []
  }
 ],
 "metadata": {
  "kernelspec": {
   "display_name": "Python 3 (ipykernel)",
   "language": "python",
   "name": "python3"
  },
  "language_info": {
   "codemirror_mode": {
    "name": "ipython",
    "version": 3
   },
   "file_extension": ".py",
   "mimetype": "text/x-python",
   "name": "python",
   "nbconvert_exporter": "python",
   "pygments_lexer": "ipython3",
   "version": "3.10.10"
  }
 },
 "nbformat": 4,
 "nbformat_minor": 5
}
