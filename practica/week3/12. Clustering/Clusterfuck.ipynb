{
 "cells": [
  {
   "cell_type": "code",
   "execution_count": 1,
   "id": "7c376733-0711-4e89-bad1-adc727c18778",
   "metadata": {
    "tags": []
   },
   "outputs": [],
   "source": [
    "import pandas as pd\n",
    "\n",
    "# Substitute the path_to_file content by the path to your shopping-data.csv file \n",
    "path_to_file = 'WW-data-long-2022-03-14.csv'\n",
    "Waste_water = pd.read_csv(path_to_file)"
   ]
  },
  {
   "cell_type": "code",
   "execution_count": 2,
   "id": "0f68950c-6c5f-40a1-8b8e-187bfdc66262",
   "metadata": {
    "tags": []
   },
   "outputs": [
    {
     "data": {
      "text/plain": [
       "(2569, 15)"
      ]
     },
     "execution_count": 2,
     "metadata": {},
     "output_type": "execute_result"
    }
   ],
   "source": [
    "Waste_water.shape"
   ]
  },
  {
   "cell_type": "code",
   "execution_count": 3,
   "id": "a174fa5b-0870-4a67-a522-41996693a9f2",
   "metadata": {
    "tags": []
   },
   "outputs": [
    {
     "data": {
      "text/plain": [
       "Index(['year', 'metabolite', 'SiteID', 'country', 'city', 'Wednesday',\n",
       "       'Thursday', 'Friday', 'Saturday', 'Sunday', 'Monday', 'Tuesday',\n",
       "       'Weekday mean', 'Weekend mean', 'Daily mean'],\n",
       "      dtype='object')"
      ]
     },
     "execution_count": 3,
     "metadata": {},
     "output_type": "execute_result"
    }
   ],
   "source": [
    "Waste_water.columns"
   ]
  },
  {
   "cell_type": "code",
   "execution_count": 7,
   "id": "6e0793b1-4b08-45d2-b83f-ffb36563d9f8",
   "metadata": {
    "tags": []
   },
   "outputs": [
    {
     "data": {
      "text/plain": [
       "<AxesSubplot: >"
      ]
     },
     "execution_count": 7,
     "metadata": {},
     "output_type": "execute_result"
    },
    {
     "data": {
      "image/png": "[encoded data removed]",
      "text/plain": [
       "<Figure size 640x480 with 1 Axes>"
      ]
     },
     "metadata": {},
     "output_type": "display_data"
    }
   ],
   "source": [
    "Waste_water['metabolite'].hist()"
   ]
  },
  {
   "cell_type": "code",
   "execution_count": 8,
   "id": "f1e40816-1564-4a42-98ea-7d11420e78dd",
   "metadata": {
    "tags": []
   },
   "outputs": [],
   "source": [
    "# transpose() transposes the table, making it easier for us to compare values\n",
    "#Waste_water.describe().transpose()"
   ]
  },
  {
   "cell_type": "code",
   "execution_count": 9,
   "id": "f845ddfb-3b0c-4eed-b541-e4ff1f0fda5c",
   "metadata": {
    "tags": []
   },
   "outputs": [
    {
     "name": "stdout",
     "output_type": "stream",
     "text": [
      "<class 'pandas.core.frame.DataFrame'>\n",
      "RangeIndex: 2569 entries, 0 to 2568\n",
      "Data columns (total 15 columns):\n",
      " #   Column        Non-Null Count  Dtype  \n",
      "---  ------        --------------  -----  \n",
      " 0   year          2569 non-null   int64  \n",
      " 1   metabolite    2569 non-null   object \n",
      " 2   SiteID        2569 non-null   object \n",
      " 3   country       2569 non-null   object \n",
      " 4   city          2569 non-null   object \n",
      " 5   Wednesday     2551 non-null   float64\n",
      " 6   Thursday      2523 non-null   float64\n",
      " 7   Friday        2537 non-null   float64\n",
      " 8   Saturday      2546 non-null   float64\n",
      " 9   Sunday        2533 non-null   float64\n",
      " 10  Monday        2533 non-null   float64\n",
      " 11  Tuesday       2535 non-null   float64\n",
      " 12  Weekday mean  2568 non-null   float64\n",
      " 13  Weekend mean  2569 non-null   float64\n",
      " 14  Daily mean    2569 non-null   float64\n",
      "dtypes: float64(10), int64(1), object(4)\n",
      "memory usage: 301.2+ KB\n"
     ]
    }
   ],
   "source": [
    "Waste_water.info()"
   ]
  },
  {
   "cell_type": "code",
   "execution_count": 10,
   "id": "454b4242-a070-48ab-b73f-6d31f8ceee7a",
   "metadata": {
    "tags": []
   },
   "outputs": [
    {
     "data": {
      "text/html": [
       "<div>\n",
       "<style scoped>\n",
       "    .dataframe tbody tr th:only-of-type {\n",
       "        vertical-align: middle;\n",
       "    }\n",
       "\n",
       "    .dataframe tbody tr th {\n",
       "        vertical-align: top;\n",
       "    }\n",
       "\n",
       "    .dataframe thead th {\n",
       "        text-align: right;\n",
       "    }\n",
       "</style>\n",
       "<table border=\"1\" class=\"dataframe\">\n",
       "  <thead>\n",
       "    <tr style=\"text-align: right;\">\n",
       "      <th></th>\n",
       "      <th>year</th>\n",
       "      <th>metabolite</th>\n",
       "      <th>SiteID</th>\n",
       "      <th>country</th>\n",
       "      <th>city</th>\n",
       "      <th>Wednesday</th>\n",
       "      <th>Thursday</th>\n",
       "      <th>Friday</th>\n",
       "      <th>Saturday</th>\n",
       "      <th>Sunday</th>\n",
       "      <th>Monday</th>\n",
       "      <th>Tuesday</th>\n",
       "      <th>Weekday mean</th>\n",
       "      <th>Weekend mean</th>\n",
       "      <th>Daily mean</th>\n",
       "    </tr>\n",
       "  </thead>\n",
       "  <tbody>\n",
       "    <tr>\n",
       "      <th>0</th>\n",
       "      <td>2021</td>\n",
       "      <td>amphetamine</td>\n",
       "      <td>TR001</td>\n",
       "      <td>TR</td>\n",
       "      <td>Adana</td>\n",
       "      <td>2.50</td>\n",
       "      <td>1.75</td>\n",
       "      <td>1.81</td>\n",
       "      <td>3.52</td>\n",
       "      <td>3.26</td>\n",
       "      <td>2.93</td>\n",
       "      <td>2.72</td>\n",
       "      <td>2.32</td>\n",
       "      <td>2.88</td>\n",
       "      <td>2.64</td>\n",
       "    </tr>\n",
       "    <tr>\n",
       "      <th>1</th>\n",
       "      <td>2021</td>\n",
       "      <td>amphetamine</td>\n",
       "      <td>TR003</td>\n",
       "      <td>TR</td>\n",
       "      <td>Istanbul (II-VII)</td>\n",
       "      <td>12.13</td>\n",
       "      <td>12.79</td>\n",
       "      <td>12.06</td>\n",
       "      <td>11.94</td>\n",
       "      <td>10.19</td>\n",
       "      <td>13.59</td>\n",
       "      <td>12.76</td>\n",
       "      <td>12.56</td>\n",
       "      <td>11.95</td>\n",
       "      <td>12.21</td>\n",
       "    </tr>\n",
       "    <tr>\n",
       "      <th>2</th>\n",
       "      <td>2021</td>\n",
       "      <td>cannabis</td>\n",
       "      <td>TR001</td>\n",
       "      <td>TR</td>\n",
       "      <td>Adana</td>\n",
       "      <td>29.06</td>\n",
       "      <td>46.88</td>\n",
       "      <td>39.16</td>\n",
       "      <td>50.31</td>\n",
       "      <td>38.12</td>\n",
       "      <td>32.18</td>\n",
       "      <td>24.04</td>\n",
       "      <td>33.33</td>\n",
       "      <td>39.94</td>\n",
       "      <td>37.11</td>\n",
       "    </tr>\n",
       "    <tr>\n",
       "      <th>3</th>\n",
       "      <td>2021</td>\n",
       "      <td>cannabis</td>\n",
       "      <td>TR003</td>\n",
       "      <td>TR</td>\n",
       "      <td>Istanbul (II-VII)</td>\n",
       "      <td>24.34</td>\n",
       "      <td>22.57</td>\n",
       "      <td>22.64</td>\n",
       "      <td>23.16</td>\n",
       "      <td>22.99</td>\n",
       "      <td>28.61</td>\n",
       "      <td>26.97</td>\n",
       "      <td>24.63</td>\n",
       "      <td>24.35</td>\n",
       "      <td>24.47</td>\n",
       "    </tr>\n",
       "    <tr>\n",
       "      <th>4</th>\n",
       "      <td>2021</td>\n",
       "      <td>cocaine</td>\n",
       "      <td>TR001</td>\n",
       "      <td>TR</td>\n",
       "      <td>Adana</td>\n",
       "      <td>6.43</td>\n",
       "      <td>4.98</td>\n",
       "      <td>5.20</td>\n",
       "      <td>4.19</td>\n",
       "      <td>5.02</td>\n",
       "      <td>7.31</td>\n",
       "      <td>6.80</td>\n",
       "      <td>6.07</td>\n",
       "      <td>5.43</td>\n",
       "      <td>5.71</td>\n",
       "    </tr>\n",
       "  </tbody>\n",
       "</table>\n",
       "</div>"
      ],
      "text/plain": [
       "   year   metabolite SiteID country               city  Wednesday  Thursday  \\\n",
       "0  2021  amphetamine  TR001      TR              Adana       2.50      1.75   \n",
       "1  2021  amphetamine  TR003      TR  Istanbul (II-VII)      12.13     12.79   \n",
       "2  2021     cannabis  TR001      TR              Adana      29.06     46.88   \n",
       "3  2021     cannabis  TR003      TR  Istanbul (II-VII)      24.34     22.57   \n",
       "4  2021      cocaine  TR001      TR              Adana       6.43      4.98   \n",
       "\n",
       "   Friday  Saturday  Sunday  Monday  Tuesday  Weekday mean  Weekend mean  \\\n",
       "0    1.81      3.52    3.26    2.93     2.72          2.32          2.88   \n",
       "1   12.06     11.94   10.19   13.59    12.76         12.56         11.95   \n",
       "2   39.16     50.31   38.12   32.18    24.04         33.33         39.94   \n",
       "3   22.64     23.16   22.99   28.61    26.97         24.63         24.35   \n",
       "4    5.20      4.19    5.02    7.31     6.80          6.07          5.43   \n",
       "\n",
       "   Daily mean  \n",
       "0        2.64  \n",
       "1       12.21  \n",
       "2       37.11  \n",
       "3       24.47  \n",
       "4        5.71  "
      ]
     },
     "execution_count": 10,
     "metadata": {},
     "output_type": "execute_result"
    }
   ],
   "source": [
    "Waste_water.head()"
   ]
  },
  {
   "cell_type": "code",
   "execution_count": null,
   "id": "0dacf43d-7f9e-4961-ab5e-02f2b746b01d",
   "metadata": {
    "tags": []
   },
   "outputs": [],
   "source": [
    "Waste_water['metabolite'].unique"
   ]
  },
  {
   "cell_type": "code",
   "execution_count": null,
   "id": "d0607925-9017-4ae2-b7df-5aaa7889b6c7",
   "metadata": {
    "tags": []
   },
   "outputs": [],
   "source": [
    "Waste_water['country'].value_counts(normalize=True)"
   ]
  },
  {
   "cell_type": "code",
   "execution_count": null,
   "id": "806b5053-b68a-4faa-a40c-d7e0bd41f9ad",
   "metadata": {
    "tags": []
   },
   "outputs": [],
   "source": [
    "intervals = [100, 200, 300, 400, 500, 600, 700, 800, 900, 1000, 1500, 2000, 2500, 3000]\n",
    "col = Waste_water['Daily mean']\n",
    "\n",
    "# To be able to look at the result stored in the variable\n",
    "Waste_water['Daily mean'] "
   ]
  },
  {
   "cell_type": "code",
   "execution_count": 11,
   "id": "2259c747-029c-4474-94f6-f7c74163208e",
   "metadata": {
    "tags": []
   },
   "outputs": [
    {
     "data": {
      "text/html": [
       "<div>\n",
       "<style scoped>\n",
       "    .dataframe tbody tr th:only-of-type {\n",
       "        vertical-align: middle;\n",
       "    }\n",
       "\n",
       "    .dataframe tbody tr th {\n",
       "        vertical-align: top;\n",
       "    }\n",
       "\n",
       "    .dataframe thead th {\n",
       "        text-align: right;\n",
       "    }\n",
       "</style>\n",
       "<table border=\"1\" class=\"dataframe\">\n",
       "  <thead>\n",
       "    <tr style=\"text-align: right;\">\n",
       "      <th></th>\n",
       "      <th>year</th>\n",
       "      <th>metabolite</th>\n",
       "      <th>country</th>\n",
       "      <th>Daily mean</th>\n",
       "    </tr>\n",
       "  </thead>\n",
       "  <tbody>\n",
       "    <tr>\n",
       "      <th>0</th>\n",
       "      <td>2021</td>\n",
       "      <td>amphetamine</td>\n",
       "      <td>TR</td>\n",
       "      <td>2.64</td>\n",
       "    </tr>\n",
       "    <tr>\n",
       "      <th>1</th>\n",
       "      <td>2021</td>\n",
       "      <td>amphetamine</td>\n",
       "      <td>TR</td>\n",
       "      <td>12.21</td>\n",
       "    </tr>\n",
       "    <tr>\n",
       "      <th>2</th>\n",
       "      <td>2021</td>\n",
       "      <td>cannabis</td>\n",
       "      <td>TR</td>\n",
       "      <td>37.11</td>\n",
       "    </tr>\n",
       "    <tr>\n",
       "      <th>3</th>\n",
       "      <td>2021</td>\n",
       "      <td>cannabis</td>\n",
       "      <td>TR</td>\n",
       "      <td>24.47</td>\n",
       "    </tr>\n",
       "    <tr>\n",
       "      <th>4</th>\n",
       "      <td>2021</td>\n",
       "      <td>cocaine</td>\n",
       "      <td>TR</td>\n",
       "      <td>5.71</td>\n",
       "    </tr>\n",
       "    <tr>\n",
       "      <th>...</th>\n",
       "      <td>...</td>\n",
       "      <td>...</td>\n",
       "      <td>...</td>\n",
       "      <td>...</td>\n",
       "    </tr>\n",
       "    <tr>\n",
       "      <th>2564</th>\n",
       "      <td>2016</td>\n",
       "      <td>methamphetamine</td>\n",
       "      <td>AT</td>\n",
       "      <td>2.01</td>\n",
       "    </tr>\n",
       "    <tr>\n",
       "      <th>2565</th>\n",
       "      <td>2015</td>\n",
       "      <td>amphetamine</td>\n",
       "      <td>AT</td>\n",
       "      <td>0.00</td>\n",
       "    </tr>\n",
       "    <tr>\n",
       "      <th>2566</th>\n",
       "      <td>2015</td>\n",
       "      <td>cocaine</td>\n",
       "      <td>AT</td>\n",
       "      <td>83.39</td>\n",
       "    </tr>\n",
       "    <tr>\n",
       "      <th>2567</th>\n",
       "      <td>2015</td>\n",
       "      <td>MDMA</td>\n",
       "      <td>AT</td>\n",
       "      <td>13.88</td>\n",
       "    </tr>\n",
       "    <tr>\n",
       "      <th>2568</th>\n",
       "      <td>2015</td>\n",
       "      <td>methamphetamine</td>\n",
       "      <td>AT</td>\n",
       "      <td>0.00</td>\n",
       "    </tr>\n",
       "  </tbody>\n",
       "</table>\n",
       "<p>2569 rows × 4 columns</p>\n",
       "</div>"
      ],
      "text/plain": [
       "      year       metabolite country  Daily mean\n",
       "0     2021      amphetamine      TR        2.64\n",
       "1     2021      amphetamine      TR       12.21\n",
       "2     2021         cannabis      TR       37.11\n",
       "3     2021         cannabis      TR       24.47\n",
       "4     2021          cocaine      TR        5.71\n",
       "...    ...              ...     ...         ...\n",
       "2564  2016  methamphetamine      AT        2.01\n",
       "2565  2015      amphetamine      AT        0.00\n",
       "2566  2015          cocaine      AT       83.39\n",
       "2567  2015             MDMA      AT       13.88\n",
       "2568  2015  methamphetamine      AT        0.00\n",
       "\n",
       "[2569 rows x 4 columns]"
      ]
     },
     "execution_count": 11,
     "metadata": {},
     "output_type": "execute_result"
    }
   ],
   "source": [
    "df = pd.read_csv('WW-data-long-2022-03-14.csv',\n",
    "        header=0,\n",
    "        usecols=[\"metabolite\", \"country\", \"year\", \"Daily mean\"])\n",
    " \n",
    "df"
   ]
  },
  {
   "cell_type": "code",
   "execution_count": null,
   "id": "8f9f7a91-99f1-4d59-9b77-facfe6ba1815",
   "metadata": {
    "tags": []
   },
   "outputs": [],
   "source": [
    "Waste_water.groupby('country)['country'].count()"
   ]
  },
  {
   "cell_type": "code",
   "execution_count": null,
   "id": "4172d076-3e99-413e-8022-41d8e459c217",
   "metadata": {
    "tags": []
   },
   "outputs": [],
   "source": [
    "# The _oh means one-hot\n",
    "Waste_water_oh = pd.get_dummies(Waste_water)\n",
    "# Display the one-hot encoded dataframe\n",
    "Waste_water_oh "
   ]
  },
  {
   "cell_type": "code",
   "execution_count": null,
   "id": "78245858-1071-42ac-9b42-830d0f9685c7",
   "metadata": {
    "tags": []
   },
   "outputs": [],
   "source": [
    "import seaborn as sns\n",
    "# Seaborn is een data-visualisatie package\n",
    "\n",
    "#dropped days one by one, bc wouldn't group.\n",
    "#Waste_water = Waste_water.drop('Weekend mean', axis=1)\n",
    "\n",
    "sns.pairplot(Waste_water)"
   ]
  },
  {
   "cell_type": "code",
   "execution_count": null,
   "id": "2b5e1602-ec09-4d6d-9399-0c10e3d2966e",
   "metadata": {
    "tags": []
   },
   "outputs": [],
   "source": [
    "sns.scatterplot(x=Waste_water['country'],\n",
    "                y=Waste_water['Daily mean'])"
   ]
  },
  {
   "cell_type": "code",
   "execution_count": null,
   "id": "987c1d5c-71c4-45a7-aa30-aee5a33c8de5",
   "metadata": {
    "tags": []
   },
   "outputs": [],
   "source": [
    "import scipy.cluster.hierarchy as shc\n",
    "import matplotlib.pyplot as plt\n",
    "\n",
    "plt.figure(figsize=(10, 5))\n",
    "plt.title(\"Drug Waste Dendrogram\")\n",
    "\n",
    "# Selecting Annual Income and Spending Scores by index\n",
    "selected_data = Waste_water_oh.iloc[:, 1:3]\n",
    "clusters = shc.linkage(selected_data, \n",
    "            method='ward', \n",
    "            metric=\"euclidean\")\n",
    "shc.dendrogram(Z=clusters)\n",
    "plt.show()"
   ]
  },
  {
   "cell_type": "code",
   "execution_count": null,
   "id": "ed663b32-b64b-4961-9f1c-21752d424402",
   "metadata": {
    "tags": []
   },
   "outputs": [],
   "source": [
    "plt.figure(figsize=(10, 7))\n",
    "plt.title(\"Dendrogram with line\")\n",
    "clusters = shc.linkage(selected_data, \n",
    "            method='ward', \n",
    "            metric=\"euclidean\")\n",
    "shc.dendrogram(clusters)\n",
    "plt.axhline(y = 125, color = 'r', linestyle = '-')\n"
   ]
  },
  {
   "cell_type": "code",
   "execution_count": null,
   "id": "b051eba5-51f5-4568-89d7-1178a60519eb",
   "metadata": {
    "tags": []
   },
   "outputs": [],
   "source": [
    "from sklearn.cluster import AgglomerativeClustering\n",
    "\n",
    "clustering_model = AgglomerativeClustering(n_clusters=7, metric='euclidean', linkage='ward')\n",
    "clustering_model.fit(selected_data)\n",
    "clustering_model.labels_"
   ]
  },
  {
   "cell_type": "code",
   "execution_count": null,
   "id": "e55e1b67-12f5-4978-b78f-6c08d7f480af",
   "metadata": {
    "tags": []
   },
   "outputs": [],
   "source": [
    "Waste_water = clustering_model.labels_\n",
    "sns.scatterplot(x='country', \n",
    "                y='Daily mean', \n",
    "                data=selected_data, \n",
    "                hue=data_labels,\n",
    "                palette=\"rainbow\").set_title('Labeled Customer Data')"
   ]
  },
  {
   "cell_type": "code",
   "execution_count": null,
   "id": "8989efbc-12cd-47f0-b309-711ec96ce974",
   "metadata": {},
   "outputs": [],
   "source": []
  }
 ],
 "metadata": {
  "kernelspec": {
   "display_name": "Python 3 (ipykernel)",
   "language": "python",
   "name": "python3"
  },
  "language_info": {
   "codemirror_mode": {
    "name": "ipython",
    "version": 3
   },
   "file_extension": ".py",
   "mimetype": "text/x-python",
   "name": "python",
   "nbconvert_exporter": "python",
   "pygments_lexer": "ipython3",
   "version": "3.10.10"
  }
 },
 "nbformat": 4,
 "nbformat_minor": 5
}
