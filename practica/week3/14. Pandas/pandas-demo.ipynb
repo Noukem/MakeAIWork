{
 "cells": [
  {
   "cell_type": "markdown",
   "id": "0115ae64",
   "metadata": {},
   "source": [
    "# Referenties"
   ]
  },
  {
   "cell_type": "markdown",
   "id": "0e4b86b7",
   "metadata": {},
   "source": [
    "Altijd beginnen met 'getting started':\n",
    "\n",
    "https://pandas.pydata.org/docs/getting_started/index.html#getting-started\n",
    "\n",
    "Dan een snel overzicht:\n",
    "\n",
    "https://pandas.pydata.org/docs/user_guide/10min.html\n",
    "\n",
    "Daarna kijken naar de API beschrijving:\n",
    "\n",
    "https://pandas.pydata.org/docs/reference/index.html"
   ]
  },
  {
   "cell_type": "markdown",
   "id": "0aed921b",
   "metadata": {},
   "source": [
    "# Installatie"
   ]
  },
  {
   "cell_type": "markdown",
   "id": "5f3de6ad",
   "metadata": {},
   "source": [
    "Run `pip3 install pandas` in the terminal to install the Pandas library."
   ]
  },
  {
   "cell_type": "markdown",
   "id": "a2952930",
   "metadata": {},
   "source": [
    "# Imports"
   ]
  },
  {
   "cell_type": "code",
   "execution_count": 77,
   "id": "ccc131b9",
   "metadata": {
    "tags": []
   },
   "outputs": [],
   "source": [
    "import pandas as pd\n",
    "\n",
    "import matplotlib.pyplot as plt"
   ]
  },
  {
   "cell_type": "markdown",
   "id": "52993ea0",
   "metadata": {},
   "source": [
    "# Schetsen"
   ]
  },
  {
   "cell_type": "code",
   "execution_count": 99,
   "id": "57c534fd",
   "metadata": {
    "tags": []
   },
   "outputs": [
    {
     "name": "stdout",
     "output_type": "stream",
     "text": [
      "                       Name  Age     Sex\n",
      "0   Braund, Mr. Owen Harris   22    male\n",
      "1  Allen, Mr. William Henry   35    male\n",
      "2  Bonnell, Miss. Elizabeth   58  female\n"
     ]
    },
    {
     "data": {
      "text/html": [
       "<div>\n",
       "<style scoped>\n",
       "    .dataframe tbody tr th:only-of-type {\n",
       "        vertical-align: middle;\n",
       "    }\n",
       "\n",
       "    .dataframe tbody tr th {\n",
       "        vertical-align: top;\n",
       "    }\n",
       "\n",
       "    .dataframe thead th {\n",
       "        text-align: right;\n",
       "    }\n",
       "</style>\n",
       "<table border=\"1\" class=\"dataframe\">\n",
       "  <thead>\n",
       "    <tr style=\"text-align: right;\">\n",
       "      <th></th>\n",
       "      <th>Name</th>\n",
       "      <th>Age</th>\n",
       "      <th>Sex</th>\n",
       "    </tr>\n",
       "  </thead>\n",
       "  <tbody>\n",
       "    <tr>\n",
       "      <th>0</th>\n",
       "      <td>Braund, Mr. Owen Harris</td>\n",
       "      <td>22</td>\n",
       "      <td>male</td>\n",
       "    </tr>\n",
       "    <tr>\n",
       "      <th>1</th>\n",
       "      <td>Allen, Mr. William Henry</td>\n",
       "      <td>35</td>\n",
       "      <td>male</td>\n",
       "    </tr>\n",
       "    <tr>\n",
       "      <th>2</th>\n",
       "      <td>Bonnell, Miss. Elizabeth</td>\n",
       "      <td>58</td>\n",
       "      <td>female</td>\n",
       "    </tr>\n",
       "  </tbody>\n",
       "</table>\n",
       "</div>"
      ],
      "text/plain": [
       "                       Name  Age     Sex\n",
       "0   Braund, Mr. Owen Harris   22    male\n",
       "1  Allen, Mr. William Henry   35    male\n",
       "2  Bonnell, Miss. Elizabeth   58  female"
      ]
     },
     "execution_count": 99,
     "metadata": {},
     "output_type": "execute_result"
    }
   ],
   "source": [
    "# Dataframe maken\n",
    "df = pd.DataFrame(\n",
    "    {\n",
    "        \"Name\": [\n",
    "            \"Braund, Mr. Owen Harris\",\n",
    "            \"Allen, Mr. William Henry\",\n",
    "            \"Bonnell, Miss. Elizabeth\",\n",
    "        ],\n",
    "        \"Age\": [\n",
    "            22,\n",
    "            35,\n",
    "            58\n",
    "        ],\n",
    "        \"Sex\": [\n",
    "            \"male\",\n",
    "            \"male\",\n",
    "            \"female\"\n",
    "        ],\n",
    "    }\n",
    ")\n",
    "\n",
    "\n",
    "#index = [\"a\", \"b\", \"c\"]\n",
    "\n",
    "# Standaard print\n",
    "print(df)\n",
    "\n",
    "# Vergelijk met\n",
    "df\n"
   ]
  },
  {
   "cell_type": "code",
   "execution_count": 100,
   "id": "2a8aee00",
   "metadata": {
    "tags": []
   },
   "outputs": [],
   "source": [
    "# Data opslaan\n",
    "df.to_csv('./output/persona.csv',header=True, index=False)"
   ]
  },
  {
   "cell_type": "code",
   "execution_count": 101,
   "id": "c98bde01",
   "metadata": {
    "tags": []
   },
   "outputs": [
    {
     "data": {
      "text/html": [
       "<div>\n",
       "<style scoped>\n",
       "    .dataframe tbody tr th:only-of-type {\n",
       "        vertical-align: middle;\n",
       "    }\n",
       "\n",
       "    .dataframe tbody tr th {\n",
       "        vertical-align: top;\n",
       "    }\n",
       "\n",
       "    .dataframe thead th {\n",
       "        text-align: right;\n",
       "    }\n",
       "</style>\n",
       "<table border=\"1\" class=\"dataframe\">\n",
       "  <thead>\n",
       "    <tr style=\"text-align: right;\">\n",
       "      <th></th>\n",
       "      <th>Name</th>\n",
       "      <th>Age</th>\n",
       "      <th>Sex</th>\n",
       "    </tr>\n",
       "  </thead>\n",
       "  <tbody>\n",
       "    <tr>\n",
       "      <th>0</th>\n",
       "      <td>Braund, Mr. Owen Harris</td>\n",
       "      <td>22</td>\n",
       "      <td>male</td>\n",
       "    </tr>\n",
       "    <tr>\n",
       "      <th>1</th>\n",
       "      <td>Allen, Mr. William Henry</td>\n",
       "      <td>35</td>\n",
       "      <td>male</td>\n",
       "    </tr>\n",
       "    <tr>\n",
       "      <th>2</th>\n",
       "      <td>Bonnell, Miss. Elizabeth</td>\n",
       "      <td>58</td>\n",
       "      <td>female</td>\n",
       "    </tr>\n",
       "  </tbody>\n",
       "</table>\n",
       "</div>"
      ],
      "text/plain": [
       "                       Name  Age     Sex\n",
       "0   Braund, Mr. Owen Harris   22    male\n",
       "1  Allen, Mr. William Henry   35    male\n",
       "2  Bonnell, Miss. Elizabeth   58  female"
      ]
     },
     "metadata": {},
     "output_type": "display_data"
    }
   ],
   "source": [
    "df_saved = pd.read_csv('./output/persona.csv')\n",
    "\n",
    "display(df_saved)"
   ]
  },
  {
   "cell_type": "code",
   "execution_count": 102,
   "id": "99887936",
   "metadata": {
    "tags": []
   },
   "outputs": [
    {
     "data": {
      "text/plain": [
       "Index(['Name', 'Age', 'Sex'], dtype='object')"
      ]
     },
     "execution_count": 102,
     "metadata": {},
     "output_type": "execute_result"
    }
   ],
   "source": [
    "# De kolomnaam\n",
    "df.columns"
   ]
  },
  {
   "cell_type": "code",
   "execution_count": 154,
   "id": "ea10310e-e5c2-4d5e-867a-b1892d547cb1",
   "metadata": {
    "tags": []
   },
   "outputs": [
    {
     "data": {
      "text/plain": [
       "0    22\n",
       "1    35\n",
       "2    58\n",
       "Name: Age, dtype: int64"
      ]
     },
     "execution_count": 154,
     "metadata": {},
     "output_type": "execute_result"
    }
   ],
   "source": [
    "# Kan geen nummers lezen. Alleen namen van de colums.\n",
    "\n",
    "# display(df['Age'])\n",
    "df['Age'] "
   ]
  },
  {
   "cell_type": "code",
   "execution_count": 104,
   "id": "683e2d08",
   "metadata": {
    "tags": []
   },
   "outputs": [
    {
     "data": {
      "text/plain": [
       "0     Braund, Mr. Owen Harris\n",
       "1    Allen, Mr. William Henry\n",
       "2    Bonnell, Miss. Elizabeth\n",
       "Name: Name, dtype: object"
      ]
     },
     "metadata": {},
     "output_type": "display_data"
    }
   ],
   "source": [
    "# Een kolom lezen\n",
    "\n",
    "display(df.Name)\n",
    "\n",
    "#je kan de keynaam simplificeren: \n",
    "\n",
    "# age = 'Age'\n",
    "# df(age)\n"
   ]
  },
  {
   "cell_type": "code",
   "execution_count": 105,
   "id": "62a8fd3b",
   "metadata": {
    "tags": []
   },
   "outputs": [],
   "source": [
    "# Een kolom verwijderen\n",
    "#col=df.pop('Age')\n",
    "\n",
    "#Dit verwijdert de column uit de data. Om de originele waarde te behouden:\n",
    "df_copy = df.copy() "
   ]
  },
  {
   "cell_type": "code",
   "execution_count": 106,
   "id": "0a140d34-d15d-4f90-818f-b07f7ed72ec2",
   "metadata": {
    "tags": []
   },
   "outputs": [],
   "source": [
    "# .drop default is 'axis=0'. De 0-axis is een index, geen column\n",
    "# df_copy_copy = df_copy.drop('Age', axis=1)\n",
    "\n"
   ]
  },
  {
   "cell_type": "code",
   "execution_count": 107,
   "id": "ab8003d2-fc7f-40bb-be3e-f97b12e3b88e",
   "metadata": {
    "tags": []
   },
   "outputs": [
    {
     "data": {
      "text/plain": [
       "0    22\n",
       "1    35\n",
       "2    58\n",
       "Name: Age, dtype: int64"
      ]
     },
     "metadata": {},
     "output_type": "display_data"
    }
   ],
   "source": [
    "display(col)"
   ]
  },
  {
   "cell_type": "code",
   "execution_count": 108,
   "id": "61c6f8e4",
   "metadata": {
    "tags": []
   },
   "outputs": [
    {
     "data": {
      "text/plain": [
       "Name    Braund, Mr. Owen Harris\n",
       "Age                          22\n",
       "Sex                        male\n",
       "Name: 0, dtype: object"
      ]
     },
     "execution_count": 108,
     "metadata": {},
     "output_type": "execute_result"
    }
   ],
   "source": [
    "# Een rij lezen\n",
    "\n",
    "#bij indexen kan je wel ints. invullen. (Tenzij je ze hebt veranderd naar [a, b, c] oid)\n",
    "# loc = location\n",
    "\n",
    "df.loc[0]"
   ]
  },
  {
   "cell_type": "code",
   "execution_count": 109,
   "id": "44dac1b4-8d3e-46b9-b58d-4d1de94f1d3f",
   "metadata": {
    "tags": []
   },
   "outputs": [
    {
     "data": {
      "text/plain": [
       "22"
      ]
     },
     "execution_count": 162,
     "metadata": {},
     "output_type": "execute_result"
    }
   ],
   "source": [
    "df.iloc[0,1] "
   ]
  },
  {
   "cell_type": "code",
   "execution_count": 157,
   "id": "51eabbb2",
   "metadata": {
    "tags": []
   },
   "outputs": [
    {
     "data": {
      "text/plain": [
       "Name    Allen, Mr. William Henry\n",
       "Age                           35\n",
       "Sex                         male\n",
       "Name: 1, dtype: object"
      ]
     },
     "execution_count": 158,
     "metadata": {},
     "output_type": "execute_result"
    }
   ],
   "source": [
    "# Functie getRow() maken\n",
    "def getRow(dataframe, index): \n",
    "        return df.iloc[index]\n",
    "    \n",
    "getRow(df, )"
   ]
  },
  {
   "cell_type": "code",
   "execution_count": 168,
   "id": "6ef5de0c",
   "metadata": {
    "tags": []
   },
   "outputs": [
    {
     "data": {
      "text/html": [
       "<div>\n",
       "<style scoped>\n",
       "    .dataframe tbody tr th:only-of-type {\n",
       "        vertical-align: middle;\n",
       "    }\n",
       "\n",
       "    .dataframe tbody tr th {\n",
       "        vertical-align: top;\n",
       "    }\n",
       "\n",
       "    .dataframe thead th {\n",
       "        text-align: right;\n",
       "    }\n",
       "</style>\n",
       "<table border=\"1\" class=\"dataframe\">\n",
       "  <thead>\n",
       "    <tr style=\"text-align: right;\">\n",
       "      <th></th>\n",
       "      <th>Name</th>\n",
       "      <th>Age</th>\n",
       "      <th>Sex</th>\n",
       "    </tr>\n",
       "  </thead>\n",
       "  <tbody>\n",
       "    <tr>\n",
       "      <th>0</th>\n",
       "      <td>Braund, Mr. Owen Harris</td>\n",
       "      <td>22</td>\n",
       "      <td>male</td>\n",
       "    </tr>\n",
       "    <tr>\n",
       "      <th>1</th>\n",
       "      <td>Allen, Mr. William Henry</td>\n",
       "      <td>35</td>\n",
       "      <td>male</td>\n",
       "    </tr>\n",
       "    <tr>\n",
       "      <th>2</th>\n",
       "      <td>Bonnell, Miss. Elizabeth</td>\n",
       "      <td>58</td>\n",
       "      <td>female</td>\n",
       "    </tr>\n",
       "    <tr>\n",
       "      <th>3</th>\n",
       "      <td>Ruud</td>\n",
       "      <td>44</td>\n",
       "      <td>Male</td>\n",
       "    </tr>\n",
       "  </tbody>\n",
       "</table>\n",
       "</div>"
      ],
      "text/plain": [
       "                       Name  Age     Sex\n",
       "0   Braund, Mr. Owen Harris   22    male\n",
       "1  Allen, Mr. William Henry   35    male\n",
       "2  Bonnell, Miss. Elizabeth   58  female\n",
       "3                      Ruud   44    Male"
      ]
     },
     "metadata": {},
     "output_type": "display_data"
    }
   ],
   "source": [
    "# Een rij toevoegen\n",
    "df_copy = df.copy()\n",
    "\n",
    "df_copy.loc[3] = [\"Ruud\", 44, \"Male\"]\n",
    "\n",
    "display(df_copy)\n",
    "\n"
   ]
  },
  {
   "cell_type": "code",
   "execution_count": 136,
   "id": "62b024c5-4251-4ee7-b040-26342130ae07",
   "metadata": {
    "tags": []
   },
   "outputs": [],
   "source": [
    "# df_copy = df.copy()\n",
    "\n",
    "# df_copy.loc[4] = [\"Hans\", 54, \"male\"]\n",
    "# display(df_copy)"
   ]
  },
  {
   "cell_type": "code",
   "execution_count": 133,
   "id": "dbc501e9",
   "metadata": {},
   "outputs": [],
   "source": [
    "# Functie insertAt(row, index)\n",
    "# ..."
   ]
  },
  {
   "cell_type": "code",
   "execution_count": 134,
   "id": "b21bab05",
   "metadata": {},
   "outputs": [],
   "source": [
    "# Verkennen\n",
    "# ..."
   ]
  },
  {
   "cell_type": "code",
   "execution_count": 142,
   "id": "56e17006",
   "metadata": {
    "tags": []
   },
   "outputs": [
    {
     "data": {
      "text/html": [
       "<div>\n",
       "<style scoped>\n",
       "    .dataframe tbody tr th:only-of-type {\n",
       "        vertical-align: middle;\n",
       "    }\n",
       "\n",
       "    .dataframe tbody tr th {\n",
       "        vertical-align: top;\n",
       "    }\n",
       "\n",
       "    .dataframe thead th {\n",
       "        text-align: right;\n",
       "    }\n",
       "</style>\n",
       "<table border=\"1\" class=\"dataframe\">\n",
       "  <thead>\n",
       "    <tr style=\"text-align: right;\">\n",
       "      <th></th>\n",
       "      <th>Name</th>\n",
       "      <th>Age</th>\n",
       "      <th>Sex</th>\n",
       "    </tr>\n",
       "  </thead>\n",
       "  <tbody>\n",
       "    <tr>\n",
       "      <th>1</th>\n",
       "      <td>Allen, Mr. William Henry</td>\n",
       "      <td>35</td>\n",
       "      <td>male</td>\n",
       "    </tr>\n",
       "  </tbody>\n",
       "</table>\n",
       "</div>"
      ],
      "text/plain": [
       "                       Name  Age   Sex\n",
       "1  Allen, Mr. William Henry   35  male"
      ]
     },
     "execution_count": 142,
     "metadata": {},
     "output_type": "execute_result"
    }
   ],
   "source": [
    "# Filteren\n",
    "df.query(\"Age > 30 and Sex == 'male'\")"
   ]
  },
  {
   "cell_type": "code",
   "execution_count": 153,
   "id": "93519c70-f7cd-4a3d-a131-530e58253ce6",
   "metadata": {
    "tags": []
   },
   "outputs": [
    {
     "ename": "TypeError",
     "evalue": "'method' object is not subscriptable",
     "output_type": "error",
     "traceback": [
      "\u001b[1;31m---------------------------------------------------------------------------\u001b[0m",
      "\u001b[1;31mTypeError\u001b[0m                                 Traceback (most recent call last)",
      "Cell \u001b[1;32mIn[153], line 3\u001b[0m\n\u001b[0;32m      1\u001b[0m \u001b[38;5;66;03m#zoek op mevrouw Bonnell\u001b[39;00m\n\u001b[1;32m----> 3\u001b[0m df(\u001b[43mdf\u001b[49m\u001b[43m[\u001b[49m\u001b[38;5;124;43m\"\u001b[39;49m\u001b[38;5;124;43mName\u001b[39;49m\u001b[38;5;124;43m\"\u001b[39;49m\u001b[43m]\u001b[49m\u001b[38;5;241;43m.\u001b[39;49m\u001b[43mstr\u001b[49m\u001b[38;5;241;43m.\u001b[39;49m\u001b[43mcontains\u001b[49m\u001b[43m[\u001b[49m\u001b[38;5;124;43m\"\u001b[39;49m\u001b[38;5;124;43mBonnell\u001b[39;49m\u001b[38;5;124;43m\"\u001b[39;49m\u001b[43m]\u001b[49m)\n",
      "\u001b[1;31mTypeError\u001b[0m: 'method' object is not subscriptable"
     ]
    }
   ],
   "source": [
    "#zoek op mevrouw Bonnell\n",
    "\n",
    "df(df[\"Name\"].str.contains[\"Bonnell\"])"
   ]
  },
  {
   "cell_type": "code",
   "execution_count": 136,
   "id": "39cd6d20",
   "metadata": {},
   "outputs": [],
   "source": [
    "# Groeperen\n",
    "# ..."
   ]
  },
  {
   "cell_type": "code",
   "execution_count": 137,
   "id": "5158b0b6",
   "metadata": {},
   "outputs": [],
   "source": [
    "# Extra: toepassing OOP en het bouwen van je eigen library\n",
    "# ..."
   ]
  }
 ],
 "metadata": {
  "kernelspec": {
   "display_name": "Python 3 (ipykernel)",
   "language": "python",
   "name": "python3"
  },
  "language_info": {
   "codemirror_mode": {
    "name": "ipython",
    "version": 3
   },
   "file_extension": ".py",
   "mimetype": "text/x-python",
   "name": "python",
   "nbconvert_exporter": "python",
   "pygments_lexer": "ipython3",
   "version": "3.10.10"
  }
 },
 "nbformat": 4,
 "nbformat_minor": 5
}
