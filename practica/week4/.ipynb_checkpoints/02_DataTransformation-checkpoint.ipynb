{
 "cells": [
  {
   "cell_type": "markdown",
   "id": "dbef7ad4-981d-43e4-9fd1-cc8fc41aa499",
   "metadata": {
    "tags": []
   },
   "source": [
    "<H1><B>02 Data Transformation</B></H1>"
   ]
  },
  {
   "cell_type": "markdown",
   "id": "cfdb0cd6-0596-41b7-92e9-ad1ae5575e34",
   "metadata": {},
   "source": [
    "<H3><B>Step 1</B>&nbsp;&nbsp;&nbsp; Use different techniques to identify mistakes and omissions</H3>\n",
    "<a href=\"https://www.w3schools.com/python/pandas/pandas_analyzing.asp\">Pandas - Analyzing Data: w3schools.com</a>\n",
    "<br>&nbsp;"
   ]
  },
  {
   "cell_type": "code",
   "execution_count": 1,
   "id": "428c3619-5248-4e21-9933-13c523492faf",
   "metadata": {
    "tags": []
   },
   "outputs": [],
   "source": [
    "from PIL import Image              # Using these lines as template for whole file.\n",
    "import csv\n",
    "import json\n",
    "import os\n",
    "\n",
    "import pandas as pd\n",
    "import sqlite3\n",
    "\n",
    "import matplotlib.pyplot as plt\n",
    "import numpy as np\n",
    "import scipy as cp"
   ]
  },
  {
   "cell_type": "code",
   "execution_count": 13,
   "id": "599e0b20-5861-4679-855a-1918ab45b09b",
   "metadata": {
    "tags": []
   },
   "outputs": [
    {
     "data": {
      "text/html": [
       "<div>\n",
       "<style scoped>\n",
       "    .dataframe tbody tr th:only-of-type {\n",
       "        vertical-align: middle;\n",
       "    }\n",
       "\n",
       "    .dataframe tbody tr th {\n",
       "        vertical-align: top;\n",
       "    }\n",
       "\n",
       "    .dataframe thead th {\n",
       "        text-align: right;\n",
       "    }\n",
       "</style>\n",
       "<table border=\"1\" class=\"dataframe\">\n",
       "  <thead>\n",
       "    <tr style=\"text-align: right;\">\n",
       "      <th></th>\n",
       "      <th>id</th>\n",
       "      <th>genetic</th>\n",
       "      <th>length</th>\n",
       "      <th>mass</th>\n",
       "      <th>exercise</th>\n",
       "      <th>smoking</th>\n",
       "      <th>alcohol</th>\n",
       "      <th>lifespan</th>\n",
       "      <th>sugar</th>\n",
       "    </tr>\n",
       "  </thead>\n",
       "  <tbody>\n",
       "    <tr>\n",
       "      <th>0</th>\n",
       "      <td>1</td>\n",
       "      <td>73.9</td>\n",
       "      <td>185.0</td>\n",
       "      <td>99.7</td>\n",
       "      <td>0.9</td>\n",
       "      <td>0.0</td>\n",
       "      <td>2.4</td>\n",
       "      <td>73.1</td>\n",
       "      <td>6.9</td>\n",
       "    </tr>\n",
       "    <tr>\n",
       "      <th>1</th>\n",
       "      <td>2</td>\n",
       "      <td>86.0</td>\n",
       "      <td>172.0</td>\n",
       "      <td>105.4</td>\n",
       "      <td>1.8</td>\n",
       "      <td>8.1</td>\n",
       "      <td>0.4</td>\n",
       "      <td>85.0</td>\n",
       "      <td>4.2</td>\n",
       "    </tr>\n",
       "    <tr>\n",
       "      <th>2</th>\n",
       "      <td>3</td>\n",
       "      <td>83.3</td>\n",
       "      <td>176.0</td>\n",
       "      <td>111.4</td>\n",
       "      <td>1.1</td>\n",
       "      <td>0.8</td>\n",
       "      <td>4.6</td>\n",
       "      <td>81.6</td>\n",
       "      <td>7.5</td>\n",
       "    </tr>\n",
       "    <tr>\n",
       "      <th>3</th>\n",
       "      <td>4</td>\n",
       "      <td>82.8</td>\n",
       "      <td>164.0</td>\n",
       "      <td>111.4</td>\n",
       "      <td>4.7</td>\n",
       "      <td>11.8</td>\n",
       "      <td>1.0</td>\n",
       "      <td>81.0</td>\n",
       "      <td>2.9</td>\n",
       "    </tr>\n",
       "    <tr>\n",
       "      <th>4</th>\n",
       "      <td>5</td>\n",
       "      <td>78.7</td>\n",
       "      <td>178.0</td>\n",
       "      <td>71.6</td>\n",
       "      <td>1.5</td>\n",
       "      <td>8.3</td>\n",
       "      <td>4.9</td>\n",
       "      <td>75.0</td>\n",
       "      <td>5.5</td>\n",
       "    </tr>\n",
       "    <tr>\n",
       "      <th>5</th>\n",
       "      <td>6</td>\n",
       "      <td>88.2</td>\n",
       "      <td>192.0</td>\n",
       "      <td>54.3</td>\n",
       "      <td>1.8</td>\n",
       "      <td>0.4</td>\n",
       "      <td>2.1</td>\n",
       "      <td>87.5</td>\n",
       "      <td>8.0</td>\n",
       "    </tr>\n",
       "    <tr>\n",
       "      <th>6</th>\n",
       "      <td>7</td>\n",
       "      <td>84.1</td>\n",
       "      <td>180.0</td>\n",
       "      <td>91.6</td>\n",
       "      <td>4.3</td>\n",
       "      <td>2.2</td>\n",
       "      <td>0.2</td>\n",
       "      <td>86.8</td>\n",
       "      <td>6.0</td>\n",
       "    </tr>\n",
       "    <tr>\n",
       "      <th>7</th>\n",
       "      <td>8</td>\n",
       "      <td>76.8</td>\n",
       "      <td>185.0</td>\n",
       "      <td>127.9</td>\n",
       "      <td>2.6</td>\n",
       "      <td>21.0</td>\n",
       "      <td>1.7</td>\n",
       "      <td>69.4</td>\n",
       "      <td>3.7</td>\n",
       "    </tr>\n",
       "    <tr>\n",
       "      <th>8</th>\n",
       "      <td>9</td>\n",
       "      <td>92.1</td>\n",
       "      <td>191.0</td>\n",
       "      <td>68.0</td>\n",
       "      <td>1.9</td>\n",
       "      <td>17.8</td>\n",
       "      <td>5.1</td>\n",
       "      <td>86.1</td>\n",
       "      <td>7.1</td>\n",
       "    </tr>\n",
       "    <tr>\n",
       "      <th>9</th>\n",
       "      <td>10</td>\n",
       "      <td>79.0</td>\n",
       "      <td>164.0</td>\n",
       "      <td>118.1</td>\n",
       "      <td>3.7</td>\n",
       "      <td>0.5</td>\n",
       "      <td>1.2</td>\n",
       "      <td>77.8</td>\n",
       "      <td>6.1</td>\n",
       "    </tr>\n",
       "  </tbody>\n",
       "</table>\n",
       "</div>"
      ],
      "text/plain": [
       "   id  genetic  length   mass  exercise  smoking  alcohol  lifespan  sugar\n",
       "0   1     73.9   185.0   99.7       0.9      0.0      2.4      73.1    6.9\n",
       "1   2     86.0   172.0  105.4       1.8      8.1      0.4      85.0    4.2\n",
       "2   3     83.3   176.0  111.4       1.1      0.8      4.6      81.6    7.5\n",
       "3   4     82.8   164.0  111.4       4.7     11.8      1.0      81.0    2.9\n",
       "4   5     78.7   178.0   71.6       1.5      8.3      4.9      75.0    5.5\n",
       "5   6     88.2   192.0   54.3       1.8      0.4      2.1      87.5    8.0\n",
       "6   7     84.1   180.0   91.6       4.3      2.2      0.2      86.8    6.0\n",
       "7   8     76.8   185.0  127.9       2.6     21.0      1.7      69.4    3.7\n",
       "8   9     92.1   191.0   68.0       1.9     17.8      5.1      86.1    7.1\n",
       "9  10     79.0   164.0  118.1       3.7      0.5      1.2      77.8    6.1"
      ]
     },
     "execution_count": 13,
     "metadata": {},
     "output_type": "execute_result"
    }
   ],
   "source": [
    "# 1. Analyzing DataFrames and Viewing the Data.\n",
    "# One of the most used method for getting a quick overview of the DataFrame, is the head() method.\n",
    "# The head() method returns the headers and a specified number of rows, starting from the top.\n",
    "# Get a quick overview by printing the first 10 rows of the DataFrame:\n",
    "\n",
    "df = pd.read_csv('../../Project/Project 1/data.csv')\n",
    "df.head(10)\n"
   ]
  },
  {
   "cell_type": "code",
   "execution_count": 14,
   "id": "ee32ae18-b0a7-43b2-8fd7-4c909ca6b7ff",
   "metadata": {
    "tags": []
   },
   "outputs": [
    {
     "name": "stdout",
     "output_type": "stream",
     "text": [
      "<class 'pandas.core.frame.DataFrame'>\n",
      "RangeIndex: 4096 entries, 0 to 4095\n",
      "Data columns (total 9 columns):\n",
      " #   Column    Non-Null Count  Dtype  \n",
      "---  ------    --------------  -----  \n",
      " 0   id        4096 non-null   int64  \n",
      " 1   genetic   4095 non-null   float64\n",
      " 2   length    4093 non-null   float64\n",
      " 3   mass      4094 non-null   float64\n",
      " 4   exercise  4095 non-null   float64\n",
      " 5   smoking   4096 non-null   float64\n",
      " 6   alcohol   4094 non-null   float64\n",
      " 7   lifespan  4094 non-null   float64\n",
      " 8   sugar     4095 non-null   float64\n",
      "dtypes: float64(8), int64(1)\n",
      "memory usage: 288.1 KB\n",
      "None\n"
     ]
    }
   ],
   "source": [
    "# 2. Info About the Data\n",
    "# The DataFrames object has a method called info(), that gives you more information about the data set.\n",
    "\n",
    "df = pd.read_csv('../../Project/Project 1/data.csv')\n",
    "print(df.info())\n",
    "\n",
    "# Result explained in short:\n",
    "# The result tells us there are 4096 rows and 9 columns with the names of each column and their data type.\n",
    "# The info() method also tells us how many Non-Null values there are present in each column:\n",
    "# Column 'genetic' has 1 'null value'\n",
    "# Column 'length' has 3 'null values'\n",
    "# Column 'mass' has 2 'null value'\n",
    "# Column 'exercise' has 1 'null value'\n",
    "# Column 'smoking' has 0 'null value'\n",
    "# Column 'alcohol' has 2 'null value'\n",
    "# Column 'lifespan' has 2 'null value'\n",
    "# Column 'sugar' has 1 'null value'"
   ]
  },
  {
   "cell_type": "code",
   "execution_count": null,
   "id": "f12232ca-431e-414c-ae17-436fe22c893f",
   "metadata": {},
   "outputs": [],
   "source": []
  },
  {
   "cell_type": "markdown",
   "id": "87783011-833d-43b8-9bff-0d1efed16216",
   "metadata": {},
   "source": [
    "<H3><B>Step 2</B>&nbsp;&nbsp;&nbsp; Apply the different techniques to clean the dataset</H3>"
   ]
  },
  {
   "cell_type": "markdown",
   "id": "43ffc9e3-a9d6-4ca4-a0a3-9c527415f606",
   "metadata": {},
   "source": [
    "<H4><B>Cleaning Data</B></H4><a href=\"https://www.w3schools.com/python/pandas/pandas_cleaning_empty_cells.asp\">Pandas - Cleaning Empty Cells: w3schools.com</a>\n",
    "<br>&nbsp;\n",
    "Data cleaning means fixing bad data in your data set. Bad data could be:<br>\n",
    "• Empty cells<br>\n",
    "• Data in wrong format<br>\n",
    "• Wrong data<br>\n",
    "• Duplicates<br>"
   ]
  },
  {
   "cell_type": "code",
   "execution_count": 15,
   "id": "134067e9-ae4b-44b8-9381-0f672c203992",
   "metadata": {
    "tags": []
   },
   "outputs": [
    {
     "name": "stdout",
     "output_type": "stream",
     "text": [
      "<class 'pandas.core.frame.DataFrame'>\n",
      "Int64Index: 4084 entries, 0 to 4095\n",
      "Data columns (total 9 columns):\n",
      " #   Column    Non-Null Count  Dtype  \n",
      "---  ------    --------------  -----  \n",
      " 0   id        4084 non-null   int64  \n",
      " 1   genetic   4084 non-null   float64\n",
      " 2   length    4084 non-null   float64\n",
      " 3   mass      4084 non-null   float64\n",
      " 4   exercise  4084 non-null   float64\n",
      " 5   smoking   4084 non-null   float64\n",
      " 6   alcohol   4084 non-null   float64\n",
      " 7   lifespan  4084 non-null   float64\n",
      " 8   sugar     4084 non-null   float64\n",
      "dtypes: float64(8), int64(1)\n",
      "memory usage: 319.1 KB\n",
      "None\n"
     ]
    }
   ],
   "source": [
    "# Cleaning Empty Cells by Removing Rows.\n",
    "# One way to deal with empty cells is to remove rows that contain empty cells.\n",
    "# This is usually OK, since data sets can be very big, and removing a few rows will not have a big impact on the result.\n",
    "# Return a new DataFrame with no empty cells:\n",
    "import pandas as pd\n",
    "df = pd.read_csv('../../Project/Project 1/data.csv')\n",
    "new_df = df.dropna()\n",
    "# print(new_df.to_string())\n",
    "print(new_df.info())\n",
    "\n",
    "# Note: By default, the dropna() method returns a new DataFrame, and will not change the original.\n",
    "# Note: All null-values are gone and 7 rows are deleted: 8185 entries (rows) left to work with."
   ]
  },
  {
   "cell_type": "markdown",
   "id": "6f984803-efc5-4ce1-9a63-407b91ecdf01",
   "metadata": {},
   "source": [
    "<H4><B>Replace Using Mean</B></H4>"
   ]
  },
  {
   "cell_type": "code",
   "execution_count": 16,
   "id": "851b5a07-48c1-4c8d-bafb-14bd297f7d0a",
   "metadata": {
    "tags": []
   },
   "outputs": [
    {
     "name": "stdout",
     "output_type": "stream",
     "text": [
      "<class 'pandas.core.frame.DataFrame'>\n",
      "RangeIndex: 4096 entries, 0 to 4095\n",
      "Data columns (total 9 columns):\n",
      " #   Column    Non-Null Count  Dtype  \n",
      "---  ------    --------------  -----  \n",
      " 0   id        4096 non-null   int64  \n",
      " 1   genetic   4096 non-null   float64\n",
      " 2   length    4093 non-null   float64\n",
      " 3   mass      4094 non-null   float64\n",
      " 4   exercise  4095 non-null   float64\n",
      " 5   smoking   4096 non-null   float64\n",
      " 6   alcohol   4094 non-null   float64\n",
      " 7   lifespan  4094 non-null   float64\n",
      " 8   sugar     4095 non-null   float64\n",
      "dtypes: float64(8), int64(1)\n",
      "memory usage: 288.1 KB\n",
      "None\n"
     ]
    }
   ],
   "source": [
    "# Replace Using Mean, Median, or Mode\n",
    "# A common way to replace empty cells, is to calculate the mean, median or mode value of the column.\n",
    "# Pandas uses the mean() median() and mode() methods to calculate the respective values for a specified column.\n",
    "\n",
    "# Calculate the MEAN, and replace any empty values with it:\n",
    "df = pd.read_csv('../../Project/Project 1/data.csv')\n",
    "x = df['genetic'].mean()\n",
    "df['genetic'].fillna(x, inplace = True)\n",
    "# print(df.to_string())\n",
    "print(df.info())\n",
    "\n",
    "# Mean = the average value (the sum of all values divided by number of values).\n",
    "# NOTE: R&D automated code for all other columns with 'null-values'. Now only column 'genetic' was fixed."
   ]
  },
  {
   "cell_type": "markdown",
   "id": "8528c2b1-60dd-4eb0-b1ba-0588ed703f6c",
   "metadata": {
    "tags": []
   },
   "source": [
    "<H4><B>Replace Using Median</B></H4>"
   ]
  },
  {
   "cell_type": "code",
   "execution_count": 17,
   "id": "ec95b3c9-a290-4f15-b5ef-2d37ddc5fa1f",
   "metadata": {
    "tags": []
   },
   "outputs": [
    {
     "name": "stdout",
     "output_type": "stream",
     "text": [
      "<class 'pandas.core.frame.DataFrame'>\n",
      "RangeIndex: 4096 entries, 0 to 4095\n",
      "Data columns (total 9 columns):\n",
      " #   Column    Non-Null Count  Dtype  \n",
      "---  ------    --------------  -----  \n",
      " 0   id        4096 non-null   int64  \n",
      " 1   genetic   4095 non-null   float64\n",
      " 2   length    4096 non-null   float64\n",
      " 3   mass      4094 non-null   float64\n",
      " 4   exercise  4095 non-null   float64\n",
      " 5   smoking   4096 non-null   float64\n",
      " 6   alcohol   4094 non-null   float64\n",
      " 7   lifespan  4094 non-null   float64\n",
      " 8   sugar     4095 non-null   float64\n",
      "dtypes: float64(8), int64(1)\n",
      "memory usage: 288.1 KB\n",
      "None\n"
     ]
    }
   ],
   "source": [
    "# Calculate the MEDIAN, and replace any empty values with it:\n",
    "df = pd.read_csv('../../Project/Project 1/data.csv')\n",
    "x = df['length'].median()\n",
    "df['length'].fillna(x, inplace = True)\n",
    "# print(df.to_string())\n",
    "print(df.info())\n",
    "\n",
    "# Median = the value in the middle, after you have sorted all values ascending.\n",
    "# NOTE: R&D automated code for all other columns with 'null-values'. Now only column 'length' was fixed."
   ]
  },
  {
   "cell_type": "markdown",
   "id": "0bf5cea6-6d3e-48c7-8dcc-a8290965edc7",
   "metadata": {},
   "source": [
    "<H4><B>Replace Using Mode</B></H4>"
   ]
  },
  {
   "cell_type": "code",
   "execution_count": 18,
   "id": "c4b081dd-3235-42da-b00a-81240206d8b4",
   "metadata": {
    "tags": []
   },
   "outputs": [
    {
     "name": "stdout",
     "output_type": "stream",
     "text": [
      "<class 'pandas.core.frame.DataFrame'>\n",
      "RangeIndex: 4096 entries, 0 to 4095\n",
      "Data columns (total 9 columns):\n",
      " #   Column    Non-Null Count  Dtype  \n",
      "---  ------    --------------  -----  \n",
      " 0   id        4096 non-null   int64  \n",
      " 1   genetic   4095 non-null   float64\n",
      " 2   length    4093 non-null   float64\n",
      " 3   mass      4094 non-null   float64\n",
      " 4   exercise  4095 non-null   float64\n",
      " 5   smoking   4096 non-null   float64\n",
      " 6   alcohol   4094 non-null   float64\n",
      " 7   lifespan  4094 non-null   float64\n",
      " 8   sugar     4095 non-null   float64\n",
      "dtypes: float64(8), int64(1)\n",
      "memory usage: 288.1 KB\n",
      "None\n"
     ]
    }
   ],
   "source": [
    "# Calculate the MODE, and replace any empty values with it:\n",
    "df = pd.read_csv('../../Project/Project 1/data.csv')\n",
    "x = df['mass'].mode()\n",
    "df['mass'].fillna(x, inplace = True)\n",
    "# print(df.to_string())\n",
    "print(df.info())\n",
    "\n",
    "# Mode = the value that appears most frequently.\n",
    "# NOTE: R&D automated code for all other columns with 'null-values'. However column 'mass' was NOT fixed using 'mode' method."
   ]
  },
  {
   "cell_type": "markdown",
   "id": "2f4a4a6e-5eff-4483-9c3c-a8ef5e0791e0",
   "metadata": {},
   "source": [
    "<H4><B>Discover Duplicates</B></H4><a href=\"https://www.w3schools.com/python/pandas/pandas_cleaning_duplicates.asp\">Pandas - Removing Duplicates: w3schools.com</a><br>&nbsp;"
   ]
  },
  {
   "cell_type": "code",
   "execution_count": 19,
   "id": "cf5ff418-4121-4e0b-ab36-969cb1b5283b",
   "metadata": {
    "tags": []
   },
   "outputs": [
    {
     "name": "stdout",
     "output_type": "stream",
     "text": [
      "0       False\n",
      "1       False\n",
      "2       False\n",
      "3       False\n",
      "4       False\n",
      "        ...  \n",
      "4091    False\n",
      "4092    False\n",
      "4093    False\n",
      "4094    False\n",
      "4095    False\n",
      "Length: 4096, dtype: bool\n"
     ]
    }
   ],
   "source": [
    "# To discover duplicates, we can use the duplicated() method.\n",
    "# The duplicated() method returns a Boolean values for each row:\n",
    "\n",
    "print(df.duplicated())\n",
    "# NOTE: There seems to be no duplicates at all."
   ]
  },
  {
   "cell_type": "markdown",
   "id": "7dee8542-585a-4e21-bc00-a02e399b8b5e",
   "metadata": {
    "tags": []
   },
   "source": [
    "<H3><B>Step 3</B>&nbsp;&nbsp;&nbsp; Think about how to automate the usage of the techniques/build a pipeline</H3><br>&nbsp;<i>This paragraph still needs attention and explanation.</i>"
   ]
  },
  {
   "cell_type": "code",
   "execution_count": null,
   "id": "2d5bf99e-3aaf-4fb8-842c-aaa3faba8c89",
   "metadata": {},
   "outputs": [],
   "source": []
  }
 ],
 "metadata": {
  "kernelspec": {
   "display_name": "Python 3 (ipykernel)",
   "language": "python",
   "name": "python3"
  },
  "language_info": {
   "codemirror_mode": {
    "name": "ipython",
    "version": 3
   },
   "file_extension": ".py",
   "mimetype": "text/x-python",
   "name": "python",
   "nbconvert_exporter": "python",
   "pygments_lexer": "ipython3",
   "version": "3.10.10"
  }
 },
 "nbformat": 4,
 "nbformat_minor": 5
}
