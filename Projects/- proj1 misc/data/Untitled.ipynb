{
 "cells": [
  {
   "cell_type": "code",
   "execution_count": 1,
   "id": "7635190c-a8e4-46d4-ac4f-283c9b8f0a31",
   "metadata": {
    "tags": []
   },
   "outputs": [
    {
     "name": "stdout",
     "output_type": "stream",
     "text": [
      "Collecting virtualenvNote: you may need to restart the kernel to use updated packages.\n",
      "\n",
      "  Downloading virtualenv-20.21.0-py3-none-any.whl (8.7 MB)\n",
      "     ---------------------------------------- 0.0/8.7 MB ? eta -:--:--\n",
      "     -- ------------------------------------- 0.5/8.7 MB 9.6 MB/s eta 0:00:01\n",
      "     ---- ----------------------------------- 0.9/8.7 MB 9.3 MB/s eta 0:00:01\n",
      "     ---- ----------------------------------- 1.0/8.7 MB 9.2 MB/s eta 0:00:01\n",
      "     ---- ----------------------------------- 1.0/8.7 MB 9.2 MB/s eta 0:00:01\n",
      "     ---- ----------------------------------- 1.0/8.7 MB 9.2 MB/s eta 0:00:01\n",
      "     ---- ----------------------------------- 1.0/8.7 MB 9.2 MB/s eta 0:00:01\n",
      "     ---- ----------------------------------- 1.0/8.7 MB 9.2 MB/s eta 0:00:01\n",
      "     ---- ----------------------------------- 1.0/8.7 MB 9.2 MB/s eta 0:00:01\n",
      "     ---- ----------------------------------- 1.0/8.7 MB 9.2 MB/s eta 0:00:01\n",
      "     ---- ----------------------------------- 1.0/8.7 MB 9.2 MB/s eta 0:00:01\n",
      "     ---- ----------------------------------- 1.0/8.7 MB 9.2 MB/s eta 0:00:01\n",
      "     ---- ----------------------------------- 1.0/8.7 MB 9.2 MB/s eta 0:00:01\n",
      "     ---- ----------------------------------- 1.0/8.7 MB 9.2 MB/s eta 0:00:01\n",
      "     ---- ----------------------------------- 1.0/8.7 MB 9.2 MB/s eta 0:00:01\n",
      "     ------ --------------------------------- 1.3/8.7 MB 1.9 MB/s eta 0:00:04\n",
      "     --------- ------------------------------ 2.0/8.7 MB 2.7 MB/s eta 0:00:03\n",
      "     ----------- ---------------------------- 2.6/8.7 MB 3.3 MB/s eta 0:00:02\n",
      "     --------------- ------------------------ 3.3/8.7 MB 4.0 MB/s eta 0:00:02\n",
      "     ------------------ --------------------- 4.0/8.7 MB 4.5 MB/s eta 0:00:02\n",
      "     -------------------- ------------------- 4.5/8.7 MB 4.9 MB/s eta 0:00:01\n",
      "     ------------------------ --------------- 5.2/8.7 MB 5.4 MB/s eta 0:00:01\n",
      "     --------------------------- ------------ 5.9/8.7 MB 5.8 MB/s eta 0:00:01\n",
      "     ------------------------------ --------- 6.6/8.7 MB 6.2 MB/s eta 0:00:01\n",
      "     -------------------------------- ------- 7.2/8.7 MB 6.4 MB/s eta 0:00:01\n",
      "     ------------------------------------ --- 7.9/8.7 MB 6.9 MB/s eta 0:00:01\n",
      "     -------------------------------------- - 8.5/8.7 MB 7.0 MB/s eta 0:00:01\n",
      "     ---------------------------------------  8.7/8.7 MB 7.1 MB/s eta 0:00:01\n",
      "     ---------------------------------------  8.7/8.7 MB 7.1 MB/s eta 0:00:01\n",
      "     ---------------------------------------- 8.7/8.7 MB 6.6 MB/s eta 0:00:00\n",
      "Requirement already satisfied: platformdirs<4,>=2.4 in c:\\users\\noeki\\makeaiwork\\env\\lib\\site-packages (from virtualenv) (2.6.2)\n",
      "Collecting distlib<1,>=0.3.6\n",
      "  Using cached distlib-0.3.6-py2.py3-none-any.whl (468 kB)\n",
      "Requirement already satisfied: filelock<4,>=3.4.1 in c:\\users\\noeki\\makeaiwork\\env\\lib\\site-packages (from virtualenv) (3.9.0)\n",
      "Installing collected packages: distlib, virtualenv\n",
      "Successfully installed distlib-0.3.6 virtualenv-20.21.0\n"
     ]
    }
   ],
   "source": [
    "pip install virtualenv\n"
   ]
  },
  {
   "cell_type": "code",
   "execution_count": 3,
   "id": "a204a6e7-e205-4c0c-a446-099180dc8f9a",
   "metadata": {
    "tags": []
   },
   "outputs": [],
   "source": [
    "from flask import Flask"
   ]
  },
  {
   "cell_type": "code",
   "execution_count": 4,
   "id": "c23867cd-d5e9-485a-bf41-232cb4179d34",
   "metadata": {
    "tags": []
   },
   "outputs": [
    {
     "name": "stdout",
     "output_type": "stream",
     "text": [
      " * Serving Flask app 'Untitled'\n",
      " * Debug mode: on\n"
     ]
    },
    {
     "name": "stderr",
     "output_type": "stream",
     "text": [
      "WARNING: This is a development server. Do not use it in a production deployment. Use a production WSGI server instead.\n",
      " * Running on http://127.0.0.1:5000\n",
      "Press CTRL+C to quit\n",
      " * Restarting with stat\n"
     ]
    },
    {
     "ename": "SystemExit",
     "evalue": "1",
     "output_type": "error",
     "traceback": [
      "An exception has occurred, use %tb to see the full traceback.\n",
      "\u001b[1;31mSystemExit\u001b[0m\u001b[1;31m:\u001b[0m 1\n"
     ]
    },
    {
     "name": "stderr",
     "output_type": "stream",
     "text": [
      "C:\\Users\\noeki\\MakeAIWork\\env\\lib\\site-packages\\IPython\\core\\interactiveshell.py:3450: UserWarning: To exit: use 'exit', 'quit', or Ctrl-D.\n",
      "  warn(\"To exit: use 'exit', 'quit', or Ctrl-D.\", stacklevel=1)\n"
     ]
    }
   ],
   "source": [
    "app=Flask(__name__) #instantiating flask object\n",
    "@app.route('/') #defining a route in the application\n",
    "def func(): #writing a function to be executed \n",
    "       return 'PythonGeeks'\n",
    "if __name__=='__main__': #calling  main \n",
    "       app.debug=True #setting the debugging option for the application instance\n",
    "       app.run() #launching the flask's integrated development webserver"
   ]
  },
  {
   "cell_type": "code",
   "execution_count": null,
   "id": "bf4eb8e0-5288-4aaf-b414-85ebb5213d07",
   "metadata": {
    "tags": []
   },
   "outputs": [],
   "source": []
  },
  {
   "cell_type": "code",
   "execution_count": null,
   "id": "804f81df-2bf6-4d73-a854-3b7c2e9b1cc7",
   "metadata": {},
   "outputs": [],
   "source": []
  }
 ],
 "metadata": {
  "kernelspec": {
   "display_name": "Python 3 (ipykernel)",
   "language": "python",
   "name": "python3"
  },
  "language_info": {
   "codemirror_mode": {
    "name": "ipython",
    "version": 3
   },
   "file_extension": ".py",
   "mimetype": "text/x-python",
   "name": "python",
   "nbconvert_exporter": "python",
   "pygments_lexer": "ipython3",
   "version": "3.10.10"
  }
 },
 "nbformat": 4,
 "nbformat_minor": 5
}
