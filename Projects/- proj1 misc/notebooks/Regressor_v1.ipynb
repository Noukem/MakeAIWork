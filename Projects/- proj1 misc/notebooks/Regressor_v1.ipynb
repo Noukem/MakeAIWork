{
 "cells": [
  {
   "cell_type": "code",
   "execution_count": 53,
   "id": "c3c4f6ac",
   "metadata": {
    "tags": []
   },
   "outputs": [],
   "source": [
    "import pandas as pd\n",
    "import json\n",
    "import sqlite3\n",
    "import numpy as np\n",
    "import math\n",
    "from sklearn.linear_model import LinearRegression\n",
    "from sklearn.model_selection import train_test_split\n",
    "from sklearn.metrics import mean_squared_error, mean_absolute_error, r2_score"
   ]
  },
  {
   "cell_type": "code",
   "execution_count": 54,
   "id": "8cb96c83",
   "metadata": {
    "tags": []
   },
   "outputs": [],
   "source": [
    "#Get data table for training, this is the output of the pipeline, hence the name 'regression_table'\n",
    "dbName = \"../../Project1/data/data_new1.db\"\n",
    "tableName = \"data_clean1\"\n",
    "\n",
    "dbConnection = sqlite3.connect(dbName)\n",
    "\n",
    "# # #We doen een query en maken hier een pandas dataframe van\n",
    "df = pd.read_sql_query(f\"SELECT * FROM {tableName}\", dbConnection)\n",
    "\n",
    "# # #We sluiten de connectie\n",
    "dbConnection.close()\n",
    "\n",
    "# test = pd.read_sql_query(f\".tables\", dbConnection)\n",
    "\n",
    "# print(test)\n",
    "                         "
   ]
  },
  {
   "cell_type": "code",
   "execution_count": 55,
   "id": "0f135a41",
   "metadata": {
    "tags": []
   },
   "outputs": [],
   "source": [
    "#Selecting subset of complete dataframe containing only \"relevant\" variables:\n",
    "\n",
    "df_updated = df[['genetic', 'exercise', 'smoking', 'alcohol', 'sugar', 'BMI', 'lifespan']]"
   ]
  },
  {
   "cell_type": "code",
   "execution_count": 56,
   "id": "28fc81f3",
   "metadata": {
    "tags": []
   },
   "outputs": [],
   "source": [
    "#Making variations of the dataframe for comparison of different models:\n",
    "\n",
    "#All parameters\n",
    "v0 = ['genetic', 'exercise', 'smoking', 'alcohol', 'sugar', 'BMI']\n",
    "\n",
    "#\n",
    "v1 = ['genetic', 'exercise', 'smoking', 'BMI']\n",
    "\n",
    "#\n",
    "v2 = ['genetic', 'smoking']\n",
    "\n",
    "#\n",
    "v3 = ['genetic', 'exercise', 'smoking']\n",
    "\n",
    "#\n",
    "v4 = ['genetic', 'exercise', 'smoking', 'alcohol', 'sugar']\n",
    "\n",
    "version_list = [v0,v1,v2,v3,v4]"
   ]
  },
  {
   "cell_type": "code",
   "execution_count": 39,
   "id": "bd255ace-6420-474d-842a-44d21c29a200",
   "metadata": {
    "tags": []
   },
   "outputs": [
    {
     "name": "stdout",
     "output_type": "stream",
     "text": [
      "[['genetic', 'exercise', 'smoking', 'alcohol', 'sugar', 'BMI'], ['genetic', 'exercise', 'smoking', 'BMI'], ['genetic', 'smoking'], ['genetic', 'exercise', 'smoking'], ['genetic', 'exercise', 'smoking', 'alcohol', 'sugar']]\n"
     ]
    }
   ],
   "source": [
    "print(version_list)"
   ]
  },
  {
   "cell_type": "code",
   "execution_count": 57,
   "id": "2d69f3c5",
   "metadata": {},
   "outputs": [],
   "source": [
    "models = []\n",
    "\n",
    "def train_model(dataframe, version):\n",
    "    \n",
    "    x = dataframe[version]\n",
    "    y = dataframe.loc[:, 'lifespan']\n",
    "    \n",
    "    x_train, x_test, y_train, y_test = train_test_split(x, y, test_size = 0.3, random_state = 42)\n",
    "    \n",
    "    model = LinearRegression()\n",
    "    model.fit(x_train, y_train)\n",
    "    \n",
    "    predictions = model.predict(x_test)\n",
    "    \n",
    "    model_m_sqe = mean_squared_error(y_test, predictions)\n",
    "    model_m_abse = mean_absolute_error(y_test, predictions)\n",
    "    rmse = math.sqrt(model_m_sqe)\n",
    "    r2 = r2_score(y_test, predictions)\n",
    "    coefs = dict(list(zip(x.columns, model.coef_)))\n",
    "    intercept = model.intercept_\n",
    "    \n",
    "    print(f'Mean squared error: {model_m_sqe}')\n",
    "    print(f'Mean absolute error: {model_m_abse}')\n",
    "    print(f'R-squared value: {r2}', '\\n')\n",
    "    print(f'Model coefficients: ')\n",
    "    for c in coefs:\n",
    "        print(f'{c[0]}: {c[1]}')\n",
    "    print('\\n')\n",
    "    print(f'Model intercept: {intercept}')\n",
    "    \n",
    "    return {\n",
    "            'model version': ', '.join(version),\n",
    "            'mean squared error': model_m_sqe,\n",
    "            'mean absolute error': model_m_abse,\n",
    "            'r squared': r2,\n",
    "            'root mean squared error': rmse,\n",
    "            'coefficients': coefs,\n",
    "            'intercept': intercept\n",
    "    }\n",
    "\n",
    "\n",
    "    \n",
    "    \n",
    "    "
   ]
  },
  {
   "cell_type": "code",
   "execution_count": 42,
   "id": "c18e1b04-6e99-41a6-9095-2b25d1afc2f0",
   "metadata": {
    "tags": []
   },
   "outputs": [
    {
     "name": "stdout",
     "output_type": "stream",
     "text": [
      "      genetic  exercise  smoking  alcohol  sugar   BMI  lifespan\n",
      "0        73.9       0.9      0.0      2.4    6.9  29.1      73.1\n",
      "1        86.0       1.8      8.1      0.4    4.2  35.6      85.0\n",
      "2        83.3       1.1      0.8      4.6    7.5  36.0      81.6\n",
      "3        82.8       4.7     11.8      1.0    2.9  41.4      81.0\n",
      "4        78.7       1.5      8.3      4.9    5.5  22.6      75.0\n",
      "...       ...       ...      ...      ...    ...   ...       ...\n",
      "4079     80.3       3.7      0.1      5.6    5.8  37.4      80.7\n",
      "4080     75.3       3.6      6.2      5.6    7.6  49.4      71.1\n",
      "4081     93.1       2.7      9.4      4.9    6.6  32.3      90.0\n",
      "4082     77.9       2.3     13.2      0.8    6.2  31.4      75.9\n",
      "4083    101.3       1.2      8.2      6.0    6.2  36.6      96.9\n",
      "\n",
      "[4084 rows x 7 columns]\n"
     ]
    }
   ],
   "source": [
    "print(df_updated)"
   ]
  },
  {
   "cell_type": "code",
   "execution_count": 48,
   "id": "2cf9f405",
   "metadata": {},
   "outputs": [
    {
     "name": "stdout",
     "output_type": "stream",
     "text": [
      "Mean squared error: 1.1915421266947106\n",
      "Mean absolute error: 0.8196017154751907\n",
      "R-squared value: 0.9808404760702363 \n",
      "\n",
      "Model coefficients: \n",
      "g: e\n",
      "e: x\n",
      "s: m\n",
      "a: l\n",
      "s: u\n",
      "B: M\n",
      "\n",
      "\n",
      "Model intercept: 1.3527339453648892\n",
      "{'model version': 'genetic, exercise, smoking, alcohol, sugar, BMI', 'mean squared error': 1.1915421266947106, 'mean absolute error': 0.8196017154751907, 'r squared': 0.9808404760702363, 'root mean squared error': 1.0915778152265236, 'coefficients': {'genetic': 1.0023175161386837, 'exercise': 0.8159422239679683, 'smoking': -0.263259639397799, 'alcohol': -0.23536178137796426, 'sugar': -0.07330642550711564, 'BMI': -0.07230117820131232}, 'intercept': 1.3527339453648892}\n",
      "Mean squared error: 1.1915421266947106\n",
      "Mean absolute error: 0.8196017154751907\n",
      "R-squared value: 0.9808404760702363 \n",
      "\n",
      "Model coefficients: \n",
      "g: e\n",
      "e: x\n",
      "s: m\n",
      "a: l\n",
      "s: u\n",
      "B: M\n",
      "\n",
      "\n",
      "Model intercept: 1.3527339453648892\n",
      "Mean squared error: 1.338032043951273\n",
      "Mean absolute error: 0.8886669414760978\n",
      "R-squared value: 0.9784849764095304 \n",
      "\n",
      "Model coefficients: \n",
      "g: e\n",
      "e: x\n",
      "s: m\n",
      "B: M\n",
      "\n",
      "\n",
      "Model intercept: 0.31452415789773625\n",
      "{'model version': 'genetic, exercise, smoking, BMI', 'mean squared error': 1.338032043951273, 'mean absolute error': 0.8886669414760978, 'r squared': 0.9784849764095304, 'root mean squared error': 1.1567333504102286, 'coefficients': {'genetic': 1.0023690857338803, 'exercise': 0.8205225243914406, 'smoking': -0.26294579874646085, 'BMI': -0.07212745180376512}, 'intercept': 0.31452415789773625}\n",
      "Mean squared error: 1.338032043951273\n",
      "Mean absolute error: 0.8886669414760978\n",
      "R-squared value: 0.9784849764095304 \n",
      "\n",
      "Model coefficients: \n",
      "g: e\n",
      "e: x\n",
      "s: m\n",
      "B: M\n",
      "\n",
      "\n",
      "Model intercept: 0.31452415789773625\n",
      "Mean squared error: 2.633203189435365\n",
      "Mean absolute error: 1.2630220744385878\n",
      "R-squared value: 0.9576591390353393 \n",
      "\n",
      "Model coefficients: \n",
      "g: e\n",
      "s: m\n",
      "\n",
      "\n",
      "Model intercept: 0.8123330693770754\n",
      "{'model version': 'genetic, smoking', 'mean squared error': 2.633203189435365, 'mean absolute error': 1.2630220744385878, 'r squared': 0.9576591390353393, 'root mean squared error': 1.6227147591105977, 'coefficients': {'genetic': 0.9956761084901556, 'smoking': -0.2601262048688175}, 'intercept': 0.8123330693770754}\n",
      "Mean squared error: 2.633203189435365\n",
      "Mean absolute error: 1.2630220744385878\n",
      "R-squared value: 0.9576591390353393 \n",
      "\n",
      "Model coefficients: \n",
      "g: e\n",
      "s: m\n",
      "\n",
      "\n",
      "Model intercept: 0.8123330693770754\n",
      "Mean squared error: 1.8059692529649345\n",
      "Mean absolute error: 1.0264418601752425\n",
      "R-squared value: 0.9709607320266701 \n",
      "\n",
      "Model coefficients: \n",
      "g: e\n",
      "e: x\n",
      "s: m\n",
      "\n",
      "\n",
      "Model intercept: -1.6457705703310097\n",
      "{'model version': 'genetic, exercise, smoking', 'mean squared error': 1.8059692529649345, 'mean absolute error': 1.0264418601752425, 'r squared': 0.9709607320266701, 'root mean squared error': 1.3438635544447712, 'coefficients': {'genetic': 1.0019500960601193, 'exercise': 0.8230864118435972, 'smoking': -0.26370729878447363}, 'intercept': -1.6457705703310097}\n",
      "Mean squared error: 1.8059692529649345\n",
      "Mean absolute error: 1.0264418601752425\n",
      "R-squared value: 0.9709607320266701 \n",
      "\n",
      "Model coefficients: \n",
      "g: e\n",
      "e: x\n",
      "s: m\n",
      "\n",
      "\n",
      "Model intercept: -1.6457705703310097\n",
      "Mean squared error: 1.6481339053063107\n",
      "Mean absolute error: 0.9549002986782777\n",
      "R-squared value: 0.9734986617000562 \n",
      "\n",
      "Model coefficients: \n",
      "g: e\n",
      "e: x\n",
      "s: m\n",
      "a: l\n",
      "s: u\n",
      "\n",
      "\n",
      "Model intercept: -0.62496522581867\n",
      "{'model version': 'genetic, exercise, smoking, alcohol, sugar', 'mean squared error': 1.6481339053063107, 'mean absolute error': 0.9549002986782777, 'r squared': 0.9734986617000562, 'root mean squared error': 1.2837966759990893, 'coefficients': {'genetic': 1.0018780282525461, 'exercise': 0.8184868571277459, 'smoking': -0.2640356329453747, 'alcohol': -0.23575819334704856, 'sugar': -0.07093751822697955}, 'intercept': -0.62496522581867}\n",
      "Mean squared error: 1.6481339053063107\n",
      "Mean absolute error: 0.9549002986782777\n",
      "R-squared value: 0.9734986617000562 \n",
      "\n",
      "Model coefficients: \n",
      "g: e\n",
      "e: x\n",
      "s: m\n",
      "a: l\n",
      "s: u\n",
      "\n",
      "\n",
      "Model intercept: -0.62496522581867\n"
     ]
    }
   ],
   "source": [
    "#Train model for different datasets\n",
    "for v in version_list:\n",
    "    print(train_model(df_updated, v))\n",
    "    \n",
    "    models.append(       \n",
    "        train_model(df_updated, v)\n",
    "    )\n",
    "    "
   ]
  },
  {
   "cell_type": "code",
   "execution_count": 67,
   "id": "5a3fbc4b",
   "metadata": {
    "scrolled": true
   },
   "outputs": [
    {
     "name": "stdout",
     "output_type": "stream",
     "text": [
      "Variables included in model: genetic, exercise, smoking, alcohol, sugar, BMI.\n",
      "Mean squared error of model: 1.1915421266947106.\n",
      "Mean absolute error of model: 0.8196017154751907.\n",
      "R-squared of model: 0.9808404760702363.\n",
      "Root mean squared error: 1.0915778152265236.\n",
      "Model coefficients: \n",
      "Variables included in model: genetic, exercise, smoking, BMI.\n",
      "Mean squared error of model: 1.338032043951273.\n",
      "Mean absolute error of model: 0.8886669414760978.\n",
      "R-squared of model: 0.9784849764095304.\n",
      "Root mean squared error: 1.1567333504102286.\n",
      "Model coefficients: \n",
      "Variables included in model: genetic, smoking.\n",
      "Mean squared error of model: 2.633203189435365.\n",
      "Mean absolute error of model: 1.2630220744385878.\n",
      "R-squared of model: 0.9576591390353393.\n",
      "Root mean squared error: 1.6227147591105977.\n",
      "Model coefficients: \n",
      "Variables included in model: genetic, exercise, smoking.\n",
      "Mean squared error of model: 1.8059692529649345.\n",
      "Mean absolute error of model: 1.0264418601752425.\n",
      "R-squared of model: 0.9709607320266701.\n",
      "Root mean squared error: 1.3438635544447712.\n",
      "Model coefficients: \n",
      "Variables included in model: genetic, exercise, smoking, alcohol, sugar.\n",
      "Mean squared error of model: 1.6481339053063107.\n",
      "Mean absolute error of model: 0.9549002986782777.\n",
      "R-squared of model: 0.9734986617000562.\n",
      "Root mean squared error: 1.2837966759990893.\n",
      "Model coefficients: \n"
     ]
    },
    {
     "ename": "NameError",
     "evalue": "name 'x' is not defined",
     "output_type": "error",
     "traceback": [
      "\u001b[1;31m---------------------------------------------------------------------------\u001b[0m",
      "\u001b[1;31mNameError\u001b[0m                                 Traceback (most recent call last)",
      "Cell \u001b[1;32mIn[67], line 10\u001b[0m\n\u001b[0;32m      7\u001b[0m     \u001b[38;5;28mprint\u001b[39m(\u001b[38;5;124mf\u001b[39m\u001b[38;5;124m\"\u001b[39m\u001b[38;5;124mRoot mean squared error: \u001b[39m\u001b[38;5;132;01m{\u001b[39;00md[\u001b[38;5;124m'\u001b[39m\u001b[38;5;124mroot mean squared error\u001b[39m\u001b[38;5;124m'\u001b[39m]\u001b[38;5;132;01m}\u001b[39;00m\u001b[38;5;124m.\u001b[39m\u001b[38;5;124m\"\u001b[39m)\n\u001b[0;32m      8\u001b[0m     \u001b[38;5;28mprint\u001b[39m(\u001b[38;5;124mf\u001b[39m\u001b[38;5;124m\"\u001b[39m\u001b[38;5;124mModel coefficients: \u001b[39m\u001b[38;5;124m\"\u001b[39m)\n\u001b[1;32m---> 10\u001b[0m coefs \u001b[38;5;241m=\u001b[39m \u001b[38;5;28mdict\u001b[39m(\u001b[38;5;28mlist\u001b[39m(\u001b[38;5;28mzip\u001b[39m(\u001b[43mx\u001b[49m\u001b[38;5;241m.\u001b[39mcolumns, model\u001b[38;5;241m.\u001b[39mcoef_)))    \n\u001b[0;32m     12\u001b[0m \u001b[38;5;28;01mfor\u001b[39;00m v \u001b[38;5;129;01min\u001b[39;00m coefs:\n\u001b[0;32m     13\u001b[0m         \u001b[38;5;28mprint\u001b[39m (v[\u001b[38;5;241m0\u001b[39m], v[\u001b[38;5;241m1\u001b[39m])\n",
      "\u001b[1;31mNameError\u001b[0m: name 'x' is not defined"
     ]
    }
   ],
   "source": [
    "#Printing all versions of our model\n",
    "for d in models:\n",
    "    print(f\"Variables included in model: {d['model version']}.\")\n",
    "    print(f\"Mean squared error of model: {d['mean squared error']}.\")\n",
    "    print(f\"Mean absolute error of model: {d['mean absolute error']}.\")\n",
    "    print(f\"R-squared of model: {d['r squared']}.\")\n",
    "    print(f\"Root mean squared error: {d['root mean squared error']}.\")\n",
    "    print(f\"Model coefficients: \")\n",
    "    \n",
    "coefs = dict(list(zip(x.columns, model.coef_)))    \n",
    "\n",
    "for v in coefs:\n",
    "        print (v[0], v[1])\n",
    "print(f\"Model intercept: {d['intercept']}\")\n",
    "print(\"\\n\")"
   ]
  },
  {
   "cell_type": "code",
   "execution_count": 44,
   "id": "2ab3cb4d",
   "metadata": {},
   "outputs": [],
   "source": [
    "#modellen exporteren naar pickle bestand (?)\n",
    "\n",
    "with open('trained models.json', 'w') as file:\n",
    "    json.dump(models, file)"
   ]
  },
  {
   "cell_type": "code",
   "execution_count": 47,
   "id": "24de1f2d-0a44-41e4-aebb-0a5c1509699b",
   "metadata": {
    "tags": []
   },
   "outputs": [],
   "source": [
    "#print(models.coef_)"
   ]
  },
  {
   "cell_type": "code",
   "execution_count": null,
   "id": "dac6df73-691e-450e-b8c3-a1cd2fc0451d",
   "metadata": {},
   "outputs": [],
   "source": []
  }
 ],
 "metadata": {
  "kernelspec": {
   "display_name": "Python 3 (ipykernel)",
   "language": "python",
   "name": "python3"
  },
  "language_info": {
   "codemirror_mode": {
    "name": "ipython",
    "version": 3
   },
   "file_extension": ".py",
   "mimetype": "text/x-python",
   "name": "python",
   "nbconvert_exporter": "python",
   "pygments_lexer": "ipython3",
   "version": "3.10.10"
  }
 },
 "nbformat": 4,
 "nbformat_minor": 5
}
