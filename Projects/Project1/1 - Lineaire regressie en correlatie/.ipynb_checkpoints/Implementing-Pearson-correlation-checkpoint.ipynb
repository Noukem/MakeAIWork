{
 "cells": [
  {
   "cell_type": "markdown",
   "id": "d4334e7a",
   "metadata": {},
   "source": [
    "# Bron\n",
    "\n",
    "https://en.wikipedia.org/wiki/Correlation"
   ]
  },
  {
   "cell_type": "code",
   "execution_count": null,
   "id": "ff9ebb2d",
   "metadata": {},
   "outputs": [],
   "source": [
    "import numpy as np\n",
    "import pandas as pd"
   ]
  },
  {
   "cell_type": "code",
   "execution_count": null,
   "id": "d0490f02",
   "metadata": {},
   "outputs": [],
   "source": [
    "# According to the formula we need:\n",
    "\n",
    "# 1. Compute the average of X (avgX)\n",
    "# 2. Compute the average of Y (avgY)\n",
    "# 3. Compute the variation of X (stdX)\n",
    "# 4. Compute the variation of Y (stdY)\n",
    "\n",
    "# Once we have computed the ingredients above\n",
    "# we must compute the sum of (Xi - avgX) * (Yi - avgY) and divide by stdX * stdY"
   ]
  },
  {
   "cell_type": "code",
   "execution_count": null,
   "id": "fdd9c6a7",
   "metadata": {},
   "outputs": [],
   "source": [
    "# Let's define our linear dataset\n",
    "X = np.array([0, 1, 2, 3, 4])\n",
    "Y = np.array([1, 2, 3, 4, 5])"
   ]
  },
  {
   "cell_type": "code",
   "execution_count": null,
   "id": "9acff2f8",
   "metadata": {},
   "outputs": [],
   "source": [
    "# 1. Compute the average of X (avgX)\n",
    "# ...\n",
    "\n",
    "# 2. Compute the average of Y (avgY)\n",
    "# ..."
   ]
  },
  {
   "cell_type": "code",
   "execution_count": null,
   "id": "6028b2a9",
   "metadata": {},
   "outputs": [],
   "source": [
    "# 3. Compute the variation of X (stdX)\n",
    "# ...\n",
    "\n",
    "# 4. Compute the variation of Y (stdY)\n",
    "# ..."
   ]
  },
  {
   "cell_type": "code",
   "execution_count": null,
   "id": "3d2a24f1",
   "metadata": {},
   "outputs": [],
   "source": [
    "# Once we have computed the ingredients above\n",
    "# we must compute the sum of (Xi - avgX) * (Yi - avgY) and divide by stdX * stdY\n",
    "# ..."
   ]
  },
  {
   "cell_type": "code",
   "execution_count": null,
   "id": "2ff0774b",
   "metadata": {},
   "outputs": [],
   "source": [
    "# Let's define the pearson correlation as a function\n",
    "# ..."
   ]
  },
  {
   "cell_type": "code",
   "execution_count": null,
   "id": "ce3d731f",
   "metadata": {},
   "outputs": [],
   "source": [
    "# Let's use the dataset of project 1\n",
    "# ..."
   ]
  },
  {
   "cell_type": "code",
   "execution_count": null,
   "id": "624b17b7",
   "metadata": {},
   "outputs": [],
   "source": [
    "# Look at the correlations\n",
    "# ..."
   ]
  },
  {
   "cell_type": "code",
   "execution_count": null,
   "id": "f413b160",
   "metadata": {},
   "outputs": [],
   "source": [
    "# Let's check\n",
    "# ..."
   ]
  },
  {
   "cell_type": "code",
   "execution_count": null,
   "id": "b1831cd8",
   "metadata": {},
   "outputs": [],
   "source": [
    "# Let's double check\n",
    "# ..."
   ]
  }
 ],
 "metadata": {
  "kernelspec": {
   "display_name": "Python 3 (ipykernel)",
   "language": "python",
   "name": "python3"
  },
  "language_info": {
   "codemirror_mode": {
    "name": "ipython",
    "version": 3
   },
   "file_extension": ".py",
   "mimetype": "text/x-python",
   "name": "python",
   "nbconvert_exporter": "python",
   "pygments_lexer": "ipython3",
   "version": "3.10.6"
  }
 },
 "nbformat": 4,
 "nbformat_minor": 5
}
