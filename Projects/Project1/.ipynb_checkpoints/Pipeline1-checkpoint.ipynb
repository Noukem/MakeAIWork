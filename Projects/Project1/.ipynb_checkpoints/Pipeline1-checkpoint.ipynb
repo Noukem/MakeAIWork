{
 "cells": [
  {
   "cell_type": "code",
   "execution_count": 33,
   "id": "1b88f84c-45d2-4690-9fc1-4a90f7b282a4",
   "metadata": {
    "tags": []
   },
   "outputs": [],
   "source": [
    "#!/usr/bin/env python\n",
    "\n",
    "# Imports\n",
    "import pandas as pd\n",
    "import sqlite3\n",
    "import csv\n",
    "import logging\n",
    "\n",
    "logging.basicConfig(level=logging.DEBUG)\n",
    "\n",
    "# Global variables\n",
    "# Relatief pad naar data\n",
    "dbPath = \"/data\"\n",
    "\n",
    "# Extract\n",
    "# Sheets -> Collection"
   ]
  },
  {
   "cell_type": "code",
   "execution_count": 35,
   "id": "75201dba-26ef-40d4-937a-d5552b56563e",
   "metadata": {
    "tags": []
   },
   "outputs": [
    {
     "name": "stderr",
     "output_type": "stream",
     "text": [
      "INFO:root:Extract from DB\n"
     ]
    }
   ],
   "source": [
    "\n",
    "df = pd.read_csv('../../Projects/Project1/data/data_clean1.csv')\n",
    "\n",
    "dbName = \"../../Projects/Project1/data/data_new1.db\"\n",
    "tableName = \"data_clean1\"\n",
    "\n",
    "\n",
    "logging.info(\"Extract from DB\")\n",
    "\n",
    "# Maak een verbinding met de SQLite DB\n",
    "dbConnection = sqlite3.connect(dbName)"
   ]
  },
  {
   "cell_type": "code",
   "execution_count": 37,
   "id": "cc0a0d46-1619-46a3-af76-723a6e58f02f",
   "metadata": {
    "tags": []
   },
   "outputs": [
    {
     "name": "stderr",
     "output_type": "stream",
     "text": [
      "INFO:root:Transform the data\n"
     ]
    }
   ],
   "source": [
    "# Haal alle gegevens op uit de tabel rest_netlify_api en sla die op in een Pandas dataframe\n",
    "# Zie notebook data_collection\n",
    "\n",
    "dfFromDB = pd.read_sql_query(f\"SELECT * FROM {tableName}\", dbConnection)\n",
    "pd.set_option('display.max_columns', 10)\n",
    "# dfFromDB.drop(['id'], axis=1)\n",
    "\n",
    "logging.info(\"Transform the data\")"
   ]
  },
  {
   "cell_type": "code",
   "execution_count": 29,
   "id": "519c61c7-1b11-46ec-b920-534c59b427ad",
   "metadata": {
    "tags": []
   },
   "outputs": [],
   "source": [
    "#verwijder non-numerieke- en null-waardes\n",
    "for c in df.columns:\n",
    "    df[c] = pd.to_numeric(df[c], errors='coerce')\n",
    "\n",
    "df= df.dropna(axis=0)"
   ]
  },
  {
   "cell_type": "code",
   "execution_count": 30,
   "id": "7b8072bd-b88c-4f6b-b21f-5ab2874336a2",
   "metadata": {
    "tags": []
   },
   "outputs": [],
   "source": [
    "# Sheets -> Data Selection\n",
    "\n",
    "# outliers\n",
    "\n",
    "def remove_outliers(df,columns,n_std):\n",
    "    for col in columns:\n",
    "        print('Working on column: {}'.format(col))\n",
    "        \n",
    "        mean = df[col].mean()\n",
    "        sd = df[col].std()\n",
    "        \n",
    "        df = df[(df[col] <= mean+(n_std*sd))]\n",
    "        \n",
    "    return df\n"
   ]
  },
  {
   "cell_type": "code",
   "execution_count": 31,
   "id": "1a4dde6d-7751-49b7-b12e-ac2382cc5092",
   "metadata": {
    "tags": []
   },
   "outputs": [
    {
     "ename": "AttributeError",
     "evalue": "'DataFrame' object has no attribute 'mass'",
     "output_type": "error",
     "traceback": [
      "\u001b[1;31m---------------------------------------------------------------------------\u001b[0m",
      "\u001b[1;31mAttributeError\u001b[0m                            Traceback (most recent call last)",
      "Cell \u001b[1;32mIn[31], line 6\u001b[0m\n\u001b[0;32m      1\u001b[0m \u001b[38;5;66;03m# Maak nieuw dataframes aan o.b.v. geselecteerde kolommen -> kopieer uit je notebook EDA\u001b[39;00m\n\u001b[0;32m      2\u001b[0m \u001b[38;5;66;03m# Sheets - > Feature Extraction\u001b[39;00m\n\u001b[0;32m      3\u001b[0m \n\u001b[0;32m      4\u001b[0m \u001b[38;5;66;03m# df_bmi\u001b[39;00m\n\u001b[1;32m----> 6\u001b[0m col_bmi \u001b[38;5;241m=\u001b[39m (\u001b[43mdf\u001b[49m\u001b[38;5;241;43m.\u001b[39;49m\u001b[43mmass\u001b[49m\u001b[38;5;241m/\u001b[39m(df\u001b[38;5;241m.\u001b[39mlength\u001b[38;5;241m/\u001b[39m\u001b[38;5;241m100\u001b[39m)\u001b[38;5;241m*\u001b[39m\u001b[38;5;241m*\u001b[39m\u001b[38;5;241m2\u001b[39m)\n\u001b[0;32m      7\u001b[0m df_bmi \u001b[38;5;241m=\u001b[39m df\u001b[38;5;241m.\u001b[39mdrop([\u001b[38;5;124m'\u001b[39m\u001b[38;5;124mlength\u001b[39m\u001b[38;5;124m'\u001b[39m, \u001b[38;5;124m'\u001b[39m\u001b[38;5;124mmass\u001b[39m\u001b[38;5;124m'\u001b[39m], axis\u001b[38;5;241m=\u001b[39m\u001b[38;5;241m1\u001b[39m)\n\u001b[0;32m      8\u001b[0m df_bmi[\u001b[38;5;124m'\u001b[39m\u001b[38;5;124mbmi\u001b[39m\u001b[38;5;124m'\u001b[39m] \u001b[38;5;241m=\u001b[39m col_bmi\n",
      "File \u001b[1;32m~\\MakeAIWork\\env\\lib\\site-packages\\pandas\\core\\generic.py:5902\u001b[0m, in \u001b[0;36mNDFrame.__getattr__\u001b[1;34m(self, name)\u001b[0m\n\u001b[0;32m   5895\u001b[0m \u001b[38;5;28;01mif\u001b[39;00m (\n\u001b[0;32m   5896\u001b[0m     name \u001b[38;5;129;01mnot\u001b[39;00m \u001b[38;5;129;01min\u001b[39;00m \u001b[38;5;28mself\u001b[39m\u001b[38;5;241m.\u001b[39m_internal_names_set\n\u001b[0;32m   5897\u001b[0m     \u001b[38;5;129;01mand\u001b[39;00m name \u001b[38;5;129;01mnot\u001b[39;00m \u001b[38;5;129;01min\u001b[39;00m \u001b[38;5;28mself\u001b[39m\u001b[38;5;241m.\u001b[39m_metadata\n\u001b[0;32m   5898\u001b[0m     \u001b[38;5;129;01mand\u001b[39;00m name \u001b[38;5;129;01mnot\u001b[39;00m \u001b[38;5;129;01min\u001b[39;00m \u001b[38;5;28mself\u001b[39m\u001b[38;5;241m.\u001b[39m_accessors\n\u001b[0;32m   5899\u001b[0m     \u001b[38;5;129;01mand\u001b[39;00m \u001b[38;5;28mself\u001b[39m\u001b[38;5;241m.\u001b[39m_info_axis\u001b[38;5;241m.\u001b[39m_can_hold_identifiers_and_holds_name(name)\n\u001b[0;32m   5900\u001b[0m ):\n\u001b[0;32m   5901\u001b[0m     \u001b[38;5;28;01mreturn\u001b[39;00m \u001b[38;5;28mself\u001b[39m[name]\n\u001b[1;32m-> 5902\u001b[0m \u001b[38;5;28;01mreturn\u001b[39;00m \u001b[38;5;28;43mobject\u001b[39;49m\u001b[38;5;241;43m.\u001b[39;49m\u001b[38;5;21;43m__getattribute__\u001b[39;49m\u001b[43m(\u001b[49m\u001b[38;5;28;43mself\u001b[39;49m\u001b[43m,\u001b[49m\u001b[43m \u001b[49m\u001b[43mname\u001b[49m\u001b[43m)\u001b[49m\n",
      "\u001b[1;31mAttributeError\u001b[0m: 'DataFrame' object has no attribute 'mass'"
     ]
    }
   ],
   "source": [
    "# Maak nieuw dataframes aan o.b.v. geselecteerde kolommen -> kopieer uit je notebook EDA\n",
    "# Sheets - > Feature Extraction\n",
    "\n",
    "# df_bmi\n",
    "\n",
    "col_bmi = (df.mass/(df.length/100)**2)\n",
    "df_bmi = df.drop(['length', 'mass'], axis=1)\n",
    "df_bmi['bmi'] = col_bmi\n",
    " \n",
    "logging.info(\"Load the transformed datasets as tables in the DB\")  \n",
    "\n",
    "# df_lifestyle\n",
    "\n",
    "df_lifestyle = df[['exercise', 'smoking', 'alcohol', 'sugar', 'lifespan']]\n",
    "\n",
    "# df_not_genetic\n",
    "\n",
    "df_not_genetic = df.drop(['genetic'], axis = 1)\n",
    "df_ng = df_not_genetic\n",
    "\n",
    "# Zie notebook SQL Practicum\n",
    "df.to_sql('new_table', con=con, index=False)\n",
    "\n",
    "# Sluit database\n",
    "#con.close()\n"
   ]
  },
  {
   "cell_type": "code",
   "execution_count": null,
   "id": "20817ae9-12f5-47ed-b215-19e98acbbec8",
   "metadata": {},
   "outputs": [],
   "source": []
  },
  {
   "cell_type": "code",
   "execution_count": null,
   "id": "68947e17-b2c2-44e3-b680-e01cf98fd0dd",
   "metadata": {},
   "outputs": [],
   "source": []
  }
 ],
 "metadata": {
  "kernelspec": {
   "display_name": "Python 3 (ipykernel)",
   "language": "python",
   "name": "python3"
  },
  "language_info": {
   "codemirror_mode": {
    "name": "ipython",
    "version": 3
   },
   "file_extension": ".py",
   "mimetype": "text/x-python",
   "name": "python",
   "nbconvert_exporter": "python",
   "pygments_lexer": "ipython3",
   "version": "3.10.10"
  }
 },
 "nbformat": 4,
 "nbformat_minor": 5
}
