{
 "cells": [
  {
   "cell_type": "code",
   "execution_count": 82,
   "id": "f59161bf",
   "metadata": {
    "tags": []
   },
   "outputs": [],
   "source": [
    "#importeren van de libraries die we gebruiken bij de dataverkenning\n",
    "import pandas as pd\n",
    "import json\n",
    "import requests\n",
    "import seaborn as sns\n",
    "import matplotlib.pyplot as plt\n",
    "import numpy as np"
   ]
  },
  {
   "cell_type": "code",
   "execution_count": 83,
   "id": "03bc1a6e",
   "metadata": {
    "tags": []
   },
   "outputs": [
    {
     "data": {
      "text/html": [
       "<div>\n",
       "<style scoped>\n",
       "    .dataframe tbody tr th:only-of-type {\n",
       "        vertical-align: middle;\n",
       "    }\n",
       "\n",
       "    .dataframe tbody tr th {\n",
       "        vertical-align: top;\n",
       "    }\n",
       "\n",
       "    .dataframe thead th {\n",
       "        text-align: right;\n",
       "    }\n",
       "</style>\n",
       "<table border=\"1\" class=\"dataframe\">\n",
       "  <thead>\n",
       "    <tr style=\"text-align: right;\">\n",
       "      <th></th>\n",
       "      <th>genetic</th>\n",
       "      <th>length</th>\n",
       "      <th>mass</th>\n",
       "      <th>exercise</th>\n",
       "      <th>smoking</th>\n",
       "      <th>alcohol</th>\n",
       "      <th>sugar</th>\n",
       "      <th>lifespan</th>\n",
       "    </tr>\n",
       "  </thead>\n",
       "  <tbody>\n",
       "    <tr>\n",
       "      <th>0</th>\n",
       "      <td>73.9</td>\n",
       "      <td>185.0</td>\n",
       "      <td>99.7</td>\n",
       "      <td>0.9</td>\n",
       "      <td>0.0</td>\n",
       "      <td>2.4</td>\n",
       "      <td>6.9</td>\n",
       "      <td>73.1</td>\n",
       "    </tr>\n",
       "    <tr>\n",
       "      <th>1</th>\n",
       "      <td>86.0</td>\n",
       "      <td>172.0</td>\n",
       "      <td>105.4</td>\n",
       "      <td>1.8</td>\n",
       "      <td>8.1</td>\n",
       "      <td>0.4</td>\n",
       "      <td>4.2</td>\n",
       "      <td>85.0</td>\n",
       "    </tr>\n",
       "    <tr>\n",
       "      <th>2</th>\n",
       "      <td>83.3</td>\n",
       "      <td>176.0</td>\n",
       "      <td>111.4</td>\n",
       "      <td>1.1</td>\n",
       "      <td>0.8</td>\n",
       "      <td>4.6</td>\n",
       "      <td>7.5</td>\n",
       "      <td>81.6</td>\n",
       "    </tr>\n",
       "    <tr>\n",
       "      <th>3</th>\n",
       "      <td>82.8</td>\n",
       "      <td>164.0</td>\n",
       "      <td>111.4</td>\n",
       "      <td>4.7</td>\n",
       "      <td>11.8</td>\n",
       "      <td>1.0</td>\n",
       "      <td>2.9</td>\n",
       "      <td>81.0</td>\n",
       "    </tr>\n",
       "    <tr>\n",
       "      <th>4</th>\n",
       "      <td>78.7</td>\n",
       "      <td>178.0</td>\n",
       "      <td>71.6</td>\n",
       "      <td>1.5</td>\n",
       "      <td>8.3</td>\n",
       "      <td>4.9</td>\n",
       "      <td>5.5</td>\n",
       "      <td>75.0</td>\n",
       "    </tr>\n",
       "  </tbody>\n",
       "</table>\n",
       "</div>"
      ],
      "text/plain": [
       "   genetic  length   mass  exercise  smoking  alcohol  sugar  lifespan\n",
       "0     73.9   185.0   99.7       0.9      0.0      2.4    6.9      73.1\n",
       "1     86.0   172.0  105.4       1.8      8.1      0.4    4.2      85.0\n",
       "2     83.3   176.0  111.4       1.1      0.8      4.6    7.5      81.6\n",
       "3     82.8   164.0  111.4       4.7     11.8      1.0    2.9      81.0\n",
       "4     78.7   178.0   71.6       1.5      8.3      4.9    5.5      75.0"
      ]
     },
     "execution_count": 83,
     "metadata": {},
     "output_type": "execute_result"
    }
   ],
   "source": [
    "url = \"http://localhost:8080/medish_centrum_randstad/api/netlify?page=1\"\n",
    "\n",
    "page1 = requests.get(url).json()\n",
    "\n",
    "dfFromAPI = pd.DataFrame(page1['data'])\n",
    "\n",
    "dfFromAPI.head()"
   ]
  },
  {
   "cell_type": "code",
   "execution_count": null,
   "id": "ef1d3c0d",
   "metadata": {},
   "outputs": [],
   "source": []
  },
  {
   "cell_type": "code",
   "execution_count": 84,
   "id": "20773f5d",
   "metadata": {
    "tags": []
   },
   "outputs": [
    {
     "data": {
      "text/plain": [
       "'Op het moment van schrijven is er nog geen nieuwe rest-server versie van de data, dus gebruik ik hier de csv\\nvan de nieuwe data. Zodra de data op te halen is vanaf de server zal ik dit in deze notebook zetten'"
      ]
     },
     "execution_count": 84,
     "metadata": {},
     "output_type": "execute_result"
    }
   ],
   "source": [
    "'''Op het moment van schrijven is er nog geen nieuwe rest-server versie van de data, dus gebruik ik hier de csv\n",
    "van de nieuwe data. Zodra de data op te halen is vanaf de server zal ik dit in deze notebook zetten'''"
   ]
  },
  {
   "cell_type": "code",
   "execution_count": 85,
   "id": "f65fa132",
   "metadata": {
    "tags": []
   },
   "outputs": [],
   "source": [
    "#dataframe maken van csv\n",
    "df = pd.read_csv('../Project/Project 1/data.csv')"
   ]
  },
  {
   "cell_type": "code",
   "execution_count": 86,
   "id": "cda973fe",
   "metadata": {
    "tags": []
   },
   "outputs": [
    {
     "data": {
      "text/html": [
       "<div>\n",
       "<style scoped>\n",
       "    .dataframe tbody tr th:only-of-type {\n",
       "        vertical-align: middle;\n",
       "    }\n",
       "\n",
       "    .dataframe tbody tr th {\n",
       "        vertical-align: top;\n",
       "    }\n",
       "\n",
       "    .dataframe thead th {\n",
       "        text-align: right;\n",
       "    }\n",
       "</style>\n",
       "<table border=\"1\" class=\"dataframe\">\n",
       "  <thead>\n",
       "    <tr style=\"text-align: right;\">\n",
       "      <th></th>\n",
       "      <th>genetic</th>\n",
       "      <th>length</th>\n",
       "      <th>mass</th>\n",
       "      <th>exercise</th>\n",
       "      <th>smoking</th>\n",
       "      <th>alcohol</th>\n",
       "      <th>lifespan</th>\n",
       "      <th>sugar</th>\n",
       "    </tr>\n",
       "  </thead>\n",
       "  <tbody>\n",
       "    <tr>\n",
       "      <th>0</th>\n",
       "      <td>73.9</td>\n",
       "      <td>185.0</td>\n",
       "      <td>99.7</td>\n",
       "      <td>0.9</td>\n",
       "      <td>0.0</td>\n",
       "      <td>2.4</td>\n",
       "      <td>73.1</td>\n",
       "      <td>6.9</td>\n",
       "    </tr>\n",
       "    <tr>\n",
       "      <th>1</th>\n",
       "      <td>86.0</td>\n",
       "      <td>172.0</td>\n",
       "      <td>105.4</td>\n",
       "      <td>1.8</td>\n",
       "      <td>8.1</td>\n",
       "      <td>0.4</td>\n",
       "      <td>85.0</td>\n",
       "      <td>4.2</td>\n",
       "    </tr>\n",
       "    <tr>\n",
       "      <th>2</th>\n",
       "      <td>83.3</td>\n",
       "      <td>176.0</td>\n",
       "      <td>111.4</td>\n",
       "      <td>1.1</td>\n",
       "      <td>0.8</td>\n",
       "      <td>4.6</td>\n",
       "      <td>81.6</td>\n",
       "      <td>7.5</td>\n",
       "    </tr>\n",
       "    <tr>\n",
       "      <th>3</th>\n",
       "      <td>82.8</td>\n",
       "      <td>164.0</td>\n",
       "      <td>111.4</td>\n",
       "      <td>4.7</td>\n",
       "      <td>11.8</td>\n",
       "      <td>1.0</td>\n",
       "      <td>81.0</td>\n",
       "      <td>2.9</td>\n",
       "    </tr>\n",
       "    <tr>\n",
       "      <th>4</th>\n",
       "      <td>78.7</td>\n",
       "      <td>178.0</td>\n",
       "      <td>71.6</td>\n",
       "      <td>1.5</td>\n",
       "      <td>8.3</td>\n",
       "      <td>4.9</td>\n",
       "      <td>75.0</td>\n",
       "      <td>5.5</td>\n",
       "    </tr>\n",
       "  </tbody>\n",
       "</table>\n",
       "</div>"
      ],
      "text/plain": [
       "   genetic  length   mass  exercise  smoking  alcohol  lifespan  sugar\n",
       "0     73.9   185.0   99.7       0.9      0.0      2.4      73.1    6.9\n",
       "1     86.0   172.0  105.4       1.8      8.1      0.4      85.0    4.2\n",
       "2     83.3   176.0  111.4       1.1      0.8      4.6      81.6    7.5\n",
       "3     82.8   164.0  111.4       4.7     11.8      1.0      81.0    2.9\n",
       "4     78.7   178.0   71.6       1.5      8.3      4.9      75.0    5.5"
      ]
     },
     "execution_count": 86,
     "metadata": {},
     "output_type": "execute_result"
    }
   ],
   "source": [
    "#eerste blik werpen op ons df\n",
    "df.head()"
   ]
  },
  {
   "cell_type": "code",
   "execution_count": 87,
   "id": "85859710",
   "metadata": {
    "tags": []
   },
   "outputs": [
    {
     "data": {
      "text/plain": [
       "(4096, 8)"
      ]
     },
     "execution_count": 87,
     "metadata": {},
     "output_type": "execute_result"
    }
   ],
   "source": [
    "#kijken hoeveel rijen we hebben\n",
    "df.shape"
   ]
  },
  {
   "cell_type": "code",
   "execution_count": 88,
   "id": "96ba38a6",
   "metadata": {
    "tags": []
   },
   "outputs": [
    {
     "data": {
      "text/plain": [
       "'We hebben dus een dataframe met 4096 rijen (waarbinnen elke rij de data van één persoon bevat). \\nDaarnaast hebben we voor elke rij/persoon 8 variabelen.'"
      ]
     },
     "execution_count": 88,
     "metadata": {},
     "output_type": "execute_result"
    }
   ],
   "source": [
    "'''We hebben dus een dataframe met 4096 rijen (waarbinnen elke rij de data van één persoon bevat). \n",
    "Daarnaast hebben we voor elke rij/persoon 8 variabelen.'''"
   ]
  },
  {
   "cell_type": "code",
   "execution_count": 89,
   "id": "559fe5db",
   "metadata": {
    "tags": []
   },
   "outputs": [
    {
     "name": "stdout",
     "output_type": "stream",
     "text": [
      "<class 'pandas.core.frame.DataFrame'>\n",
      "RangeIndex: 4096 entries, 0 to 4095\n",
      "Data columns (total 8 columns):\n",
      " #   Column    Non-Null Count  Dtype  \n",
      "---  ------    --------------  -----  \n",
      " 0   genetic   4095 non-null   float64\n",
      " 1   length    4093 non-null   float64\n",
      " 2   mass      4094 non-null   float64\n",
      " 3   exercise  4095 non-null   float64\n",
      " 4   smoking   4096 non-null   float64\n",
      " 5   alcohol   4094 non-null   float64\n",
      " 6   lifespan  4094 non-null   float64\n",
      " 7   sugar     4095 non-null   float64\n",
      "dtypes: float64(8)\n",
      "memory usage: 256.1 KB\n"
     ]
    }
   ],
   "source": [
    "#we bekijken wat voor soort data we hebben in elke kolom\n",
    "df.info()"
   ]
  },
  {
   "cell_type": "code",
   "execution_count": 90,
   "id": "b088f97e",
   "metadata": {
    "tags": []
   },
   "outputs": [
    {
     "data": {
      "text/html": [
       "<div>\n",
       "<style scoped>\n",
       "    .dataframe tbody tr th:only-of-type {\n",
       "        vertical-align: middle;\n",
       "    }\n",
       "\n",
       "    .dataframe tbody tr th {\n",
       "        vertical-align: top;\n",
       "    }\n",
       "\n",
       "    .dataframe thead th {\n",
       "        text-align: right;\n",
       "    }\n",
       "</style>\n",
       "<table border=\"1\" class=\"dataframe\">\n",
       "  <thead>\n",
       "    <tr style=\"text-align: right;\">\n",
       "      <th></th>\n",
       "      <th>genetic</th>\n",
       "      <th>length</th>\n",
       "      <th>mass</th>\n",
       "      <th>exercise</th>\n",
       "      <th>smoking</th>\n",
       "      <th>alcohol</th>\n",
       "      <th>lifespan</th>\n",
       "      <th>sugar</th>\n",
       "    </tr>\n",
       "  </thead>\n",
       "  <tbody>\n",
       "    <tr>\n",
       "      <th>count</th>\n",
       "      <td>4095.000000</td>\n",
       "      <td>4093.000000</td>\n",
       "      <td>4094.000000</td>\n",
       "      <td>4095.000000</td>\n",
       "      <td>4096.000000</td>\n",
       "      <td>4094.000000</td>\n",
       "      <td>4094.000000</td>\n",
       "      <td>4095.000000</td>\n",
       "    </tr>\n",
       "    <tr>\n",
       "      <th>mean</th>\n",
       "      <td>82.268352</td>\n",
       "      <td>183.880283</td>\n",
       "      <td>92.268442</td>\n",
       "      <td>2.402125</td>\n",
       "      <td>9.807446</td>\n",
       "      <td>2.264558</td>\n",
       "      <td>80.167416</td>\n",
       "      <td>6.482955</td>\n",
       "    </tr>\n",
       "    <tr>\n",
       "      <th>std</th>\n",
       "      <td>7.442579</td>\n",
       "      <td>12.623054</td>\n",
       "      <td>25.791314</td>\n",
       "      <td>1.170062</td>\n",
       "      <td>6.921461</td>\n",
       "      <td>1.800523</td>\n",
       "      <td>7.841687</td>\n",
       "      <td>2.710213</td>\n",
       "    </tr>\n",
       "    <tr>\n",
       "      <th>min</th>\n",
       "      <td>63.900000</td>\n",
       "      <td>154.000000</td>\n",
       "      <td>50.000000</td>\n",
       "      <td>0.100000</td>\n",
       "      <td>0.000000</td>\n",
       "      <td>0.000000</td>\n",
       "      <td>57.000000</td>\n",
       "      <td>0.700000</td>\n",
       "    </tr>\n",
       "    <tr>\n",
       "      <th>25%</th>\n",
       "      <td>77.600000</td>\n",
       "      <td>175.000000</td>\n",
       "      <td>71.500000</td>\n",
       "      <td>1.500000</td>\n",
       "      <td>3.300000</td>\n",
       "      <td>0.600000</td>\n",
       "      <td>75.000000</td>\n",
       "      <td>4.400000</td>\n",
       "    </tr>\n",
       "    <tr>\n",
       "      <th>50%</th>\n",
       "      <td>81.800000</td>\n",
       "      <td>184.000000</td>\n",
       "      <td>89.500000</td>\n",
       "      <td>2.200000</td>\n",
       "      <td>9.500000</td>\n",
       "      <td>1.700000</td>\n",
       "      <td>79.700000</td>\n",
       "      <td>6.300000</td>\n",
       "    </tr>\n",
       "    <tr>\n",
       "      <th>75%</th>\n",
       "      <td>86.700000</td>\n",
       "      <td>193.000000</td>\n",
       "      <td>110.875000</td>\n",
       "      <td>3.200000</td>\n",
       "      <td>15.900000</td>\n",
       "      <td>4.000000</td>\n",
       "      <td>85.200000</td>\n",
       "      <td>8.400000</td>\n",
       "    </tr>\n",
       "    <tr>\n",
       "      <th>max</th>\n",
       "      <td>102.200000</td>\n",
       "      <td>214.000000</td>\n",
       "      <td>163.600000</td>\n",
       "      <td>5.500000</td>\n",
       "      <td>22.200000</td>\n",
       "      <td>6.000000</td>\n",
       "      <td>105.100000</td>\n",
       "      <td>13.800000</td>\n",
       "    </tr>\n",
       "  </tbody>\n",
       "</table>\n",
       "</div>"
      ],
      "text/plain": [
       "           genetic       length         mass     exercise      smoking  \\\n",
       "count  4095.000000  4093.000000  4094.000000  4095.000000  4096.000000   \n",
       "mean     82.268352   183.880283    92.268442     2.402125     9.807446   \n",
       "std       7.442579    12.623054    25.791314     1.170062     6.921461   \n",
       "min      63.900000   154.000000    50.000000     0.100000     0.000000   \n",
       "25%      77.600000   175.000000    71.500000     1.500000     3.300000   \n",
       "50%      81.800000   184.000000    89.500000     2.200000     9.500000   \n",
       "75%      86.700000   193.000000   110.875000     3.200000    15.900000   \n",
       "max     102.200000   214.000000   163.600000     5.500000    22.200000   \n",
       "\n",
       "           alcohol     lifespan        sugar  \n",
       "count  4094.000000  4094.000000  4095.000000  \n",
       "mean      2.264558    80.167416     6.482955  \n",
       "std       1.800523     7.841687     2.710213  \n",
       "min       0.000000    57.000000     0.700000  \n",
       "25%       0.600000    75.000000     4.400000  \n",
       "50%       1.700000    79.700000     6.300000  \n",
       "75%       4.000000    85.200000     8.400000  \n",
       "max       6.000000   105.100000    13.800000  "
      ]
     },
     "execution_count": 90,
     "metadata": {},
     "output_type": "execute_result"
    }
   ],
   "source": [
    "#hier lopen we tegen een eerste probleem aan. Alleen lifespan en smoking zijn floats, de rest van de variabelen\n",
    "#zijn van het type 'object', en worden hierdoor kennelijk niet meegenomen door .describe()\n",
    "df.describe()\n",
    "\n",
    "#df.astype(float) werkt niet, want dit geeft aan dat er '?' waardes in het df zitten"
   ]
  },
  {
   "cell_type": "code",
   "execution_count": 91,
   "id": "db0e9e85",
   "metadata": {
    "tags": []
   },
   "outputs": [],
   "source": [
    "# #We verwijderen de rijen met een '?' waarde:\n",
    "\n",
    "# for c in df.columns:\n",
    "#     df.drop(df.index[df[c] == '?'], inplace = True)\n",
    "\n",
    "# #Nogmaals checken of ze er uit zijn:\n",
    "\n",
    "# print(df.isin(['?']).sum(axis=0))"
   ]
  },
  {
   "cell_type": "code",
   "execution_count": 92,
   "id": "59525576",
   "metadata": {
    "tags": []
   },
   "outputs": [
    {
     "name": "stdout",
     "output_type": "stream",
     "text": [
      "floating\n",
      "floating\n",
      "floating\n",
      "floating\n",
      "floating\n",
      "floating\n",
      "floating\n",
      "floating\n"
     ]
    }
   ],
   "source": [
    "#We kunnen specifieker bekijken wat er voor type data er in elke kolom staat:\n",
    "\n",
    "for c in df.columns:\n",
    "    print(pd.api.types.infer_dtype(df[c]))"
   ]
  },
  {
   "cell_type": "code",
   "execution_count": 93,
   "id": "dfffe35e",
   "metadata": {
    "tags": []
   },
   "outputs": [],
   "source": [
    "# We hebben dus een aantal columns die van het type string zijn. \n",
    "# We veranderen nu alle columns naar het datatype float:\n",
    "for c in df.columns:\n",
    "    df[c] = pd.to_numeric(df[c], errors='coerce')"
   ]
  },
  {
   "cell_type": "code",
   "execution_count": 94,
   "id": "4446ca31",
   "metadata": {
    "scrolled": true,
    "tags": []
   },
   "outputs": [
    {
     "name": "stdout",
     "output_type": "stream",
     "text": [
      "genetic      0\n",
      "length       0\n",
      "mass         0\n",
      "exercise     0\n",
      "smoking     54\n",
      "alcohol     12\n",
      "lifespan     0\n",
      "sugar        0\n",
      "dtype: int64\n"
     ]
    }
   ],
   "source": [
    "#Wat we ook nog moeten bekijken is of er cellen zijn met als waarde '0' terwijl dit niet zou kunnen,\n",
    "#zoals bij lengte, massa of lifespan\n",
    "print(df.isin([0]).sum(axis=0))"
   ]
  },
  {
   "cell_type": "code",
   "execution_count": 95,
   "id": "64a264fe",
   "metadata": {
    "tags": []
   },
   "outputs": [
    {
     "data": {
      "text/html": [
       "<div>\n",
       "<style scoped>\n",
       "    .dataframe tbody tr th:only-of-type {\n",
       "        vertical-align: middle;\n",
       "    }\n",
       "\n",
       "    .dataframe tbody tr th {\n",
       "        vertical-align: top;\n",
       "    }\n",
       "\n",
       "    .dataframe thead th {\n",
       "        text-align: right;\n",
       "    }\n",
       "</style>\n",
       "<table border=\"1\" class=\"dataframe\">\n",
       "  <thead>\n",
       "    <tr style=\"text-align: right;\">\n",
       "      <th></th>\n",
       "      <th>genetic</th>\n",
       "      <th>length</th>\n",
       "      <th>mass</th>\n",
       "      <th>exercise</th>\n",
       "      <th>smoking</th>\n",
       "      <th>alcohol</th>\n",
       "      <th>lifespan</th>\n",
       "      <th>sugar</th>\n",
       "    </tr>\n",
       "  </thead>\n",
       "  <tbody>\n",
       "    <tr>\n",
       "      <th>count</th>\n",
       "      <td>4095.000000</td>\n",
       "      <td>4093.000000</td>\n",
       "      <td>4094.000000</td>\n",
       "      <td>4095.000000</td>\n",
       "      <td>4096.000000</td>\n",
       "      <td>4094.000000</td>\n",
       "      <td>4094.000000</td>\n",
       "      <td>4095.000000</td>\n",
       "    </tr>\n",
       "    <tr>\n",
       "      <th>mean</th>\n",
       "      <td>82.268352</td>\n",
       "      <td>183.880283</td>\n",
       "      <td>92.268442</td>\n",
       "      <td>2.402125</td>\n",
       "      <td>9.807446</td>\n",
       "      <td>2.264558</td>\n",
       "      <td>80.167416</td>\n",
       "      <td>6.482955</td>\n",
       "    </tr>\n",
       "    <tr>\n",
       "      <th>std</th>\n",
       "      <td>7.442579</td>\n",
       "      <td>12.623054</td>\n",
       "      <td>25.791314</td>\n",
       "      <td>1.170062</td>\n",
       "      <td>6.921461</td>\n",
       "      <td>1.800523</td>\n",
       "      <td>7.841687</td>\n",
       "      <td>2.710213</td>\n",
       "    </tr>\n",
       "    <tr>\n",
       "      <th>min</th>\n",
       "      <td>63.900000</td>\n",
       "      <td>154.000000</td>\n",
       "      <td>50.000000</td>\n",
       "      <td>0.100000</td>\n",
       "      <td>0.000000</td>\n",
       "      <td>0.000000</td>\n",
       "      <td>57.000000</td>\n",
       "      <td>0.700000</td>\n",
       "    </tr>\n",
       "    <tr>\n",
       "      <th>25%</th>\n",
       "      <td>77.600000</td>\n",
       "      <td>175.000000</td>\n",
       "      <td>71.500000</td>\n",
       "      <td>1.500000</td>\n",
       "      <td>3.300000</td>\n",
       "      <td>0.600000</td>\n",
       "      <td>75.000000</td>\n",
       "      <td>4.400000</td>\n",
       "    </tr>\n",
       "    <tr>\n",
       "      <th>50%</th>\n",
       "      <td>81.800000</td>\n",
       "      <td>184.000000</td>\n",
       "      <td>89.500000</td>\n",
       "      <td>2.200000</td>\n",
       "      <td>9.500000</td>\n",
       "      <td>1.700000</td>\n",
       "      <td>79.700000</td>\n",
       "      <td>6.300000</td>\n",
       "    </tr>\n",
       "    <tr>\n",
       "      <th>75%</th>\n",
       "      <td>86.700000</td>\n",
       "      <td>193.000000</td>\n",
       "      <td>110.875000</td>\n",
       "      <td>3.200000</td>\n",
       "      <td>15.900000</td>\n",
       "      <td>4.000000</td>\n",
       "      <td>85.200000</td>\n",
       "      <td>8.400000</td>\n",
       "    </tr>\n",
       "    <tr>\n",
       "      <th>max</th>\n",
       "      <td>102.200000</td>\n",
       "      <td>214.000000</td>\n",
       "      <td>163.600000</td>\n",
       "      <td>5.500000</td>\n",
       "      <td>22.200000</td>\n",
       "      <td>6.000000</td>\n",
       "      <td>105.100000</td>\n",
       "      <td>13.800000</td>\n",
       "    </tr>\n",
       "  </tbody>\n",
       "</table>\n",
       "</div>"
      ],
      "text/plain": [
       "           genetic       length         mass     exercise      smoking  \\\n",
       "count  4095.000000  4093.000000  4094.000000  4095.000000  4096.000000   \n",
       "mean     82.268352   183.880283    92.268442     2.402125     9.807446   \n",
       "std       7.442579    12.623054    25.791314     1.170062     6.921461   \n",
       "min      63.900000   154.000000    50.000000     0.100000     0.000000   \n",
       "25%      77.600000   175.000000    71.500000     1.500000     3.300000   \n",
       "50%      81.800000   184.000000    89.500000     2.200000     9.500000   \n",
       "75%      86.700000   193.000000   110.875000     3.200000    15.900000   \n",
       "max     102.200000   214.000000   163.600000     5.500000    22.200000   \n",
       "\n",
       "           alcohol     lifespan        sugar  \n",
       "count  4094.000000  4094.000000  4095.000000  \n",
       "mean      2.264558    80.167416     6.482955  \n",
       "std       1.800523     7.841687     2.710213  \n",
       "min       0.000000    57.000000     0.700000  \n",
       "25%       0.600000    75.000000     4.400000  \n",
       "50%       1.700000    79.700000     6.300000  \n",
       "75%       4.000000    85.200000     8.400000  \n",
       "max       6.000000   105.100000    13.800000  "
      ]
     },
     "execution_count": 95,
     "metadata": {},
     "output_type": "execute_result"
    }
   ],
   "source": [
    "#Nu hebben we een dataframe zonder lege cellen en met enkel floats als datatypes\n",
    "df.describe()"
   ]
  },
  {
   "cell_type": "code",
   "execution_count": 96,
   "id": "cd4070b2",
   "metadata": {
    "scrolled": true,
    "tags": []
   },
   "outputs": [],
   "source": [
    "# We zien nog wel dat er bijvoorbeeld vreemde waardes in het df staan; zo is de minimale waarde\n",
    "# van 'lifespan' -1, en dat klopt natuurlijk niet. Dit brengt ons bij het detecteren van eventuele outliers:"
   ]
  },
  {
   "cell_type": "code",
   "execution_count": 97,
   "id": "65450d82",
   "metadata": {
    "tags": []
   },
   "outputs": [
    {
     "data": {
      "text/plain": [
       "<AxesSubplot: xlabel='lifespan'>"
      ]
     },
     "execution_count": 97,
     "metadata": {},
     "output_type": "execute_result"
    },
    {
     "data": {
      "image/png": "[encoded data removed]",
      "text/plain": [
       "<Figure size 640x480 with 1 Axes>"
      ]
     },
     "metadata": {},
     "output_type": "display_data"
    }
   ],
   "source": [
    "sns.boxplot(x=df['lifespan'])"
   ]
  },
  {
   "cell_type": "code",
   "execution_count": 98,
   "id": "352d0afe",
   "metadata": {
    "tags": []
   },
   "outputs": [
    {
     "data": {
      "text/html": [
       "<div>\n",
       "<style scoped>\n",
       "    .dataframe tbody tr th:only-of-type {\n",
       "        vertical-align: middle;\n",
       "    }\n",
       "\n",
       "    .dataframe tbody tr th {\n",
       "        vertical-align: top;\n",
       "    }\n",
       "\n",
       "    .dataframe thead th {\n",
       "        text-align: right;\n",
       "    }\n",
       "</style>\n",
       "<table border=\"1\" class=\"dataframe\">\n",
       "  <thead>\n",
       "    <tr style=\"text-align: right;\">\n",
       "      <th></th>\n",
       "      <th>genetic</th>\n",
       "      <th>length</th>\n",
       "      <th>mass</th>\n",
       "      <th>exercise</th>\n",
       "      <th>smoking</th>\n",
       "      <th>alcohol</th>\n",
       "      <th>lifespan</th>\n",
       "      <th>sugar</th>\n",
       "    </tr>\n",
       "  </thead>\n",
       "  <tbody>\n",
       "  </tbody>\n",
       "</table>\n",
       "</div>"
      ],
      "text/plain": [
       "Empty DataFrame\n",
       "Columns: [genetic, length, mass, exercise, smoking, alcohol, lifespan, sugar]\n",
       "Index: []"
      ]
     },
     "execution_count": 98,
     "metadata": {},
     "output_type": "execute_result"
    }
   ],
   "source": [
    "#Dit is overduidelijk een fout datapunt, aangezien het niet mogelijk is om een lifespan van -1 te hebben. \n",
    "#We kijken of er nog meer rijen zijn waarin dit zo is (dit is niet goed te zien op de boxplot):\n",
    "\n",
    "df.loc[df['lifespan'] < 0]"
   ]
  },
  {
   "cell_type": "code",
   "execution_count": 99,
   "id": "e8daa3b2",
   "metadata": {
    "tags": []
   },
   "outputs": [],
   "source": [
    "#We zien dat het om twee rijen gaat. Deze verwijderen we uit het dataframe:\n",
    "\n",
    "df.drop(df.loc[df['lifespan'] < 0].index, inplace=True)"
   ]
  },
  {
   "cell_type": "code",
   "execution_count": 100,
   "id": "9a2c6fc4",
   "metadata": {
    "tags": []
   },
   "outputs": [
    {
     "data": {
      "text/html": [
       "<div>\n",
       "<style scoped>\n",
       "    .dataframe tbody tr th:only-of-type {\n",
       "        vertical-align: middle;\n",
       "    }\n",
       "\n",
       "    .dataframe tbody tr th {\n",
       "        vertical-align: top;\n",
       "    }\n",
       "\n",
       "    .dataframe thead th {\n",
       "        text-align: right;\n",
       "    }\n",
       "</style>\n",
       "<table border=\"1\" class=\"dataframe\">\n",
       "  <thead>\n",
       "    <tr style=\"text-align: right;\">\n",
       "      <th></th>\n",
       "      <th>genetic</th>\n",
       "      <th>length</th>\n",
       "      <th>mass</th>\n",
       "      <th>exercise</th>\n",
       "      <th>smoking</th>\n",
       "      <th>alcohol</th>\n",
       "      <th>lifespan</th>\n",
       "      <th>sugar</th>\n",
       "    </tr>\n",
       "  </thead>\n",
       "  <tbody>\n",
       "  </tbody>\n",
       "</table>\n",
       "</div>"
      ],
      "text/plain": [
       "Empty DataFrame\n",
       "Columns: [genetic, length, mass, exercise, smoking, alcohol, lifespan, sugar]\n",
       "Index: []"
      ]
     },
     "execution_count": 100,
     "metadata": {},
     "output_type": "execute_result"
    }
   ],
   "source": [
    "df.loc[df['lifespan'] < 0]\n",
    "\n",
    "# geeft nu geen rijen meer terug, dat is mooi."
   ]
  },
  {
   "cell_type": "code",
   "execution_count": 101,
   "id": "64a02b0a",
   "metadata": {
    "tags": []
   },
   "outputs": [
    {
     "data": {
      "text/plain": [
       "<AxesSubplot: >"
      ]
     },
     "execution_count": 101,
     "metadata": {},
     "output_type": "execute_result"
    },
    {
     "data": {
      "image/png": "[encoded data removed]",
      "text/plain": [
       "<Figure size 640x480 with 1 Axes>"
      ]
     },
     "metadata": {},
     "output_type": "display_data"
    }
   ],
   "source": [
    "# We kunnen nog voor alle andere variabelen boxplots maken, hoewel de assen dan niet goed zijn geschaald:\n",
    "sns.boxplot(df)"
   ]
  },
  {
   "cell_type": "code",
   "execution_count": 102,
   "id": "8aa0247f",
   "metadata": {
    "tags": []
   },
   "outputs": [],
   "source": [
    "#Er lijken alleen nog wat outliers te zitten in 'genetic' en 'lifespan', maar aangezien dit geen onmogelijke waardes\n",
    "#zijn, en ons model in het geval van de \"juiste\" input ook moet kunnen voorspellen dat iemand 100+ wordt, halen\n",
    "#we deze er niet uit. Met een max waarde van 105.1 is het ook geen uitzonderlijk hoge waarde."
   ]
  },
  {
   "cell_type": "code",
   "execution_count": 103,
   "id": "3fa5bf1f",
   "metadata": {
    "tags": []
   },
   "outputs": [],
   "source": [
    "#Nu kunnen we een BMI variabel toevoegen aan ons dataframe - zo kunnen we kijken of deze gecombineerde waarde meer \n",
    "#zegt/voorspellen waarde heeft dan lengte en massa apart:\n",
    "\n",
    "df['BMI'] = df['mass'] / ((df['length'])/100)**2"
   ]
  },
  {
   "cell_type": "code",
   "execution_count": 104,
   "id": "0e92407f",
   "metadata": {
    "tags": []
   },
   "outputs": [
    {
     "data": {
      "text/plain": [
       "count    4091.000000\n",
       "mean       27.680923\n",
       "std         8.714822\n",
       "min        11.320500\n",
       "25%        20.933229\n",
       "50%        26.471820\n",
       "75%        33.213684\n",
       "max        65.869494\n",
       "Name: BMI, dtype: float64"
      ]
     },
     "execution_count": 104,
     "metadata": {},
     "output_type": "execute_result"
    }
   ],
   "source": [
    "df['BMI'].describe()"
   ]
  },
  {
   "cell_type": "code",
   "execution_count": 105,
   "id": "6bb5b919",
   "metadata": {
    "tags": []
   },
   "outputs": [
    {
     "data": {
      "text/plain": [
       "<AxesSubplot: xlabel='BMI'>"
      ]
     },
     "execution_count": 105,
     "metadata": {},
     "output_type": "execute_result"
    },
    {
     "data": {
      "image/png": "[encoded data removed]",
      "text/plain": [
       "<Figure size 640x480 with 1 Axes>"
      ]
     },
     "metadata": {},
     "output_type": "display_data"
    }
   ],
   "source": [
    "#We bekijken de boxplot van onze nieuwe 'BMI' variabel en zien dat er heel wat waardes hierbuiten vallen:\n",
    "sns.boxplot(x=df['BMI'])"
   ]
  },
  {
   "cell_type": "code",
   "execution_count": 106,
   "id": "ed737f79",
   "metadata": {
    "tags": []
   },
   "outputs": [
    {
     "data": {
      "text/plain": [
       "<AxesSubplot: >"
      ]
     },
     "execution_count": 106,
     "metadata": {},
     "output_type": "execute_result"
    },
    {
     "data": {
      "image/png": "[encoded data removed]",
      "text/plain": [
       "<Figure size 640x480 with 2 Axes>"
      ]
     },
     "metadata": {},
     "output_type": "display_data"
    }
   ],
   "source": [
    "sns.heatmap(df.corr())"
   ]
  },
  {
   "cell_type": "code",
   "execution_count": null,
   "id": "e00ae51b-5d78-4e01-8500-605396bc7caa",
   "metadata": {},
   "outputs": [],
   "source": [
    "#lengte heeft de grootste negatieve invloed op BMI, maar massa de grootste positieve"
   ]
  }
 ],
 "metadata": {
  "kernelspec": {
   "display_name": "Python 3 (ipykernel)",
   "language": "python",
   "name": "python3"
  },
  "language_info": {
   "codemirror_mode": {
    "name": "ipython",
    "version": 3
   },
   "file_extension": ".py",
   "mimetype": "text/x-python",
   "name": "python",
   "nbconvert_exporter": "python",
   "pygments_lexer": "ipython3",
   "version": "3.10.10"
  }
 },
 "nbformat": 4,
 "nbformat_minor": 5
}
