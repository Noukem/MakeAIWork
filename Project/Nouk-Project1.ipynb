{
 "cells": [
  {
   "cell_type": "code",
   "execution_count": 1,
   "id": "f62aa7bd",
   "metadata": {
    "tags": []
   },
   "outputs": [],
   "source": [
    "import json\n",
    "import pandas as pd\n",
    "import requests\n",
    "import seaborn as sns"
   ]
  },
  {
   "cell_type": "code",
   "execution_count": 2,
   "id": "1edbc053",
   "metadata": {
    "tags": []
   },
   "outputs": [],
   "source": [
    "# We doen een \"aanvraag\" bij de API. Deze url werkt alleen als de rest server gestart is. \n",
    "response = requests.get('http://localhost:8080/medish_centrum_randstad/api/netlify?page=1')"
   ]
  },
  {
   "cell_type": "code",
   "execution_count": 3,
   "id": "496a624d",
   "metadata": {
    "scrolled": true,
    "tags": []
   },
   "outputs": [
    {
     "data": {
      "text/plain": [
       "'application/json'"
      ]
     },
     "execution_count": 3,
     "metadata": {},
     "output_type": "execute_result"
    }
   ],
   "source": [
    "# Checken wat voor data/type we binnen hebben gekregen\n",
    "response.headers['content-type']"
   ]
  },
  {
   "cell_type": "code",
   "execution_count": 4,
   "id": "f7f16471",
   "metadata": {
    "tags": []
   },
   "outputs": [
    {
     "data": {
      "text/html": [
       "<div>\n",
       "<style scoped>\n",
       "    .dataframe tbody tr th:only-of-type {\n",
       "        vertical-align: middle;\n",
       "    }\n",
       "\n",
       "    .dataframe tbody tr th {\n",
       "        vertical-align: top;\n",
       "    }\n",
       "\n",
       "    .dataframe thead th {\n",
       "        text-align: right;\n",
       "    }\n",
       "</style>\n",
       "<table border=\"1\" class=\"dataframe\">\n",
       "  <thead>\n",
       "    <tr style=\"text-align: right;\">\n",
       "      <th></th>\n",
       "      <th>status</th>\n",
       "      <th>total_nr_of_records</th>\n",
       "      <th>nr_of_pages</th>\n",
       "      <th>page_size</th>\n",
       "      <th>next</th>\n",
       "      <th>data</th>\n",
       "    </tr>\n",
       "  </thead>\n",
       "  <tbody>\n",
       "    <tr>\n",
       "      <th>0</th>\n",
       "      <td>200</td>\n",
       "      <td>8192</td>\n",
       "      <td>82</td>\n",
       "      <td>100</td>\n",
       "      <td>http://localhost:8080/medish_centrum_randstad/...</td>\n",
       "      <td>{'genetic': 84.0, 'length': 180.0, 'mass': 90....</td>\n",
       "    </tr>\n",
       "    <tr>\n",
       "      <th>1</th>\n",
       "      <td>200</td>\n",
       "      <td>8192</td>\n",
       "      <td>82</td>\n",
       "      <td>100</td>\n",
       "      <td>http://localhost:8080/medish_centrum_randstad/...</td>\n",
       "      <td>{'genetic': 84.0, 'length': 204.0, 'mass': 79....</td>\n",
       "    </tr>\n",
       "    <tr>\n",
       "      <th>2</th>\n",
       "      <td>200</td>\n",
       "      <td>8192</td>\n",
       "      <td>82</td>\n",
       "      <td>100</td>\n",
       "      <td>http://localhost:8080/medish_centrum_randstad/...</td>\n",
       "      <td>{'genetic': 84.0, 'length': 174.0, 'mass': 74....</td>\n",
       "    </tr>\n",
       "    <tr>\n",
       "      <th>3</th>\n",
       "      <td>200</td>\n",
       "      <td>8192</td>\n",
       "      <td>82</td>\n",
       "      <td>100</td>\n",
       "      <td>http://localhost:8080/medish_centrum_randstad/...</td>\n",
       "      <td>{'genetic': 84.0, 'length': 187.0, 'mass': 78....</td>\n",
       "    </tr>\n",
       "    <tr>\n",
       "      <th>4</th>\n",
       "      <td>200</td>\n",
       "      <td>8192</td>\n",
       "      <td>82</td>\n",
       "      <td>100</td>\n",
       "      <td>http://localhost:8080/medish_centrum_randstad/...</td>\n",
       "      <td>{'genetic': 84.0, 'length': 187.0, 'mass': 89....</td>\n",
       "    </tr>\n",
       "  </tbody>\n",
       "</table>\n",
       "</div>"
      ],
      "text/plain": [
       "   status  total_nr_of_records  nr_of_pages  page_size  \\\n",
       "0     200                 8192           82        100   \n",
       "1     200                 8192           82        100   \n",
       "2     200                 8192           82        100   \n",
       "3     200                 8192           82        100   \n",
       "4     200                 8192           82        100   \n",
       "\n",
       "                                                next  \\\n",
       "0  http://localhost:8080/medish_centrum_randstad/...   \n",
       "1  http://localhost:8080/medish_centrum_randstad/...   \n",
       "2  http://localhost:8080/medish_centrum_randstad/...   \n",
       "3  http://localhost:8080/medish_centrum_randstad/...   \n",
       "4  http://localhost:8080/medish_centrum_randstad/...   \n",
       "\n",
       "                                                data  \n",
       "0  {'genetic': 84.0, 'length': 180.0, 'mass': 90....  \n",
       "1  {'genetic': 84.0, 'length': 204.0, 'mass': 79....  \n",
       "2  {'genetic': 84.0, 'length': 174.0, 'mass': 74....  \n",
       "3  {'genetic': 84.0, 'length': 187.0, 'mass': 78....  \n",
       "4  {'genetic': 84.0, 'length': 187.0, 'mass': 89....  "
      ]
     },
     "execution_count": 4,
     "metadata": {},
     "output_type": "execute_result"
    }
   ],
   "source": [
    "# Van de teruggekregen data maken we een pandas dataframe\n",
    "df = pd.read_json(response.text)\n",
    "df.head()"
   ]
  },
  {
   "cell_type": "code",
   "execution_count": 5,
   "id": "87296ddb",
   "metadata": {
    "tags": []
   },
   "outputs": [
    {
     "name": "stdout",
     "output_type": "stream",
     "text": [
      "{'genetic': 84.0, 'length': 180.0, 'mass': 90.0, 'exercise': 2.0, 'smoking': 9.0, 'alcohol': 1.0, 'sugar': 2.0, 'lifespan': 86.0}\n"
     ]
    }
   ],
   "source": [
    "# wat we hier willen:\n",
    "\n",
    "    # De data is opgeslagen in de 'data' kolom. De vorm waarin dit is opgeslagen is een dictionary (voor elke rij)\n",
    "    # waarvan de keys de variabelen zijn, en de waardes de waardes voor elke 'patient'\n",
    "    \n",
    "    # Nu willen we dus elk dictionary verwerken tot een rij in het dataframe, zodat we een rij hebben voor elke patient\n",
    "    \n",
    "\n",
    "# Eerst heb ik alle dictionaries in een lijst gezet, om ze als het ware uit het \"oude\" dataframe te halen:\n",
    "\n",
    "data_list = df.data.values.tolist()\n",
    "    \n",
    "# Hier kunnen we inspecteren hoe het eerste item, i.e., de eerste rij, eruit ziet:\n",
    "print(data_list[0])\n",
    "    "
   ]
  },
  {
   "cell_type": "code",
   "execution_count": 6,
   "id": "21fb9689",
   "metadata": {
    "tags": []
   },
   "outputs": [
    {
     "name": "stdout",
     "output_type": "stream",
     "text": [
      "   genetic  length  mass  exercise  smoking  alcohol  sugar  lifespan\n",
      "0     84.0   180.0  90.0       2.0      9.0      1.0    2.0      86.0\n",
      "1     84.0   204.0  79.0       3.0      2.0      7.0    3.0     100.0\n",
      "2     84.0   174.0  74.0       3.0     20.0      3.0    2.0      87.0\n",
      "3     84.0   187.0  78.0       2.0      6.0      5.0    3.0      91.0\n",
      "4     84.0   187.0  89.0       2.0     12.0      0.0    2.0      83.0\n",
      "\n",
      "      genetic  length  mass  exercise  smoking  alcohol  sugar  lifespan\n",
      "8187     82.0   185.0  67.0       3.0     11.0      8.0    2.0      90.0\n",
      "8188     82.0   183.0  72.0       2.0      1.0      5.0    4.0      88.0\n",
      "8189     83.0   192.0  92.0       1.0     22.0      2.0    4.0      62.0\n",
      "8190     81.0   175.0  60.0       3.0     13.0      7.0    2.0      93.0\n",
      "8191     83.0   204.0  76.0       3.0      8.0      8.0    1.0      96.0\n"
     ]
    }
   ],
   "source": [
    "# Nu is het zaak om de dictionaries uit de gemaakte lijst allemaal samen te voegen in een datatframe\n",
    "\n",
    "df_final = pd.DataFrame.from_dict(data_list)\n",
    "\n",
    "# We kunnen ons nieuwe dataframe even bekijken:\n",
    "\n",
    "print(df_final.head())\n",
    "print()\n",
    "print(df_final.tail())\n"
   ]
  },
  {
   "cell_type": "code",
   "execution_count": 7,
   "id": "36b5b638",
   "metadata": {
    "tags": []
   },
   "outputs": [
    {
     "data": {
      "text/html": [
       "<div>\n",
       "<style scoped>\n",
       "    .dataframe tbody tr th:only-of-type {\n",
       "        vertical-align: middle;\n",
       "    }\n",
       "\n",
       "    .dataframe tbody tr th {\n",
       "        vertical-align: top;\n",
       "    }\n",
       "\n",
       "    .dataframe thead th {\n",
       "        text-align: right;\n",
       "    }\n",
       "</style>\n",
       "<table border=\"1\" class=\"dataframe\">\n",
       "  <thead>\n",
       "    <tr style=\"text-align: right;\">\n",
       "      <th></th>\n",
       "      <th>genetic</th>\n",
       "      <th>length</th>\n",
       "      <th>mass</th>\n",
       "      <th>exercise</th>\n",
       "      <th>smoking</th>\n",
       "      <th>alcohol</th>\n",
       "      <th>sugar</th>\n",
       "      <th>lifespan</th>\n",
       "    </tr>\n",
       "  </thead>\n",
       "  <tbody>\n",
       "    <tr>\n",
       "      <th>0</th>\n",
       "      <td>84.0</td>\n",
       "      <td>180.0</td>\n",
       "      <td>90.0</td>\n",
       "      <td>2.0</td>\n",
       "      <td>9.0</td>\n",
       "      <td>1.0</td>\n",
       "      <td>2.0</td>\n",
       "      <td>86.0</td>\n",
       "    </tr>\n",
       "    <tr>\n",
       "      <th>1</th>\n",
       "      <td>84.0</td>\n",
       "      <td>204.0</td>\n",
       "      <td>79.0</td>\n",
       "      <td>3.0</td>\n",
       "      <td>2.0</td>\n",
       "      <td>7.0</td>\n",
       "      <td>3.0</td>\n",
       "      <td>100.0</td>\n",
       "    </tr>\n",
       "    <tr>\n",
       "      <th>2</th>\n",
       "      <td>84.0</td>\n",
       "      <td>174.0</td>\n",
       "      <td>74.0</td>\n",
       "      <td>3.0</td>\n",
       "      <td>20.0</td>\n",
       "      <td>3.0</td>\n",
       "      <td>2.0</td>\n",
       "      <td>87.0</td>\n",
       "    </tr>\n",
       "    <tr>\n",
       "      <th>3</th>\n",
       "      <td>84.0</td>\n",
       "      <td>187.0</td>\n",
       "      <td>78.0</td>\n",
       "      <td>2.0</td>\n",
       "      <td>6.0</td>\n",
       "      <td>5.0</td>\n",
       "      <td>3.0</td>\n",
       "      <td>91.0</td>\n",
       "    </tr>\n",
       "    <tr>\n",
       "      <th>4</th>\n",
       "      <td>84.0</td>\n",
       "      <td>187.0</td>\n",
       "      <td>89.0</td>\n",
       "      <td>2.0</td>\n",
       "      <td>12.0</td>\n",
       "      <td>0.0</td>\n",
       "      <td>2.0</td>\n",
       "      <td>83.0</td>\n",
       "    </tr>\n",
       "    <tr>\n",
       "      <th>5</th>\n",
       "      <td>84.0</td>\n",
       "      <td>175.0</td>\n",
       "      <td>74.0</td>\n",
       "      <td>2.0</td>\n",
       "      <td>2.0</td>\n",
       "      <td>3.0</td>\n",
       "      <td>3.0</td>\n",
       "      <td>89.0</td>\n",
       "    </tr>\n",
       "    <tr>\n",
       "      <th>6</th>\n",
       "      <td>84.0</td>\n",
       "      <td>196.0</td>\n",
       "      <td>68.0</td>\n",
       "      <td>2.0</td>\n",
       "      <td>14.0</td>\n",
       "      <td>8.0</td>\n",
       "      <td>1.0</td>\n",
       "      <td>80.0</td>\n",
       "    </tr>\n",
       "    <tr>\n",
       "      <th>7</th>\n",
       "      <td>84.0</td>\n",
       "      <td>182.0</td>\n",
       "      <td>83.0</td>\n",
       "      <td>1.0</td>\n",
       "      <td>1.0</td>\n",
       "      <td>8.0</td>\n",
       "      <td>3.0</td>\n",
       "      <td>77.0</td>\n",
       "    </tr>\n",
       "    <tr>\n",
       "      <th>8</th>\n",
       "      <td>84.0</td>\n",
       "      <td>176.0</td>\n",
       "      <td>91.0</td>\n",
       "      <td>1.0</td>\n",
       "      <td>17.0</td>\n",
       "      <td>1.0</td>\n",
       "      <td>2.0</td>\n",
       "      <td>73.0</td>\n",
       "    </tr>\n",
       "    <tr>\n",
       "      <th>9</th>\n",
       "      <td>84.0</td>\n",
       "      <td>180.0</td>\n",
       "      <td>74.0</td>\n",
       "      <td>1.0</td>\n",
       "      <td>5.0</td>\n",
       "      <td>9.0</td>\n",
       "      <td>2.0</td>\n",
       "      <td>73.0</td>\n",
       "    </tr>\n",
       "    <tr>\n",
       "      <th>10</th>\n",
       "      <td>84.0</td>\n",
       "      <td>191.0</td>\n",
       "      <td>73.0</td>\n",
       "      <td>1.0</td>\n",
       "      <td>18.0</td>\n",
       "      <td>7.0</td>\n",
       "      <td>4.0</td>\n",
       "      <td>67.0</td>\n",
       "    </tr>\n",
       "    <tr>\n",
       "      <th>11</th>\n",
       "      <td>84.0</td>\n",
       "      <td>204.0</td>\n",
       "      <td>74.0</td>\n",
       "      <td>2.0</td>\n",
       "      <td>15.0</td>\n",
       "      <td>10.0</td>\n",
       "      <td>2.0</td>\n",
       "      <td>81.0</td>\n",
       "    </tr>\n",
       "    <tr>\n",
       "      <th>12</th>\n",
       "      <td>84.0</td>\n",
       "      <td>168.0</td>\n",
       "      <td>75.0</td>\n",
       "      <td>2.0</td>\n",
       "      <td>12.0</td>\n",
       "      <td>3.0</td>\n",
       "      <td>3.0</td>\n",
       "      <td>78.0</td>\n",
       "    </tr>\n",
       "    <tr>\n",
       "      <th>13</th>\n",
       "      <td>84.0</td>\n",
       "      <td>198.0</td>\n",
       "      <td>63.0</td>\n",
       "      <td>3.0</td>\n",
       "      <td>21.0</td>\n",
       "      <td>5.0</td>\n",
       "      <td>2.0</td>\n",
       "      <td>90.0</td>\n",
       "    </tr>\n",
       "    <tr>\n",
       "      <th>14</th>\n",
       "      <td>84.0</td>\n",
       "      <td>199.0</td>\n",
       "      <td>78.0</td>\n",
       "      <td>1.0</td>\n",
       "      <td>14.0</td>\n",
       "      <td>7.0</td>\n",
       "      <td>3.0</td>\n",
       "      <td>66.0</td>\n",
       "    </tr>\n",
       "    <tr>\n",
       "      <th>15</th>\n",
       "      <td>84.0</td>\n",
       "      <td>194.0</td>\n",
       "      <td>78.0</td>\n",
       "      <td>1.0</td>\n",
       "      <td>0.0</td>\n",
       "      <td>1.0</td>\n",
       "      <td>2.0</td>\n",
       "      <td>84.0</td>\n",
       "    </tr>\n",
       "    <tr>\n",
       "      <th>16</th>\n",
       "      <td>84.0</td>\n",
       "      <td>182.0</td>\n",
       "      <td>89.0</td>\n",
       "      <td>3.0</td>\n",
       "      <td>6.0</td>\n",
       "      <td>8.0</td>\n",
       "      <td>1.0</td>\n",
       "      <td>92.0</td>\n",
       "    </tr>\n",
       "    <tr>\n",
       "      <th>17</th>\n",
       "      <td>84.0</td>\n",
       "      <td>159.0</td>\n",
       "      <td>74.0</td>\n",
       "      <td>2.0</td>\n",
       "      <td>9.0</td>\n",
       "      <td>7.0</td>\n",
       "      <td>3.0</td>\n",
       "      <td>73.0</td>\n",
       "    </tr>\n",
       "    <tr>\n",
       "      <th>18</th>\n",
       "      <td>84.0</td>\n",
       "      <td>176.0</td>\n",
       "      <td>101.0</td>\n",
       "      <td>1.0</td>\n",
       "      <td>12.0</td>\n",
       "      <td>10.0</td>\n",
       "      <td>2.0</td>\n",
       "      <td>67.0</td>\n",
       "    </tr>\n",
       "    <tr>\n",
       "      <th>19</th>\n",
       "      <td>84.0</td>\n",
       "      <td>171.0</td>\n",
       "      <td>82.0</td>\n",
       "      <td>1.0</td>\n",
       "      <td>21.0</td>\n",
       "      <td>9.0</td>\n",
       "      <td>4.0</td>\n",
       "      <td>55.0</td>\n",
       "    </tr>\n",
       "    <tr>\n",
       "      <th>20</th>\n",
       "      <td>84.0</td>\n",
       "      <td>188.0</td>\n",
       "      <td>79.0</td>\n",
       "      <td>2.0</td>\n",
       "      <td>18.0</td>\n",
       "      <td>7.0</td>\n",
       "      <td>3.0</td>\n",
       "      <td>76.0</td>\n",
       "    </tr>\n",
       "    <tr>\n",
       "      <th>21</th>\n",
       "      <td>84.0</td>\n",
       "      <td>185.0</td>\n",
       "      <td>87.0</td>\n",
       "      <td>2.0</td>\n",
       "      <td>13.0</td>\n",
       "      <td>3.0</td>\n",
       "      <td>1.0</td>\n",
       "      <td>85.0</td>\n",
       "    </tr>\n",
       "    <tr>\n",
       "      <th>22</th>\n",
       "      <td>84.0</td>\n",
       "      <td>161.0</td>\n",
       "      <td>66.0</td>\n",
       "      <td>1.0</td>\n",
       "      <td>7.0</td>\n",
       "      <td>9.0</td>\n",
       "      <td>3.0</td>\n",
       "      <td>73.0</td>\n",
       "    </tr>\n",
       "    <tr>\n",
       "      <th>23</th>\n",
       "      <td>84.0</td>\n",
       "      <td>169.0</td>\n",
       "      <td>72.0</td>\n",
       "      <td>1.0</td>\n",
       "      <td>11.0</td>\n",
       "      <td>8.0</td>\n",
       "      <td>2.0</td>\n",
       "      <td>72.0</td>\n",
       "    </tr>\n",
       "    <tr>\n",
       "      <th>24</th>\n",
       "      <td>84.0</td>\n",
       "      <td>184.0</td>\n",
       "      <td>80.0</td>\n",
       "      <td>1.0</td>\n",
       "      <td>21.0</td>\n",
       "      <td>9.0</td>\n",
       "      <td>2.0</td>\n",
       "      <td>60.0</td>\n",
       "    </tr>\n",
       "    <tr>\n",
       "      <th>25</th>\n",
       "      <td>84.0</td>\n",
       "      <td>195.0</td>\n",
       "      <td>61.0</td>\n",
       "      <td>0.0</td>\n",
       "      <td>5.0</td>\n",
       "      <td>8.0</td>\n",
       "      <td>2.0</td>\n",
       "      <td>75.0</td>\n",
       "    </tr>\n",
       "    <tr>\n",
       "      <th>26</th>\n",
       "      <td>84.0</td>\n",
       "      <td>187.0</td>\n",
       "      <td>75.0</td>\n",
       "      <td>2.0</td>\n",
       "      <td>1.0</td>\n",
       "      <td>9.0</td>\n",
       "      <td>2.0</td>\n",
       "      <td>95.0</td>\n",
       "    </tr>\n",
       "    <tr>\n",
       "      <th>27</th>\n",
       "      <td>84.0</td>\n",
       "      <td>208.0</td>\n",
       "      <td>95.0</td>\n",
       "      <td>1.0</td>\n",
       "      <td>17.0</td>\n",
       "      <td>1.0</td>\n",
       "      <td>2.0</td>\n",
       "      <td>76.0</td>\n",
       "    </tr>\n",
       "    <tr>\n",
       "      <th>28</th>\n",
       "      <td>84.0</td>\n",
       "      <td>184.0</td>\n",
       "      <td>85.0</td>\n",
       "      <td>3.0</td>\n",
       "      <td>21.0</td>\n",
       "      <td>6.0</td>\n",
       "      <td>1.0</td>\n",
       "      <td>85.0</td>\n",
       "    </tr>\n",
       "    <tr>\n",
       "      <th>29</th>\n",
       "      <td>84.0</td>\n",
       "      <td>178.0</td>\n",
       "      <td>77.0</td>\n",
       "      <td>3.0</td>\n",
       "      <td>17.0</td>\n",
       "      <td>9.0</td>\n",
       "      <td>3.0</td>\n",
       "      <td>81.0</td>\n",
       "    </tr>\n",
       "  </tbody>\n",
       "</table>\n",
       "</div>"
      ],
      "text/plain": [
       "    genetic  length   mass  exercise  smoking  alcohol  sugar  lifespan\n",
       "0      84.0   180.0   90.0       2.0      9.0      1.0    2.0      86.0\n",
       "1      84.0   204.0   79.0       3.0      2.0      7.0    3.0     100.0\n",
       "2      84.0   174.0   74.0       3.0     20.0      3.0    2.0      87.0\n",
       "3      84.0   187.0   78.0       2.0      6.0      5.0    3.0      91.0\n",
       "4      84.0   187.0   89.0       2.0     12.0      0.0    2.0      83.0\n",
       "5      84.0   175.0   74.0       2.0      2.0      3.0    3.0      89.0\n",
       "6      84.0   196.0   68.0       2.0     14.0      8.0    1.0      80.0\n",
       "7      84.0   182.0   83.0       1.0      1.0      8.0    3.0      77.0\n",
       "8      84.0   176.0   91.0       1.0     17.0      1.0    2.0      73.0\n",
       "9      84.0   180.0   74.0       1.0      5.0      9.0    2.0      73.0\n",
       "10     84.0   191.0   73.0       1.0     18.0      7.0    4.0      67.0\n",
       "11     84.0   204.0   74.0       2.0     15.0     10.0    2.0      81.0\n",
       "12     84.0   168.0   75.0       2.0     12.0      3.0    3.0      78.0\n",
       "13     84.0   198.0   63.0       3.0     21.0      5.0    2.0      90.0\n",
       "14     84.0   199.0   78.0       1.0     14.0      7.0    3.0      66.0\n",
       "15     84.0   194.0   78.0       1.0      0.0      1.0    2.0      84.0\n",
       "16     84.0   182.0   89.0       3.0      6.0      8.0    1.0      92.0\n",
       "17     84.0   159.0   74.0       2.0      9.0      7.0    3.0      73.0\n",
       "18     84.0   176.0  101.0       1.0     12.0     10.0    2.0      67.0\n",
       "19     84.0   171.0   82.0       1.0     21.0      9.0    4.0      55.0\n",
       "20     84.0   188.0   79.0       2.0     18.0      7.0    3.0      76.0\n",
       "21     84.0   185.0   87.0       2.0     13.0      3.0    1.0      85.0\n",
       "22     84.0   161.0   66.0       1.0      7.0      9.0    3.0      73.0\n",
       "23     84.0   169.0   72.0       1.0     11.0      8.0    2.0      72.0\n",
       "24     84.0   184.0   80.0       1.0     21.0      9.0    2.0      60.0\n",
       "25     84.0   195.0   61.0       0.0      5.0      8.0    2.0      75.0\n",
       "26     84.0   187.0   75.0       2.0      1.0      9.0    2.0      95.0\n",
       "27     84.0   208.0   95.0       1.0     17.0      1.0    2.0      76.0\n",
       "28     84.0   184.0   85.0       3.0     21.0      6.0    1.0      85.0\n",
       "29     84.0   178.0   77.0       3.0     17.0      9.0    3.0      81.0"
      ]
     },
     "execution_count": 7,
     "metadata": {},
     "output_type": "execute_result"
    }
   ],
   "source": [
    "# Wat opvalt is dat het dataframe lijkt te zijn geordend op de variabel 'genetic', \n",
    "# bij het eerst x aantal rijen zien we dit terug:\n",
    "\n",
    "df_final.head(30)"
   ]
  },
  {
   "cell_type": "code",
   "execution_count": 9,
   "id": "3d496cf0",
   "metadata": {
    "tags": []
   },
   "outputs": [],
   "source": [
    "# Om eventuele problemen met training/test subsets van de data te voorkomen, heb ik ervoor gekozen om de rijen\n",
    "# in willekeurige volgorde te zetten:\n",
    "\n",
    "df_final = df_final.sample(frac=1)"
   ]
  },
  {
   "cell_type": "code",
   "execution_count": 10,
   "id": "2af70587",
   "metadata": {
    "tags": []
   },
   "outputs": [
    {
     "name": "stdout",
     "output_type": "stream",
     "text": [
      "      genetic  length  mass  exercise  smoking  alcohol  sugar  lifespan\n",
      "4945     78.0   193.0  61.0       1.0     14.0      6.0    2.0      73.0\n",
      "5690     80.0   183.0  90.0       1.0      5.0      1.0    2.0      78.0\n",
      "7936     80.0   188.0  69.0       1.0      2.0      9.0    2.0      81.0\n",
      "3942     77.0   179.0  75.0       1.0      0.0      6.0    5.0      67.0\n",
      "6637     80.0   177.0  61.0       0.0     10.0      6.0    4.0      63.0\n",
      "\n",
      "      genetic  length  mass  exercise  smoking  alcohol  sugar  lifespan\n",
      "6591     78.0   163.0  66.0       0.0     16.0      4.0    2.0      60.0\n",
      "362      82.0   182.0  83.0       2.0     22.0      5.0    3.0      73.0\n",
      "5391     79.0   195.0  79.0       1.0     12.0      4.0    2.0      74.0\n",
      "5219     78.0   171.0  60.0       3.0      1.0      6.0    4.0      95.0\n",
      "453      82.0   161.0  85.0       1.0     20.0      6.0    2.0      59.0\n"
     ]
    }
   ],
   "source": [
    "# Checken hoe het er nu uitziet:\n",
    "\n",
    "print(df_final.head())\n",
    "print()\n",
    "print(df_final.tail())\n",
    "\n",
    "# De rijen zijn nu inderdaad in willekeurige volgorde gezet."
   ]
  },
  {
   "cell_type": "code",
   "execution_count": 12,
   "id": "5be6f9f0",
   "metadata": {
    "tags": []
   },
   "outputs": [],
   "source": [
    "# We hebben nu een werkbaar dataframe met al onze variabelen in de kolommen, en alle individuele patienten/datapunten\n",
    "# in de rijen. We kunnen deze nu evt. als een nieuwe csv file exporteren, zonder index:\n",
    "\n",
    "df_final.to_csv('data_clean.csv', index=False, sep=';')"
   ]
  },
  {
   "cell_type": "code",
   "execution_count": 13,
   "id": "4c690022",
   "metadata": {
    "tags": []
   },
   "outputs": [
    {
     "name": "stdout",
     "output_type": "stream",
     "text": [
      "genetic     float64\n",
      "length      float64\n",
      "mass        float64\n",
      "exercise    float64\n",
      "smoking     float64\n",
      "alcohol     float64\n",
      "sugar       float64\n",
      "lifespan    float64\n",
      "dtype: object\n",
      "<class 'pandas.core.frame.DataFrame'>\n",
      "Int64Index: 8192 entries, 4945 to 453\n",
      "Data columns (total 8 columns):\n",
      " #   Column    Non-Null Count  Dtype  \n",
      "---  ------    --------------  -----  \n",
      " 0   genetic   8191 non-null   float64\n",
      " 1   length    8190 non-null   float64\n",
      " 2   mass      8191 non-null   float64\n",
      " 3   exercise  8191 non-null   float64\n",
      " 4   smoking   8191 non-null   float64\n",
      " 5   alcohol   8191 non-null   float64\n",
      " 6   sugar     8192 non-null   float64\n",
      " 7   lifespan  8192 non-null   float64\n",
      "dtypes: float64(8)\n",
      "memory usage: 576.0 KB\n",
      "None\n"
     ]
    }
   ],
   "source": [
    "# Als een van de eerste stappen in de IDE kunnen we kijken naar wat voor soort variabelen we hebben,\n",
    "# van welk type deze variabelen zijn (categorisch of numeriek), en ook of er bijvoorbeeld waardes missen. \n",
    "\n",
    "# Eerst kijken we naar de datatypen van elke kolom\n",
    "print(df_final.dtypes)\n",
    "print(df_final.info())"
   ]
  },
  {
   "cell_type": "code",
   "execution_count": 14,
   "id": "0536d6eb",
   "metadata": {
    "tags": []
   },
   "outputs": [
    {
     "name": "stdout",
     "output_type": "stream",
     "text": [
      "genetic      9\n",
      "length      61\n",
      "mass        53\n",
      "exercise     5\n",
      "smoking     23\n",
      "alcohol     11\n",
      "sugar        5\n",
      "lifespan    71\n",
      "dtype: int64\n"
     ]
    }
   ],
   "source": [
    "# We zijn dat we enkel met getallen (floats en ints) te maken hebben. Nu is de vraag: zijn dit allemaal numerieke waardes\n",
    "# op een schaal, of zijn er binnen de variabelen misschien categoriën?\n",
    "\n",
    "print(df_final.nunique())"
   ]
  },
  {
   "cell_type": "code",
   "execution_count": null,
   "id": "b5909236",
   "metadata": {},
   "outputs": [],
   "source": [
    "# De variabelen 'length', 'mass', 'smoking' en 'lifespan' hebben de meeste verschillende waardes. 'Sugar' en 'exercise'\n",
    "# lijken allebei te bestaan uit 5 verschillende waardes, variërend van 1 tot 5. Hier gaan we er even vanuit dat er geen \n",
    "# waardes tussen de hele getallen liggen, maar dit is wel iets om rekening mee te houden natuurlijk. "
   ]
  },
  {
   "cell_type": "code",
   "execution_count": 15,
   "id": "c68fbb31",
   "metadata": {
    "tags": []
   },
   "outputs": [
    {
     "name": "stdout",
     "output_type": "stream",
     "text": [
      "True\n",
      "True\n",
      "True\n",
      "True\n",
      "True\n",
      "True\n",
      "True\n",
      "True\n"
     ]
    }
   ],
   "source": [
    "# Voor de zekerheid bekijken we toch even of alle variabelen enkel hele getallen bevatten:\n",
    "\n",
    "for c in df_final:\n",
    "    print((df_final[c].fillna(-9999) % 1  == 0).all())"
   ]
  },
  {
   "cell_type": "code",
   "execution_count": 16,
   "id": "77a042f7",
   "metadata": {
    "scrolled": true,
    "tags": []
   },
   "outputs": [
    {
     "name": "stdout",
     "output_type": "stream",
     "text": [
      "genetic     float64\n",
      "length      float64\n",
      "mass        float64\n",
      "exercise    float64\n",
      "smoking     float64\n",
      "alcohol     float64\n",
      "sugar       float64\n",
      "lifespan    float64\n",
      "dtype: object\n"
     ]
    }
   ],
   "source": [
    "# Aangezien alle variabelen dus hele getallen zijn kunnen we alles omzetten naar integers, voor de eenvoud:\n",
    "\n",
    "for c in df_final:\n",
    "    c = df_final[c].fillna(0.0).astype(int)\n",
    "    \n",
    "print(df_final.dtypes)"
   ]
  },
  {
   "cell_type": "code",
   "execution_count": 17,
   "id": "8c5f5e19",
   "metadata": {
    "tags": []
   },
   "outputs": [
    {
     "data": {
      "text/html": [
       "<div>\n",
       "<style scoped>\n",
       "    .dataframe tbody tr th:only-of-type {\n",
       "        vertical-align: middle;\n",
       "    }\n",
       "\n",
       "    .dataframe tbody tr th {\n",
       "        vertical-align: top;\n",
       "    }\n",
       "\n",
       "    .dataframe thead th {\n",
       "        text-align: right;\n",
       "    }\n",
       "</style>\n",
       "<table border=\"1\" class=\"dataframe\">\n",
       "  <thead>\n",
       "    <tr style=\"text-align: right;\">\n",
       "      <th></th>\n",
       "      <th>sugar</th>\n",
       "      <th>lifespan</th>\n",
       "    </tr>\n",
       "  </thead>\n",
       "  <tbody>\n",
       "    <tr>\n",
       "      <th>0</th>\n",
       "      <td>1.0</td>\n",
       "      <td>80.507310</td>\n",
       "    </tr>\n",
       "    <tr>\n",
       "      <th>1</th>\n",
       "      <td>2.0</td>\n",
       "      <td>77.254859</td>\n",
       "    </tr>\n",
       "    <tr>\n",
       "      <th>2</th>\n",
       "      <td>3.0</td>\n",
       "      <td>74.499805</td>\n",
       "    </tr>\n",
       "    <tr>\n",
       "      <th>3</th>\n",
       "      <td>4.0</td>\n",
       "      <td>71.190928</td>\n",
       "    </tr>\n",
       "    <tr>\n",
       "      <th>4</th>\n",
       "      <td>5.0</td>\n",
       "      <td>68.251969</td>\n",
       "    </tr>\n",
       "  </tbody>\n",
       "</table>\n",
       "</div>"
      ],
      "text/plain": [
       "   sugar   lifespan\n",
       "0    1.0  80.507310\n",
       "1    2.0  77.254859\n",
       "2    3.0  74.499805\n",
       "3    4.0  71.190928\n",
       "4    5.0  68.251969"
      ]
     },
     "execution_count": 17,
     "metadata": {},
     "output_type": "execute_result"
    }
   ],
   "source": [
    "# Een volgende stap is om eens te kijken naar wat van de variabelen, hoe zit het bijvoorbeeld met de gemiddelde\n",
    "# levensverwachting en suikerinname? \n",
    "\n",
    "df_final[['sugar', 'lifespan']].groupby(['sugar'], as_index=False).mean().sort_values(by='lifespan', ascending=False)"
   ]
  },
  {
   "cell_type": "code",
   "execution_count": 18,
   "id": "a72c57fa",
   "metadata": {
    "tags": []
   },
   "outputs": [
    {
     "data": {
      "text/html": [
       "<div>\n",
       "<style scoped>\n",
       "    .dataframe tbody tr th:only-of-type {\n",
       "        vertical-align: middle;\n",
       "    }\n",
       "\n",
       "    .dataframe tbody tr th {\n",
       "        vertical-align: top;\n",
       "    }\n",
       "\n",
       "    .dataframe thead th {\n",
       "        text-align: right;\n",
       "    }\n",
       "</style>\n",
       "<table border=\"1\" class=\"dataframe\">\n",
       "  <thead>\n",
       "    <tr style=\"text-align: right;\">\n",
       "      <th></th>\n",
       "      <th>exercise</th>\n",
       "      <th>lifespan</th>\n",
       "    </tr>\n",
       "  </thead>\n",
       "  <tbody>\n",
       "    <tr>\n",
       "      <th>0</th>\n",
       "      <td>0.0</td>\n",
       "      <td>63.641604</td>\n",
       "    </tr>\n",
       "    <tr>\n",
       "      <th>1</th>\n",
       "      <td>1.0</td>\n",
       "      <td>70.368166</td>\n",
       "    </tr>\n",
       "    <tr>\n",
       "      <th>2</th>\n",
       "      <td>2.0</td>\n",
       "      <td>79.245161</td>\n",
       "    </tr>\n",
       "    <tr>\n",
       "      <th>3</th>\n",
       "      <td>3.0</td>\n",
       "      <td>89.226933</td>\n",
       "    </tr>\n",
       "    <tr>\n",
       "      <th>4</th>\n",
       "      <td>4.0</td>\n",
       "      <td>95.465116</td>\n",
       "    </tr>\n",
       "  </tbody>\n",
       "</table>\n",
       "</div>"
      ],
      "text/plain": [
       "   exercise   lifespan\n",
       "0       0.0  63.641604\n",
       "1       1.0  70.368166\n",
       "2       2.0  79.245161\n",
       "3       3.0  89.226933\n",
       "4       4.0  95.465116"
      ]
     },
     "execution_count": 18,
     "metadata": {},
     "output_type": "execute_result"
    }
   ],
   "source": [
    "# Hier zien we een duidelijke afname in levensverwachting naarmate 'sugar' een hogere waarde aanneemt. \n",
    "# Hetzelfde kunnen we doen voor 'exercise'\n",
    "\n",
    "df_final[['exercise', 'lifespan']].groupby(['exercise'], as_index=False).mean().sort_values(by='lifespan')"
   ]
  },
  {
   "cell_type": "code",
   "execution_count": null,
   "id": "d484c2f7",
   "metadata": {},
   "outputs": [],
   "source": [
    "# Wat niet zozeer interessant is voor ons toekomstige model, maar wel interessant: hoe is het gesteld met het bewegen\n",
    "# in deze dataset; "
   ]
  },
  {
   "cell_type": "code",
   "execution_count": 19,
   "id": "5e2d396f",
   "metadata": {
    "tags": []
   },
   "outputs": [
    {
     "data": {
      "text/plain": [
       "1.0    3713\n",
       "2.0    2790\n",
       "3.0    1203\n",
       "0.0     399\n",
       "4.0      86\n",
       "Name: exercise, dtype: int64"
      ]
     },
     "execution_count": 19,
     "metadata": {},
     "output_type": "execute_result"
    }
   ],
   "source": [
    "df_final['exercise'].value_counts()"
   ]
  },
  {
   "cell_type": "code",
   "execution_count": 20,
   "id": "41e6cfc4",
   "metadata": {
    "tags": []
   },
   "outputs": [
    {
     "data": {
      "text/plain": [
       "2.1627906976744184"
      ]
     },
     "execution_count": 20,
     "metadata": {},
     "output_type": "execute_result"
    }
   ],
   "source": [
    "df_final.loc[df_final['exercise'] == 4]['sugar'].mean()"
   ]
  },
  {
   "cell_type": "code",
   "execution_count": 26,
   "id": "56e2b1ca",
   "metadata": {
    "tags": []
   },
   "outputs": [
    {
     "name": "stdout",
     "output_type": "stream",
     "text": [
      "           genetic    length      mass  exercise   smoking   alcohol  \\\n",
      "genetic   1.000000 -0.002037 -0.009954  0.004185 -0.010894  0.003882   \n",
      "length   -0.002037  1.000000  0.017897 -0.007231 -0.008882  0.006830   \n",
      "mass     -0.009954  0.017897  1.000000  0.004495  0.015918 -0.001889   \n",
      "exercise  0.004185 -0.007231  0.004495  1.000000 -0.013092  0.005801   \n",
      "smoking  -0.010894 -0.008882  0.015918 -0.013092  1.000000  0.001323   \n",
      "alcohol   0.003882  0.006830 -0.001889  0.005801  0.001323  1.000000   \n",
      "sugar    -0.006777 -0.015501  0.006886 -0.008972 -0.002332  0.013918   \n",
      "lifespan  0.151803  0.179831 -0.201464  0.677454 -0.525276 -0.217047   \n",
      "\n",
      "             sugar  lifespan  \n",
      "genetic  -0.006777  0.151803  \n",
      "length   -0.015501  0.179831  \n",
      "mass      0.006886 -0.201464  \n",
      "exercise -0.008972  0.677454  \n",
      "smoking  -0.002332 -0.525276  \n",
      "alcohol   0.013918 -0.217047  \n",
      "sugar     1.000000 -0.263726  \n",
      "lifespan -0.263726  1.000000  \n"
     ]
    },
    {
     "data": {
      "text/plain": [
       "<AxesSubplot: >"
      ]
     },
     "execution_count": 26,
     "metadata": {},
     "output_type": "execute_result"
    },
    {
     "data": {
      "image/png": "[encoded data removed]",
      "text/plain": [
       "<Figure size 640x480 with 2 Axes>"
      ]
     },
     "metadata": {},
     "output_type": "display_data"
    }
   ],
   "source": [
    "#We kunnen nu kijken naar eventuele onderlinge correlaties:\n",
    "print(df_final.corr())\n",
    "sns.heatmap(df_final.corr())"
   ]
  },
  {
   "cell_type": "code",
   "execution_count": 27,
   "id": "9fb1d00d",
   "metadata": {
    "tags": []
   },
   "outputs": [
    {
     "data": {
      "text/plain": [
       "genetic     0.151803\n",
       "length      0.179831\n",
       "mass       -0.201464\n",
       "exercise    0.677454\n",
       "smoking    -0.525276\n",
       "alcohol    -0.217047\n",
       "sugar      -0.263726\n",
       "lifespan    1.000000\n",
       "Name: lifespan, dtype: float64"
      ]
     },
     "execution_count": 27,
     "metadata": {},
     "output_type": "execute_result"
    }
   ],
   "source": [
    "df_final.corr()['lifespan']"
   ]
  },
  {
   "cell_type": "code",
   "execution_count": 45,
   "id": "ad3dfbda",
   "metadata": {
    "tags": []
   },
   "outputs": [
    {
     "data": {
      "text/plain": [
       "<AxesSubplot: xlabel='exercise'>"
      ]
     },
     "execution_count": 45,
     "metadata": {},
     "output_type": "execute_result"
    },
    {
     "data": {
      "image/png": "[encoded data removed]",
      "text/plain": [
       "<Figure size 640x480 with 1 Axes>"
      ]
     },
     "metadata": {},
     "output_type": "display_data"
    }
   ],
   "source": [
    "sns.boxplot(x=df_final['exercise'])\n",
    "\n",
    "# outliers alleen bij 'sugar' en 'exercise'"
   ]
  },
  {
   "cell_type": "code",
   "execution_count": 57,
   "id": "f35ff488-e058-415c-8960-4381c4384de3",
   "metadata": {
    "tags": []
   },
   "outputs": [
    {
     "data": {
      "text/html": [
       "<div>\n",
       "<style scoped>\n",
       "    .dataframe tbody tr th:only-of-type {\n",
       "        vertical-align: middle;\n",
       "    }\n",
       "\n",
       "    .dataframe tbody tr th {\n",
       "        vertical-align: top;\n",
       "    }\n",
       "\n",
       "    .dataframe thead th {\n",
       "        text-align: right;\n",
       "    }\n",
       "</style>\n",
       "<table border=\"1\" class=\"dataframe\">\n",
       "  <thead>\n",
       "    <tr style=\"text-align: right;\">\n",
       "      <th></th>\n",
       "      <th>genetic</th>\n",
       "      <th>length</th>\n",
       "      <th>mass</th>\n",
       "      <th>exercise</th>\n",
       "      <th>smoking</th>\n",
       "      <th>alcohol</th>\n",
       "      <th>sugar</th>\n",
       "      <th>lifespan</th>\n",
       "    </tr>\n",
       "  </thead>\n",
       "  <tbody>\n",
       "    <tr>\n",
       "      <th>2556</th>\n",
       "      <td>79.0</td>\n",
       "      <td>NaN</td>\n",
       "      <td>75.0</td>\n",
       "      <td>2.0</td>\n",
       "      <td>0.0</td>\n",
       "      <td>6.0</td>\n",
       "      <td>3.0</td>\n",
       "      <td>82.0</td>\n",
       "    </tr>\n",
       "    <tr>\n",
       "      <th>4095</th>\n",
       "      <td>NaN</td>\n",
       "      <td>177.0</td>\n",
       "      <td>70.0</td>\n",
       "      <td>1.0</td>\n",
       "      <td>22.0</td>\n",
       "      <td>7.0</td>\n",
       "      <td>2.0</td>\n",
       "      <td>70.0</td>\n",
       "    </tr>\n",
       "    <tr>\n",
       "      <th>1631</th>\n",
       "      <td>80.0</td>\n",
       "      <td>NaN</td>\n",
       "      <td>90.0</td>\n",
       "      <td>2.0</td>\n",
       "      <td>7.0</td>\n",
       "      <td>7.0</td>\n",
       "      <td>3.0</td>\n",
       "      <td>74.0</td>\n",
       "    </tr>\n",
       "    <tr>\n",
       "      <th>2146</th>\n",
       "      <td>80.0</td>\n",
       "      <td>169.0</td>\n",
       "      <td>73.0</td>\n",
       "      <td>1.0</td>\n",
       "      <td>1.0</td>\n",
       "      <td>NaN</td>\n",
       "      <td>4.0</td>\n",
       "      <td>70.0</td>\n",
       "    </tr>\n",
       "    <tr>\n",
       "      <th>3433</th>\n",
       "      <td>78.0</td>\n",
       "      <td>176.0</td>\n",
       "      <td>NaN</td>\n",
       "      <td>3.0</td>\n",
       "      <td>3.0</td>\n",
       "      <td>3.0</td>\n",
       "      <td>4.0</td>\n",
       "      <td>89.0</td>\n",
       "    </tr>\n",
       "    <tr>\n",
       "      <th>2519</th>\n",
       "      <td>80.0</td>\n",
       "      <td>181.0</td>\n",
       "      <td>89.0</td>\n",
       "      <td>2.0</td>\n",
       "      <td>NaN</td>\n",
       "      <td>9.0</td>\n",
       "      <td>2.0</td>\n",
       "      <td>79.0</td>\n",
       "    </tr>\n",
       "    <tr>\n",
       "      <th>1421</th>\n",
       "      <td>81.0</td>\n",
       "      <td>188.0</td>\n",
       "      <td>91.0</td>\n",
       "      <td>NaN</td>\n",
       "      <td>0.0</td>\n",
       "      <td>10.0</td>\n",
       "      <td>4.0</td>\n",
       "      <td>65.0</td>\n",
       "    </tr>\n",
       "  </tbody>\n",
       "</table>\n",
       "</div>"
      ],
      "text/plain": [
       "      genetic  length  mass  exercise  smoking  alcohol  sugar  lifespan\n",
       "2556     79.0     NaN  75.0       2.0      0.0      6.0    3.0      82.0\n",
       "4095      NaN   177.0  70.0       1.0     22.0      7.0    2.0      70.0\n",
       "1631     80.0     NaN  90.0       2.0      7.0      7.0    3.0      74.0\n",
       "2146     80.0   169.0  73.0       1.0      1.0      NaN    4.0      70.0\n",
       "3433     78.0   176.0   NaN       3.0      3.0      3.0    4.0      89.0\n",
       "2519     80.0   181.0  89.0       2.0      NaN      9.0    2.0      79.0\n",
       "1421     81.0   188.0  91.0       NaN      0.0     10.0    4.0      65.0"
      ]
     },
     "execution_count": 57,
     "metadata": {},
     "output_type": "execute_result"
    }
   ],
   "source": [
    "#Vind alle null-waardes\n",
    "\n",
    "df_null = df_final[df_final.isnull().any(axis=1)]\n",
    "\n",
    "df_null"
   ]
  },
  {
   "cell_type": "code",
   "execution_count": 71,
   "id": "075b7beb-c15a-4da3-bdbf-c29ae3773d66",
   "metadata": {
    "tags": []
   },
   "outputs": [
    {
     "name": "stdout",
     "output_type": "stream",
     "text": [
      "(0, 8)\n"
     ]
    }
   ],
   "source": [
    "#check of er duplicate rows zijn\n",
    "\n",
    "duplicate_rows_df = df_final[df_final.duplicated()]\n",
    "print(duplicate_rows_df.shape)"
   ]
  },
  {
   "cell_type": "code",
   "execution_count": 68,
   "id": "4a7a1c68-96df-4a0a-b45e-99bcaccee8e7",
   "metadata": {
    "tags": []
   },
   "outputs": [
    {
     "data": {
      "text/html": [
       "<div>\n",
       "<style scoped>\n",
       "    .dataframe tbody tr th:only-of-type {\n",
       "        vertical-align: middle;\n",
       "    }\n",
       "\n",
       "    .dataframe tbody tr th {\n",
       "        vertical-align: top;\n",
       "    }\n",
       "\n",
       "    .dataframe thead th {\n",
       "        text-align: right;\n",
       "    }\n",
       "</style>\n",
       "<table border=\"1\" class=\"dataframe\">\n",
       "  <thead>\n",
       "    <tr style=\"text-align: right;\">\n",
       "      <th></th>\n",
       "      <th>genetic</th>\n",
       "      <th>length</th>\n",
       "      <th>mass</th>\n",
       "      <th>exercise</th>\n",
       "      <th>smoking</th>\n",
       "      <th>alcohol</th>\n",
       "      <th>sugar</th>\n",
       "      <th>lifespan</th>\n",
       "    </tr>\n",
       "  </thead>\n",
       "  <tbody>\n",
       "    <tr>\n",
       "      <th>4945</th>\n",
       "      <td>78.0</td>\n",
       "      <td>193.0</td>\n",
       "      <td>61.0</td>\n",
       "      <td>1.0</td>\n",
       "      <td>14.0</td>\n",
       "      <td>6.0</td>\n",
       "      <td>2.0</td>\n",
       "      <td>73.0</td>\n",
       "    </tr>\n",
       "    <tr>\n",
       "      <th>5690</th>\n",
       "      <td>80.0</td>\n",
       "      <td>183.0</td>\n",
       "      <td>90.0</td>\n",
       "      <td>1.0</td>\n",
       "      <td>5.0</td>\n",
       "      <td>1.0</td>\n",
       "      <td>2.0</td>\n",
       "      <td>78.0</td>\n",
       "    </tr>\n",
       "    <tr>\n",
       "      <th>7936</th>\n",
       "      <td>80.0</td>\n",
       "      <td>188.0</td>\n",
       "      <td>69.0</td>\n",
       "      <td>1.0</td>\n",
       "      <td>2.0</td>\n",
       "      <td>9.0</td>\n",
       "      <td>2.0</td>\n",
       "      <td>81.0</td>\n",
       "    </tr>\n",
       "    <tr>\n",
       "      <th>3942</th>\n",
       "      <td>77.0</td>\n",
       "      <td>179.0</td>\n",
       "      <td>75.0</td>\n",
       "      <td>1.0</td>\n",
       "      <td>0.0</td>\n",
       "      <td>6.0</td>\n",
       "      <td>5.0</td>\n",
       "      <td>67.0</td>\n",
       "    </tr>\n",
       "    <tr>\n",
       "      <th>6637</th>\n",
       "      <td>80.0</td>\n",
       "      <td>177.0</td>\n",
       "      <td>61.0</td>\n",
       "      <td>0.0</td>\n",
       "      <td>10.0</td>\n",
       "      <td>6.0</td>\n",
       "      <td>4.0</td>\n",
       "      <td>63.0</td>\n",
       "    </tr>\n",
       "    <tr>\n",
       "      <th>...</th>\n",
       "      <td>...</td>\n",
       "      <td>...</td>\n",
       "      <td>...</td>\n",
       "      <td>...</td>\n",
       "      <td>...</td>\n",
       "      <td>...</td>\n",
       "      <td>...</td>\n",
       "      <td>...</td>\n",
       "    </tr>\n",
       "    <tr>\n",
       "      <th>6591</th>\n",
       "      <td>78.0</td>\n",
       "      <td>163.0</td>\n",
       "      <td>66.0</td>\n",
       "      <td>0.0</td>\n",
       "      <td>16.0</td>\n",
       "      <td>4.0</td>\n",
       "      <td>2.0</td>\n",
       "      <td>60.0</td>\n",
       "    </tr>\n",
       "    <tr>\n",
       "      <th>362</th>\n",
       "      <td>82.0</td>\n",
       "      <td>182.0</td>\n",
       "      <td>83.0</td>\n",
       "      <td>2.0</td>\n",
       "      <td>22.0</td>\n",
       "      <td>5.0</td>\n",
       "      <td>3.0</td>\n",
       "      <td>73.0</td>\n",
       "    </tr>\n",
       "    <tr>\n",
       "      <th>5391</th>\n",
       "      <td>79.0</td>\n",
       "      <td>195.0</td>\n",
       "      <td>79.0</td>\n",
       "      <td>1.0</td>\n",
       "      <td>12.0</td>\n",
       "      <td>4.0</td>\n",
       "      <td>2.0</td>\n",
       "      <td>74.0</td>\n",
       "    </tr>\n",
       "    <tr>\n",
       "      <th>5219</th>\n",
       "      <td>78.0</td>\n",
       "      <td>171.0</td>\n",
       "      <td>60.0</td>\n",
       "      <td>3.0</td>\n",
       "      <td>1.0</td>\n",
       "      <td>6.0</td>\n",
       "      <td>4.0</td>\n",
       "      <td>95.0</td>\n",
       "    </tr>\n",
       "    <tr>\n",
       "      <th>453</th>\n",
       "      <td>82.0</td>\n",
       "      <td>161.0</td>\n",
       "      <td>85.0</td>\n",
       "      <td>1.0</td>\n",
       "      <td>20.0</td>\n",
       "      <td>6.0</td>\n",
       "      <td>2.0</td>\n",
       "      <td>59.0</td>\n",
       "    </tr>\n",
       "  </tbody>\n",
       "</table>\n",
       "<p>8185 rows × 8 columns</p>\n",
       "</div>"
      ],
      "text/plain": [
       "      genetic  length  mass  exercise  smoking  alcohol  sugar  lifespan\n",
       "4945     78.0   193.0  61.0       1.0     14.0      6.0    2.0      73.0\n",
       "5690     80.0   183.0  90.0       1.0      5.0      1.0    2.0      78.0\n",
       "7936     80.0   188.0  69.0       1.0      2.0      9.0    2.0      81.0\n",
       "3942     77.0   179.0  75.0       1.0      0.0      6.0    5.0      67.0\n",
       "6637     80.0   177.0  61.0       0.0     10.0      6.0    4.0      63.0\n",
       "...       ...     ...   ...       ...      ...      ...    ...       ...\n",
       "6591     78.0   163.0  66.0       0.0     16.0      4.0    2.0      60.0\n",
       "362      82.0   182.0  83.0       2.0     22.0      5.0    3.0      73.0\n",
       "5391     79.0   195.0  79.0       1.0     12.0      4.0    2.0      74.0\n",
       "5219     78.0   171.0  60.0       3.0      1.0      6.0    4.0      95.0\n",
       "453      82.0   161.0  85.0       1.0     20.0      6.0    2.0      59.0\n",
       "\n",
       "[8185 rows x 8 columns]"
      ]
     },
     "execution_count": 68,
     "metadata": {},
     "output_type": "execute_result"
    }
   ],
   "source": [
    "#verwijdert alle rijen met null-waardes uit df\n",
    "df1 = df_final.dropna() \n",
    "\n",
    "df1"
   ]
  },
  {
   "cell_type": "code",
   "execution_count": 74,
   "id": "cec746b5-b27c-4c26-9c39-93abca7d2fba",
   "metadata": {
    "tags": []
   },
   "outputs": [
    {
     "name": "stdout",
     "output_type": "stream",
     "text": [
      "           genetic    length      mass  exercise   smoking   alcohol  \\\n",
      "genetic   1.000000 -0.002151 -0.010059  0.004464 -0.011032  0.003612   \n",
      "length   -0.002151  1.000000  0.017750 -0.007252 -0.008966  0.006750   \n",
      "mass     -0.010059  0.017750  1.000000  0.004304  0.016148 -0.002182   \n",
      "exercise  0.004464 -0.007252  0.004304  1.000000 -0.012758  0.005955   \n",
      "smoking  -0.011032 -0.008966  0.016148 -0.012758  1.000000  0.001413   \n",
      "alcohol   0.003612  0.006750 -0.002182  0.005955  0.001413  1.000000   \n",
      "sugar    -0.006626 -0.015262  0.006780 -0.009249 -0.001368  0.013864   \n",
      "lifespan  0.152144  0.179911 -0.201487  0.677365 -0.525613 -0.216818   \n",
      "\n",
      "             sugar  lifespan  \n",
      "genetic  -0.006626  0.152144  \n",
      "length   -0.015262  0.179911  \n",
      "mass      0.006780 -0.201487  \n",
      "exercise -0.009249  0.677365  \n",
      "smoking  -0.001368 -0.525613  \n",
      "alcohol   0.013864 -0.216818  \n",
      "sugar     1.000000 -0.263895  \n",
      "lifespan -0.263895  1.000000  \n"
     ]
    },
    {
     "data": {
      "text/plain": [
       "<AxesSubplot: >"
      ]
     },
     "execution_count": 74,
     "metadata": {},
     "output_type": "execute_result"
    },
    {
     "data": {
      "image/png": "[encoded data removed]",
      "text/plain": [
       "<Figure size 640x480 with 2 Axes>"
      ]
     },
     "metadata": {},
     "output_type": "display_data"
    }
   ],
   "source": [
    "#We kunnen nu kijken naar eventuele onderlinge correlaties:\n",
    "print(df1.corr())\n",
    "sns.heatmap(df1.corr())"
   ]
  },
  {
   "cell_type": "code",
   "execution_count": 84,
   "id": "f41534b3-4d4d-4762-b703-63b513340205",
   "metadata": {
    "tags": []
   },
   "outputs": [
    {
     "data": {
      "text/plain": [
       "<AxesSubplot: xlabel='mass'>"
      ]
     },
     "execution_count": 84,
     "metadata": {},
     "output_type": "execute_result"
    },
    {
     "data": {
      "image/png": "[encoded data removed]",
      "text/plain": [
       "<Figure size 640x480 with 1 Axes>"
      ]
     },
     "metadata": {},
     "output_type": "display_data"
    }
   ],
   "source": [
    "#check opnieuw outliers\n",
    "sns.boxplot(x=df1['mass'])\n",
    "\n",
    "#86 mensen hebben een exercise-score van 4. Dat is 1,05% en verwaarloosbaar. 125 hebben een max sugar-score (1,52%)\n",
    "#Lifespan heeft uitschieters naar boven en beneden."
   ]
  },
  {
   "cell_type": "code",
   "execution_count": null,
   "id": "429ba6de-aca0-44ff-98d9-ed9c83225c13",
   "metadata": {},
   "outputs": [],
   "source": []
  }
 ],
 "metadata": {
  "kernelspec": {
   "display_name": "Python 3 (ipykernel)",
   "language": "python",
   "name": "python3"
  },
  "language_info": {
   "codemirror_mode": {
    "name": "ipython",
    "version": 3
   },
   "file_extension": ".py",
   "mimetype": "text/x-python",
   "name": "python",
   "nbconvert_exporter": "python",
   "pygments_lexer": "ipython3",
   "version": "3.10.10"
  }
 },
 "nbformat": 4,
 "nbformat_minor": 5
}
