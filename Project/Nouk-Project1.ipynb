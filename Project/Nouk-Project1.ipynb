{
 "cells": [
  {
   "cell_type": "code",
   "execution_count": 60,
   "id": "f62aa7bd",
   "metadata": {
    "tags": []
   },
   "outputs": [],
   "source": [
    "import json\n",
    "import pandas as pd\n",
    "import requests\n",
    "import seaborn as sns"
   ]
  },
  {
   "cell_type": "code",
   "execution_count": 61,
   "id": "1edbc053",
   "metadata": {
    "tags": []
   },
   "outputs": [],
   "source": [
    "# We doen een \"aanvraag\" bij de API. Deze url werkt alleen als de rest server gestart is. \n",
    "# response = requests.get('http://localhost:8080/medish_centrum_randstad/api/netlify?page=1')"
   ]
  },
  {
   "cell_type": "code",
   "execution_count": 62,
   "id": "496a624d",
   "metadata": {
    "scrolled": true,
    "tags": []
   },
   "outputs": [],
   "source": [
    "# Checken wat voor data/type we binnen hebben gekregen\n",
    "# response.headers['content-type']"
   ]
  },
  {
   "cell_type": "code",
   "execution_count": 152,
   "id": "afaa0dd7-9f86-439e-a864-e204a4dd54bd",
   "metadata": {
    "tags": []
   },
   "outputs": [],
   "source": [
    "#Nieuwe data opgeslagen\n",
    "\n",
    "df = pd.read_csv('data.csv')"
   ]
  },
  {
   "cell_type": "code",
   "execution_count": 153,
   "id": "f7f16471",
   "metadata": {
    "tags": []
   },
   "outputs": [
    {
     "data": {
      "text/html": [
       "<div>\n",
       "<style scoped>\n",
       "    .dataframe tbody tr th:only-of-type {\n",
       "        vertical-align: middle;\n",
       "    }\n",
       "\n",
       "    .dataframe tbody tr th {\n",
       "        vertical-align: top;\n",
       "    }\n",
       "\n",
       "    .dataframe thead th {\n",
       "        text-align: right;\n",
       "    }\n",
       "</style>\n",
       "<table border=\"1\" class=\"dataframe\">\n",
       "  <thead>\n",
       "    <tr style=\"text-align: right;\">\n",
       "      <th></th>\n",
       "      <th>genetic</th>\n",
       "      <th>length</th>\n",
       "      <th>mass</th>\n",
       "      <th>exercise</th>\n",
       "      <th>smoking</th>\n",
       "      <th>alcohol</th>\n",
       "      <th>sugar</th>\n",
       "      <th>lifespan</th>\n",
       "    </tr>\n",
       "  </thead>\n",
       "  <tbody>\n",
       "    <tr>\n",
       "      <th>0</th>\n",
       "      <td>73.9</td>\n",
       "      <td>185</td>\n",
       "      <td>99.7</td>\n",
       "      <td>0.9</td>\n",
       "      <td>0.0</td>\n",
       "      <td>2.4</td>\n",
       "      <td>6.9</td>\n",
       "      <td>73.1</td>\n",
       "    </tr>\n",
       "    <tr>\n",
       "      <th>1</th>\n",
       "      <td>86.0</td>\n",
       "      <td>172</td>\n",
       "      <td>105.4</td>\n",
       "      <td>1.8</td>\n",
       "      <td>8.1</td>\n",
       "      <td>0.4</td>\n",
       "      <td>4.2</td>\n",
       "      <td>85.0</td>\n",
       "    </tr>\n",
       "    <tr>\n",
       "      <th>2</th>\n",
       "      <td>83.3</td>\n",
       "      <td>176</td>\n",
       "      <td>111.4</td>\n",
       "      <td>1.1</td>\n",
       "      <td>0.8</td>\n",
       "      <td>4.6</td>\n",
       "      <td>7.5</td>\n",
       "      <td>81.6</td>\n",
       "    </tr>\n",
       "    <tr>\n",
       "      <th>3</th>\n",
       "      <td>82.8</td>\n",
       "      <td>164</td>\n",
       "      <td>111.4</td>\n",
       "      <td>4.7</td>\n",
       "      <td>11.8</td>\n",
       "      <td>1.0</td>\n",
       "      <td>2.9</td>\n",
       "      <td>81.0</td>\n",
       "    </tr>\n",
       "    <tr>\n",
       "      <th>4</th>\n",
       "      <td>78.7</td>\n",
       "      <td>178</td>\n",
       "      <td>71.6</td>\n",
       "      <td>1.5</td>\n",
       "      <td>8.3</td>\n",
       "      <td>4.9</td>\n",
       "      <td>5.5</td>\n",
       "      <td>75.0</td>\n",
       "    </tr>\n",
       "  </tbody>\n",
       "</table>\n",
       "</div>"
      ],
      "text/plain": [
       "  genetic length   mass exercise  smoking alcohol sugar  lifespan\n",
       "0    73.9    185   99.7      0.9      0.0     2.4   6.9      73.1\n",
       "1    86.0    172  105.4      1.8      8.1     0.4   4.2      85.0\n",
       "2    83.3    176  111.4      1.1      0.8     4.6   7.5      81.6\n",
       "3    82.8    164  111.4      4.7     11.8     1.0   2.9      81.0\n",
       "4    78.7    178   71.6      1.5      8.3     4.9   5.5      75.0"
      ]
     },
     "execution_count": 153,
     "metadata": {},
     "output_type": "execute_result"
    }
   ],
   "source": [
    "df.head()"
   ]
  },
  {
   "cell_type": "code",
   "execution_count": 136,
   "id": "3d496cf0",
   "metadata": {
    "tags": []
   },
   "outputs": [],
   "source": [
    "# Om eventuele problemen met training/test subsets van de data te voorkomen, heb ik ervoor gekozen om de rijen\n",
    "# in willekeurige volgorde te zetten:\n",
    "\n",
    "# df_final = df_final.sample(frac=1)"
   ]
  },
  {
   "cell_type": "code",
   "execution_count": 103,
   "id": "5be6f9f0",
   "metadata": {
    "tags": []
   },
   "outputs": [],
   "source": [
    "# We hebben nu een werkbaar dataframe met al onze variabelen in de kolommen, en alle individuele patienten/datapunten\n",
    "# in de rijen. We kunnen deze nu evt. als een nieuwe csv file exporteren, zonder index:\n",
    "\n",
    "# df_final.to_csv('data_clean.csv', index=False, sep=';')"
   ]
  },
  {
   "cell_type": "code",
   "execution_count": 154,
   "id": "4c690022",
   "metadata": {
    "tags": []
   },
   "outputs": [
    {
     "name": "stdout",
     "output_type": "stream",
     "text": [
      "genetic      object\n",
      "length       object\n",
      "mass         object\n",
      "exercise     object\n",
      "smoking     float64\n",
      "alcohol      object\n",
      "sugar        object\n",
      "lifespan    float64\n",
      "dtype: object\n",
      "<class 'pandas.core.frame.DataFrame'>\n",
      "RangeIndex: 4096 entries, 0 to 4095\n",
      "Data columns (total 8 columns):\n",
      " #   Column    Non-Null Count  Dtype  \n",
      "---  ------    --------------  -----  \n",
      " 0   genetic   4096 non-null   object \n",
      " 1   length    4096 non-null   object \n",
      " 2   mass      4096 non-null   object \n",
      " 3   exercise  4096 non-null   object \n",
      " 4   smoking   4096 non-null   float64\n",
      " 5   alcohol   4096 non-null   object \n",
      " 6   sugar     4096 non-null   object \n",
      " 7   lifespan  4096 non-null   float64\n",
      "dtypes: float64(2), object(6)\n",
      "memory usage: 256.1+ KB\n",
      "None\n",
      "     genetic length   mass exercise  smoking alcohol sugar  lifespan\n",
      "0       73.9    185   99.7      0.9      0.0     2.4   6.9      73.1\n",
      "1       86.0    172  105.4      1.8      8.1     0.4   4.2      85.0\n",
      "2       83.3    176  111.4      1.1      0.8     4.6   7.5      81.6\n",
      "3       82.8    164  111.4      4.7     11.8     1.0   2.9      81.0\n",
      "4       78.7    178   71.6      1.5      8.3     4.9   5.5      75.0\n",
      "...      ...    ...    ...      ...      ...     ...   ...       ...\n",
      "4091    80.3    176  115.9      3.7      0.1     5.6   5.8      80.7\n",
      "4092    75.3    162  129.6      3.6      6.2     5.6   7.6      71.1\n",
      "4093    93.1    189  115.3      2.7      9.4     4.9   6.6      90.0\n",
      "4094    77.9    170   90.8      2.3     13.2     0.8   6.2      75.9\n",
      "4095   101.3    188  129.2      1.2      8.2     6.0   6.2      96.9\n",
      "\n",
      "[4096 rows x 8 columns]\n"
     ]
    }
   ],
   "source": [
    "# Als een van de eerste stappen in de IDE kunnen we kijken naar wat voor soort variabelen we hebben,\n",
    "# van welk type deze variabelen zijn (categorisch of numeriek), en ook of er bijvoorbeeld waardes missen. \n",
    "\n",
    "# Eerst kijken we naar de datatypen van elke kolom\n",
    "print(df.dtypes)\n",
    "print(df.info())\n",
    "print(df)"
   ]
  },
  {
   "cell_type": "code",
   "execution_count": 164,
   "id": "0536d6eb",
   "metadata": {
    "tags": []
   },
   "outputs": [
    {
     "name": "stdout",
     "output_type": "stream",
     "text": [
      "genetic     0\n",
      "length      0\n",
      "mass        0\n",
      "exercise    0\n",
      "smoking     0\n",
      "alcohol     0\n",
      "sugar       0\n",
      "lifespan    0\n",
      "dtype: int64\n"
     ]
    }
   ],
   "source": [
    "# Alleen de smoking en lifespan zijn floats, de rest zijn 'objects'\n",
    "# Die moeten worden verander in floats, maar dat gaat niet vanwege bepaalde non-numerieke waardes\n",
    "# Vind en verwijder die waardes.\n",
    "\n",
    "#dmv een csv-editor in VSC is er te zien dat sommige waardes een ? zijn. \n",
    "\n",
    "for c in df.columns: \n",
    "    df.drop(df.index[df[c] == '?'], inplace = True)\n",
    "    \n",
    "print(df.isin(['?']).sum(axis=0))"
   ]
  },
  {
   "cell_type": "code",
   "execution_count": 168,
   "id": "7da4a0f9-dab9-4063-a3f1-5458de0bb7f5",
   "metadata": {
    "tags": []
   },
   "outputs": [
    {
     "data": {
      "text/html": [
       "<div>\n",
       "<style scoped>\n",
       "    .dataframe tbody tr th:only-of-type {\n",
       "        vertical-align: middle;\n",
       "    }\n",
       "\n",
       "    .dataframe tbody tr th {\n",
       "        vertical-align: top;\n",
       "    }\n",
       "\n",
       "    .dataframe thead th {\n",
       "        text-align: right;\n",
       "    }\n",
       "</style>\n",
       "<table border=\"1\" class=\"dataframe\">\n",
       "  <thead>\n",
       "    <tr style=\"text-align: right;\">\n",
       "      <th></th>\n",
       "      <th>genetic</th>\n",
       "      <th>length</th>\n",
       "      <th>mass</th>\n",
       "      <th>exercise</th>\n",
       "      <th>smoking</th>\n",
       "      <th>alcohol</th>\n",
       "      <th>sugar</th>\n",
       "      <th>lifespan</th>\n",
       "    </tr>\n",
       "  </thead>\n",
       "  <tbody>\n",
       "  </tbody>\n",
       "</table>\n",
       "</div>"
      ],
      "text/plain": [
       "Empty DataFrame\n",
       "Columns: [genetic, length, mass, exercise, smoking, alcohol, sugar, lifespan]\n",
       "Index: []"
      ]
     },
     "execution_count": 168,
     "metadata": {},
     "output_type": "execute_result"
    }
   ],
   "source": [
    "#vind alle null-waardes\n",
    "df_null = df[df.isnull().any(axis=1)]\n",
    "\n",
    "df_null\n"
   ]
  },
  {
   "cell_type": "code",
   "execution_count": 196,
   "id": "7de9132f-d297-42aa-b86c-52e90517e123",
   "metadata": {
    "tags": []
   },
   "outputs": [
    {
     "name": "stdout",
     "output_type": "stream",
     "text": [
      "genetic     float64\n",
      "length       object\n",
      "mass        float64\n",
      "exercise    float64\n",
      "smoking     float64\n",
      "alcohol     float64\n",
      "sugar       float64\n",
      "lifespan    float64\n",
      "dtype: object\n"
     ]
    }
   ],
   "source": [
    "# Er zijn geen null-waardes meer.\n",
    "\n",
    "#verander nu de objects in floats\n",
    "\n",
    "df['genetic'] = df.genetic.astype(float)\n",
    "#df['length'] = df.length.astype(float)\n",
    "df['mass'] = df.mass.astype(float)\n",
    "df['exercise'] = df.exercise.astype(float)\n",
    "df['alcohol'] = df.alcohol.astype(float)\n",
    "df['sugar'] = df.sugar.astype(float)\n",
    "print(df.dtypes)\n",
    "\n",
    "#Bij het aanpassen van 'length' verschijnt er een foutmelding. Er zitten nog 'undefined items' in de data.  \n"
   ]
  },
  {
   "cell_type": "code",
   "execution_count": 253,
   "id": "aad14dcc-f3da-4d15-97b9-8559263acb6d",
   "metadata": {
    "tags": []
   },
   "outputs": [
    {
     "data": {
      "text/plain": [
       "genetic          81.5\n",
       "length      undefined\n",
       "mass            100.2\n",
       "exercise          2.5\n",
       "smoking           8.9\n",
       "alcohol           1.3\n",
       "sugar             7.9\n",
       "lifespan         81.2\n",
       "Name: 1038, dtype: object"
      ]
     },
     "execution_count": 253,
     "metadata": {},
     "output_type": "execute_result"
    }
   ],
   "source": [
    "#df[\"length\"] = pd.to_numeric(df[\"length\"])\n",
    "# ValueError: Unable to parse string \"undefined\" at position 1036\n",
    "\n",
    "df.iloc[1036]"
   ]
  },
  {
   "cell_type": "code",
   "execution_count": 282,
   "id": "b3425ce5-a941-47a8-b579-97215bfa7573",
   "metadata": {},
   "outputs": [],
   "source": [
    "# Op plek 1036 is de waarde van kolom 'length' het woord 'undefined'.\n",
    "# vind en verwijder de rijen waarin dit voorkomt. \n",
    "\n",
    "for c in df.columns: \n",
    "    df.drop(df.index[df[c] == 'undefined'], inplace = True)\n"
   ]
  },
  {
   "cell_type": "code",
   "execution_count": 283,
   "id": "e85c1322-ed67-4b8d-b7d3-b7106e6c4579",
   "metadata": {
    "tags": []
   },
   "outputs": [
    {
     "name": "stdout",
     "output_type": "stream",
     "text": [
      "genetic     float64\n",
      "length      float64\n",
      "mass        float64\n",
      "exercise    float64\n",
      "smoking     float64\n",
      "alcohol     float64\n",
      "sugar       float64\n",
      "lifespan    float64\n",
      "dtype: object\n"
     ]
    }
   ],
   "source": [
    "# pas het type van 'length' nu ook aan naar float. \n",
    "\n",
    "df['length'] = df.length.astype(float)\n",
    "print(df.dtypes)"
   ]
  },
  {
   "cell_type": "code",
   "execution_count": 284,
   "id": "f81b02e3-92dd-45a9-8bd8-ab74ee9dce5f",
   "metadata": {},
   "outputs": [
    {
     "data": {
      "text/html": [
       "<div>\n",
       "<style scoped>\n",
       "    .dataframe tbody tr th:only-of-type {\n",
       "        vertical-align: middle;\n",
       "    }\n",
       "\n",
       "    .dataframe tbody tr th {\n",
       "        vertical-align: top;\n",
       "    }\n",
       "\n",
       "    .dataframe thead th {\n",
       "        text-align: right;\n",
       "    }\n",
       "</style>\n",
       "<table border=\"1\" class=\"dataframe\">\n",
       "  <thead>\n",
       "    <tr style=\"text-align: right;\">\n",
       "      <th></th>\n",
       "      <th>genetic</th>\n",
       "      <th>length</th>\n",
       "      <th>mass</th>\n",
       "      <th>exercise</th>\n",
       "      <th>smoking</th>\n",
       "      <th>alcohol</th>\n",
       "      <th>sugar</th>\n",
       "      <th>lifespan</th>\n",
       "    </tr>\n",
       "  </thead>\n",
       "  <tbody>\n",
       "  </tbody>\n",
       "</table>\n",
       "</div>"
      ],
      "text/plain": [
       "Empty DataFrame\n",
       "Columns: [genetic, length, mass, exercise, smoking, alcohol, sugar, lifespan]\n",
       "Index: []"
      ]
     },
     "execution_count": 284,
     "metadata": {},
     "output_type": "execute_result"
    }
   ],
   "source": [
    "#Er zijn geen null-waardes (meer). Wel zijn er negatieve waardes in 'lifespan'. \n",
    "#Die moeten worden verwijderd. \n",
    "\n",
    "df.drop(df.loc[df['lifespan'] <0 ].index, inplace = True)      \n",
    "\n",
    "df.loc[df['lifespan'] <0 ]"
   ]
  },
  {
   "cell_type": "code",
   "execution_count": 263,
   "id": "545eab13-198c-4ad4-99fe-7042b038cea9",
   "metadata": {
    "tags": []
   },
   "outputs": [],
   "source": [
    "#sla de opgeschoonde dataset op \n",
    "df.to_csv(\"Data_clean.csv\")"
   ]
  },
  {
   "cell_type": "code",
   "execution_count": 285,
   "id": "c0a233ff-ef36-4df3-ae2e-e18910fa930b",
   "metadata": {
    "tags": []
   },
   "outputs": [
    {
     "name": "stdout",
     "output_type": "stream",
     "text": [
      "genetic     381\n",
      "length       61\n",
      "mass        986\n",
      "exercise     55\n",
      "smoking     223\n",
      "alcohol      61\n",
      "sugar       132\n",
      "lifespan    411\n",
      "dtype: int64\n"
     ]
    }
   ],
   "source": [
    "print(df.nunique())"
   ]
  },
  {
   "cell_type": "code",
   "execution_count": 234,
   "id": "8c5f5e19",
   "metadata": {
    "tags": []
   },
   "outputs": [
    {
     "data": {
      "text/html": [
       "<div>\n",
       "<style scoped>\n",
       "    .dataframe tbody tr th:only-of-type {\n",
       "        vertical-align: middle;\n",
       "    }\n",
       "\n",
       "    .dataframe tbody tr th {\n",
       "        vertical-align: top;\n",
       "    }\n",
       "\n",
       "    .dataframe thead th {\n",
       "        text-align: right;\n",
       "    }\n",
       "</style>\n",
       "<table border=\"1\" class=\"dataframe\">\n",
       "  <thead>\n",
       "    <tr style=\"text-align: right;\">\n",
       "      <th></th>\n",
       "      <th>sugar</th>\n",
       "      <th>lifespan</th>\n",
       "    </tr>\n",
       "  </thead>\n",
       "  <tbody>\n",
       "    <tr>\n",
       "      <th>131</th>\n",
       "      <td>13.8</td>\n",
       "      <td>77.985714</td>\n",
       "    </tr>\n",
       "    <tr>\n",
       "      <th>130</th>\n",
       "      <td>13.7</td>\n",
       "      <td>74.950000</td>\n",
       "    </tr>\n",
       "    <tr>\n",
       "      <th>129</th>\n",
       "      <td>13.6</td>\n",
       "      <td>77.575000</td>\n",
       "    </tr>\n",
       "    <tr>\n",
       "      <th>128</th>\n",
       "      <td>13.5</td>\n",
       "      <td>79.533333</td>\n",
       "    </tr>\n",
       "    <tr>\n",
       "      <th>127</th>\n",
       "      <td>13.4</td>\n",
       "      <td>82.733333</td>\n",
       "    </tr>\n",
       "    <tr>\n",
       "      <th>...</th>\n",
       "      <td>...</td>\n",
       "      <td>...</td>\n",
       "    </tr>\n",
       "    <tr>\n",
       "      <th>4</th>\n",
       "      <td>1.1</td>\n",
       "      <td>79.157143</td>\n",
       "    </tr>\n",
       "    <tr>\n",
       "      <th>3</th>\n",
       "      <td>1.0</td>\n",
       "      <td>80.920000</td>\n",
       "    </tr>\n",
       "    <tr>\n",
       "      <th>2</th>\n",
       "      <td>0.9</td>\n",
       "      <td>85.357143</td>\n",
       "    </tr>\n",
       "    <tr>\n",
       "      <th>1</th>\n",
       "      <td>0.8</td>\n",
       "      <td>80.030000</td>\n",
       "    </tr>\n",
       "    <tr>\n",
       "      <th>0</th>\n",
       "      <td>0.7</td>\n",
       "      <td>81.175000</td>\n",
       "    </tr>\n",
       "  </tbody>\n",
       "</table>\n",
       "<p>132 rows × 2 columns</p>\n",
       "</div>"
      ],
      "text/plain": [
       "     sugar   lifespan\n",
       "131   13.8  77.985714\n",
       "130   13.7  74.950000\n",
       "129   13.6  77.575000\n",
       "128   13.5  79.533333\n",
       "127   13.4  82.733333\n",
       "..     ...        ...\n",
       "4      1.1  79.157143\n",
       "3      1.0  80.920000\n",
       "2      0.9  85.357143\n",
       "1      0.8  80.030000\n",
       "0      0.7  81.175000\n",
       "\n",
       "[132 rows x 2 columns]"
      ]
     },
     "execution_count": 234,
     "metadata": {},
     "output_type": "execute_result"
    }
   ],
   "source": [
    "# Een volgende stap is om eens te kijken naar wat van de variabelen, hoe zit het bijvoorbeeld met de gemiddelde\n",
    "# levensverwachting en suikerinname? \n",
    "\n",
    "df[['sugar', 'lifespan']].groupby(['sugar'], as_index=False).mean().sort_values(by='sugar', ascending=False)"
   ]
  },
  {
   "cell_type": "code",
   "execution_count": 238,
   "id": "a72c57fa",
   "metadata": {
    "tags": []
   },
   "outputs": [
    {
     "data": {
      "text/html": [
       "<div>\n",
       "<style scoped>\n",
       "    .dataframe tbody tr th:only-of-type {\n",
       "        vertical-align: middle;\n",
       "    }\n",
       "\n",
       "    .dataframe tbody tr th {\n",
       "        vertical-align: top;\n",
       "    }\n",
       "\n",
       "    .dataframe thead th {\n",
       "        text-align: right;\n",
       "    }\n",
       "</style>\n",
       "<table border=\"1\" class=\"dataframe\">\n",
       "  <thead>\n",
       "    <tr style=\"text-align: right;\">\n",
       "      <th></th>\n",
       "      <th>exercise</th>\n",
       "      <th>lifespan</th>\n",
       "    </tr>\n",
       "  </thead>\n",
       "  <tbody>\n",
       "    <tr>\n",
       "      <th>46</th>\n",
       "      <td>4.7</td>\n",
       "      <td>84.000000</td>\n",
       "    </tr>\n",
       "    <tr>\n",
       "      <th>51</th>\n",
       "      <td>5.2</td>\n",
       "      <td>83.114286</td>\n",
       "    </tr>\n",
       "    <tr>\n",
       "      <th>42</th>\n",
       "      <td>4.3</td>\n",
       "      <td>83.072549</td>\n",
       "    </tr>\n",
       "    <tr>\n",
       "      <th>40</th>\n",
       "      <td>4.1</td>\n",
       "      <td>82.678049</td>\n",
       "    </tr>\n",
       "    <tr>\n",
       "      <th>54</th>\n",
       "      <td>5.5</td>\n",
       "      <td>82.600000</td>\n",
       "    </tr>\n",
       "    <tr>\n",
       "      <th>50</th>\n",
       "      <td>5.1</td>\n",
       "      <td>82.525000</td>\n",
       "    </tr>\n",
       "    <tr>\n",
       "      <th>49</th>\n",
       "      <td>5.0</td>\n",
       "      <td>82.441176</td>\n",
       "    </tr>\n",
       "    <tr>\n",
       "      <th>44</th>\n",
       "      <td>4.5</td>\n",
       "      <td>82.374510</td>\n",
       "    </tr>\n",
       "    <tr>\n",
       "      <th>47</th>\n",
       "      <td>4.8</td>\n",
       "      <td>82.160000</td>\n",
       "    </tr>\n",
       "    <tr>\n",
       "      <th>2</th>\n",
       "      <td>0.3</td>\n",
       "      <td>82.088235</td>\n",
       "    </tr>\n",
       "    <tr>\n",
       "      <th>41</th>\n",
       "      <td>4.2</td>\n",
       "      <td>81.834211</td>\n",
       "    </tr>\n",
       "    <tr>\n",
       "      <th>53</th>\n",
       "      <td>5.4</td>\n",
       "      <td>81.700000</td>\n",
       "    </tr>\n",
       "    <tr>\n",
       "      <th>45</th>\n",
       "      <td>4.6</td>\n",
       "      <td>81.455556</td>\n",
       "    </tr>\n",
       "    <tr>\n",
       "      <th>43</th>\n",
       "      <td>4.4</td>\n",
       "      <td>81.394872</td>\n",
       "    </tr>\n",
       "    <tr>\n",
       "      <th>37</th>\n",
       "      <td>3.8</td>\n",
       "      <td>81.237288</td>\n",
       "    </tr>\n",
       "    <tr>\n",
       "      <th>29</th>\n",
       "      <td>3.0</td>\n",
       "      <td>81.129032</td>\n",
       "    </tr>\n",
       "    <tr>\n",
       "      <th>34</th>\n",
       "      <td>3.5</td>\n",
       "      <td>81.078082</td>\n",
       "    </tr>\n",
       "    <tr>\n",
       "      <th>32</th>\n",
       "      <td>3.3</td>\n",
       "      <td>81.051852</td>\n",
       "    </tr>\n",
       "    <tr>\n",
       "      <th>48</th>\n",
       "      <td>4.9</td>\n",
       "      <td>80.884615</td>\n",
       "    </tr>\n",
       "    <tr>\n",
       "      <th>12</th>\n",
       "      <td>1.3</td>\n",
       "      <td>80.826891</td>\n",
       "    </tr>\n",
       "    <tr>\n",
       "      <th>7</th>\n",
       "      <td>0.8</td>\n",
       "      <td>80.787719</td>\n",
       "    </tr>\n",
       "    <tr>\n",
       "      <th>35</th>\n",
       "      <td>3.6</td>\n",
       "      <td>80.759211</td>\n",
       "    </tr>\n",
       "    <tr>\n",
       "      <th>39</th>\n",
       "      <td>4.0</td>\n",
       "      <td>80.726786</td>\n",
       "    </tr>\n",
       "    <tr>\n",
       "      <th>17</th>\n",
       "      <td>1.8</td>\n",
       "      <td>80.698148</td>\n",
       "    </tr>\n",
       "    <tr>\n",
       "      <th>38</th>\n",
       "      <td>3.9</td>\n",
       "      <td>80.553030</td>\n",
       "    </tr>\n",
       "    <tr>\n",
       "      <th>33</th>\n",
       "      <td>3.4</td>\n",
       "      <td>80.428395</td>\n",
       "    </tr>\n",
       "    <tr>\n",
       "      <th>24</th>\n",
       "      <td>2.5</td>\n",
       "      <td>80.331624</td>\n",
       "    </tr>\n",
       "    <tr>\n",
       "      <th>22</th>\n",
       "      <td>2.3</td>\n",
       "      <td>80.297794</td>\n",
       "    </tr>\n",
       "    <tr>\n",
       "      <th>26</th>\n",
       "      <td>2.7</td>\n",
       "      <td>80.278947</td>\n",
       "    </tr>\n",
       "    <tr>\n",
       "      <th>36</th>\n",
       "      <td>3.7</td>\n",
       "      <td>80.249180</td>\n",
       "    </tr>\n",
       "    <tr>\n",
       "      <th>13</th>\n",
       "      <td>1.4</td>\n",
       "      <td>80.194904</td>\n",
       "    </tr>\n",
       "    <tr>\n",
       "      <th>25</th>\n",
       "      <td>2.6</td>\n",
       "      <td>80.172477</td>\n",
       "    </tr>\n",
       "    <tr>\n",
       "      <th>20</th>\n",
       "      <td>2.1</td>\n",
       "      <td>80.041026</td>\n",
       "    </tr>\n",
       "    <tr>\n",
       "      <th>27</th>\n",
       "      <td>2.8</td>\n",
       "      <td>80.030000</td>\n",
       "    </tr>\n",
       "    <tr>\n",
       "      <th>14</th>\n",
       "      <td>1.5</td>\n",
       "      <td>79.861184</td>\n",
       "    </tr>\n",
       "    <tr>\n",
       "      <th>16</th>\n",
       "      <td>1.7</td>\n",
       "      <td>79.805233</td>\n",
       "    </tr>\n",
       "    <tr>\n",
       "      <th>28</th>\n",
       "      <td>2.9</td>\n",
       "      <td>79.669608</td>\n",
       "    </tr>\n",
       "    <tr>\n",
       "      <th>23</th>\n",
       "      <td>2.4</td>\n",
       "      <td>79.656154</td>\n",
       "    </tr>\n",
       "    <tr>\n",
       "      <th>11</th>\n",
       "      <td>1.2</td>\n",
       "      <td>79.652830</td>\n",
       "    </tr>\n",
       "    <tr>\n",
       "      <th>18</th>\n",
       "      <td>1.9</td>\n",
       "      <td>79.597887</td>\n",
       "    </tr>\n",
       "    <tr>\n",
       "      <th>30</th>\n",
       "      <td>3.1</td>\n",
       "      <td>79.486207</td>\n",
       "    </tr>\n",
       "    <tr>\n",
       "      <th>6</th>\n",
       "      <td>0.7</td>\n",
       "      <td>79.438000</td>\n",
       "    </tr>\n",
       "    <tr>\n",
       "      <th>9</th>\n",
       "      <td>1.0</td>\n",
       "      <td>79.437805</td>\n",
       "    </tr>\n",
       "    <tr>\n",
       "      <th>15</th>\n",
       "      <td>1.6</td>\n",
       "      <td>79.431073</td>\n",
       "    </tr>\n",
       "    <tr>\n",
       "      <th>31</th>\n",
       "      <td>3.2</td>\n",
       "      <td>79.149254</td>\n",
       "    </tr>\n",
       "    <tr>\n",
       "      <th>5</th>\n",
       "      <td>0.6</td>\n",
       "      <td>79.125581</td>\n",
       "    </tr>\n",
       "    <tr>\n",
       "      <th>1</th>\n",
       "      <td>0.2</td>\n",
       "      <td>79.116000</td>\n",
       "    </tr>\n",
       "    <tr>\n",
       "      <th>52</th>\n",
       "      <td>5.3</td>\n",
       "      <td>79.081481</td>\n",
       "    </tr>\n",
       "    <tr>\n",
       "      <th>8</th>\n",
       "      <td>0.9</td>\n",
       "      <td>79.061702</td>\n",
       "    </tr>\n",
       "    <tr>\n",
       "      <th>21</th>\n",
       "      <td>2.2</td>\n",
       "      <td>78.837273</td>\n",
       "    </tr>\n",
       "    <tr>\n",
       "      <th>3</th>\n",
       "      <td>0.4</td>\n",
       "      <td>78.775676</td>\n",
       "    </tr>\n",
       "    <tr>\n",
       "      <th>10</th>\n",
       "      <td>1.1</td>\n",
       "      <td>78.652874</td>\n",
       "    </tr>\n",
       "    <tr>\n",
       "      <th>4</th>\n",
       "      <td>0.5</td>\n",
       "      <td>78.597778</td>\n",
       "    </tr>\n",
       "    <tr>\n",
       "      <th>19</th>\n",
       "      <td>2.0</td>\n",
       "      <td>78.547368</td>\n",
       "    </tr>\n",
       "    <tr>\n",
       "      <th>0</th>\n",
       "      <td>0.1</td>\n",
       "      <td>78.468421</td>\n",
       "    </tr>\n",
       "  </tbody>\n",
       "</table>\n",
       "</div>"
      ],
      "text/plain": [
       "    exercise   lifespan\n",
       "46       4.7  84.000000\n",
       "51       5.2  83.114286\n",
       "42       4.3  83.072549\n",
       "40       4.1  82.678049\n",
       "54       5.5  82.600000\n",
       "50       5.1  82.525000\n",
       "49       5.0  82.441176\n",
       "44       4.5  82.374510\n",
       "47       4.8  82.160000\n",
       "2        0.3  82.088235\n",
       "41       4.2  81.834211\n",
       "53       5.4  81.700000\n",
       "45       4.6  81.455556\n",
       "43       4.4  81.394872\n",
       "37       3.8  81.237288\n",
       "29       3.0  81.129032\n",
       "34       3.5  81.078082\n",
       "32       3.3  81.051852\n",
       "48       4.9  80.884615\n",
       "12       1.3  80.826891\n",
       "7        0.8  80.787719\n",
       "35       3.6  80.759211\n",
       "39       4.0  80.726786\n",
       "17       1.8  80.698148\n",
       "38       3.9  80.553030\n",
       "33       3.4  80.428395\n",
       "24       2.5  80.331624\n",
       "22       2.3  80.297794\n",
       "26       2.7  80.278947\n",
       "36       3.7  80.249180\n",
       "13       1.4  80.194904\n",
       "25       2.6  80.172477\n",
       "20       2.1  80.041026\n",
       "27       2.8  80.030000\n",
       "14       1.5  79.861184\n",
       "16       1.7  79.805233\n",
       "28       2.9  79.669608\n",
       "23       2.4  79.656154\n",
       "11       1.2  79.652830\n",
       "18       1.9  79.597887\n",
       "30       3.1  79.486207\n",
       "6        0.7  79.438000\n",
       "9        1.0  79.437805\n",
       "15       1.6  79.431073\n",
       "31       3.2  79.149254\n",
       "5        0.6  79.125581\n",
       "1        0.2  79.116000\n",
       "52       5.3  79.081481\n",
       "8        0.9  79.061702\n",
       "21       2.2  78.837273\n",
       "3        0.4  78.775676\n",
       "10       1.1  78.652874\n",
       "4        0.5  78.597778\n",
       "19       2.0  78.547368\n",
       "0        0.1  78.468421"
      ]
     },
     "execution_count": 238,
     "metadata": {},
     "output_type": "execute_result"
    }
   ],
   "source": [
    "# Hier zien we een duidelijke afname in levensverwachting naarmate 'sugar' een hogere waarde aanneemt. \n",
    "# Hetzelfde kunnen we doen voor 'exercise'\n",
    "\n",
    "df[['exercise', 'lifespan']].groupby(['exercise'], as_index=False).mean().sort_values(by='lifespan', ascending=False)"
   ]
  },
  {
   "cell_type": "code",
   "execution_count": null,
   "id": "d484c2f7",
   "metadata": {},
   "outputs": [],
   "source": [
    "# Wat niet zozeer interessant is voor ons toekomstige model, maar wel interessant: hoe is het gesteld met het bewegen\n",
    "# in deze dataset; \n",
    "\n",
    "#df['exercise'].value_counts()"
   ]
  },
  {
   "cell_type": "code",
   "execution_count": 240,
   "id": "56e2b1ca",
   "metadata": {
    "tags": []
   },
   "outputs": [
    {
     "name": "stderr",
     "output_type": "stream",
     "text": [
      "C:\\Users\\noeki\\AppData\\Local\\Temp\\ipykernel_22908\\807874911.py:2: FutureWarning: The default value of numeric_only in DataFrame.corr is deprecated. In a future version, it will default to False. Select only valid columns or specify the value of numeric_only to silence this warning.\n",
      "  print(df.corr())\n",
      "C:\\Users\\noeki\\AppData\\Local\\Temp\\ipykernel_22908\\807874911.py:3: FutureWarning: The default value of numeric_only in DataFrame.corr is deprecated. In a future version, it will default to False. Select only valid columns or specify the value of numeric_only to silence this warning.\n",
      "  sns.heatmap(df.corr())\n"
     ]
    },
    {
     "name": "stdout",
     "output_type": "stream",
     "text": [
      "           genetic      mass  exercise   smoking   alcohol     sugar  lifespan\n",
      "genetic   1.000000  0.000700 -0.034775 -0.014621 -0.013156  0.018234  0.949813\n",
      "mass      0.000700  1.000000  0.007959 -0.009465  0.000815  0.005083 -0.065880\n",
      "exercise -0.034775  0.007959  1.000000  0.021698 -0.024652 -0.007952  0.083146\n",
      "smoking  -0.014621 -0.009465  0.021698  1.000000 -0.012308  0.008627 -0.245293\n",
      "alcohol  -0.013156  0.000815 -0.024652 -0.012308  1.000000  0.003585 -0.063553\n",
      "sugar     0.018234  0.005083 -0.007952  0.008627  0.003585  1.000000 -0.011203\n",
      "lifespan  0.949813 -0.065880  0.083146 -0.245293 -0.063553 -0.011203  1.000000\n"
     ]
    },
    {
     "data": {
      "text/plain": [
       "<AxesSubplot: >"
      ]
     },
     "execution_count": 240,
     "metadata": {},
     "output_type": "execute_result"
    },
    {
     "data": {
      "image/png": "[encoded data removed]",
      "text/plain": [
       "<Figure size 640x480 with 2 Axes>"
      ]
     },
     "metadata": {},
     "output_type": "display_data"
    }
   ],
   "source": [
    "#We kunnen nu kijken naar eventuele onderlinge correlaties:\n",
    "print(df.corr())\n",
    "sns.heatmap(df.corr())"
   ]
  },
  {
   "cell_type": "code",
   "execution_count": 270,
   "id": "9fb1d00d",
   "metadata": {
    "tags": []
   },
   "outputs": [
    {
     "data": {
      "text/plain": [
       "genetic     0.949799\n",
       "length      0.013155\n",
       "mass       -0.066040\n",
       "exercise    0.082986\n",
       "smoking    -0.246140\n",
       "alcohol    -0.063539\n",
       "sugar      -0.010887\n",
       "lifespan    1.000000\n",
       "Name: lifespan, dtype: float64"
      ]
     },
     "execution_count": 270,
     "metadata": {},
     "output_type": "execute_result"
    }
   ],
   "source": [
    "df.corr()['lifespan']"
   ]
  },
  {
   "cell_type": "code",
   "execution_count": 280,
   "id": "ad3dfbda",
   "metadata": {
    "tags": []
   },
   "outputs": [
    {
     "data": {
      "text/plain": [
       "<AxesSubplot: xlabel='genetic'>"
      ]
     },
     "execution_count": 280,
     "metadata": {},
     "output_type": "execute_result"
    },
    {
     "data": {
      "image/png": "[encoded data removed]",
      "text/plain": [
       "<Figure size 640x480 with 1 Axes>"
      ]
     },
     "metadata": {},
     "output_type": "display_data"
    }
   ],
   "source": [
    "#controleer op outliers met boxplots\n",
    "\n",
    "sns.boxplot(x=df['genetic'])\n",
    "\n",
    "#Alleen bij 'genetic' en 'lifespan' zijn er outliers. \n"
   ]
  }
 ],
 "metadata": {
  "kernelspec": {
   "display_name": "Python 3 (ipykernel)",
   "language": "python",
   "name": "python3"
  },
  "language_info": {
   "codemirror_mode": {
    "name": "ipython",
    "version": 3
   },
   "file_extension": ".py",
   "mimetype": "text/x-python",
   "name": "python",
   "nbconvert_exporter": "python",
   "pygments_lexer": "ipython3",
   "version": "3.10.10"
  }
 },
 "nbformat": 4,
 "nbformat_minor": 5
}
